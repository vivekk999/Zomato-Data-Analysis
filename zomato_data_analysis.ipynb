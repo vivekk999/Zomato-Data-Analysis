{
 "cells": [
  {
   "cell_type": "markdown",
   "metadata": {},
   "source": [
    "# ZOMATO DATA ANALYSIS\n",
    "\n",
    "I got the very interesting zomato data for the city Pune, we have lots of features telling lots of stories about the food habits in pune.\n",
    "I am curious to know the answers of some of the questions like...\n",
    "\n",
    "\n",
    "<b>\n",
    "    \n",
    "Ques-1 Which are the best rated restaurants in Pune?\n",
    "\n",
    "Ques-2 Which is the best rated location for food in Pune?\n",
    "\n",
    "Ques-3 What is most liked cuisine in Pune?\n",
    "\n",
    "Ques-4 Which are the cheap but best restaurants in Pune?\n",
    "\n",
    "Ques-5 Which restaurant serves the best \"BIRYANI\" in Pune?\n",
    "\n",
    "Ques-6 Baner being my favourite place in Pune, Which are the best restaurants in Baner?\n",
    "    \n",
    "</b>\n",
    "\n",
    "and so many other questions i have...\n",
    "    \n",
    "\n",
    "\n",
    "\n",
    "Lets explore this data and try to find the answers of these questions...\n"
   ]
  },
  {
   "cell_type": "code",
   "execution_count": 1,
   "metadata": {},
   "outputs": [],
   "source": [
    "#importing libraries\n",
    "import numpy as np \n",
    "import pandas as pd # data processing, CSV file I/O (e.g. pd.read_csv)\n",
    "import seaborn as sns\n",
    "import matplotlib.pyplot as plt\n",
    "\n",
    "\n",
    "\n"
   ]
  },
  {
   "cell_type": "code",
   "execution_count": 2,
   "metadata": {},
   "outputs": [],
   "source": [
    "#removing warnings\n",
    "import warnings\n",
    "warnings.filterwarnings('ignore')"
   ]
  },
  {
   "cell_type": "code",
   "execution_count": 3,
   "metadata": {},
   "outputs": [
    {
     "data": {
      "text/html": [
       "<div>\n",
       "<style scoped>\n",
       "    .dataframe tbody tr th:only-of-type {\n",
       "        vertical-align: middle;\n",
       "    }\n",
       "\n",
       "    .dataframe tbody tr th {\n",
       "        vertical-align: top;\n",
       "    }\n",
       "\n",
       "    .dataframe thead th {\n",
       "        text-align: right;\n",
       "    }\n",
       "</style>\n",
       "<table border=\"1\" class=\"dataframe\">\n",
       "  <thead>\n",
       "    <tr style=\"text-align: right;\">\n",
       "      <th></th>\n",
       "      <th>link</th>\n",
       "      <th>rest_name</th>\n",
       "      <th>rest_type</th>\n",
       "      <th>loc</th>\n",
       "      <th>dine_rating</th>\n",
       "      <th>dine_reviews</th>\n",
       "      <th>delivery_rating</th>\n",
       "      <th>delivery_reviews</th>\n",
       "      <th>cuisine</th>\n",
       "      <th>Unnamed: 9</th>\n",
       "      <th>Cost (RS)</th>\n",
       "      <th>cost</th>\n",
       "      <th>liked</th>\n",
       "    </tr>\n",
       "  </thead>\n",
       "  <tbody>\n",
       "    <tr>\n",
       "      <th>0</th>\n",
       "      <td>https://www.zomato.com/pune/mix@36-the-westin-...</td>\n",
       "      <td>Mix@36 - The Westin\\r\\r\\n                     ...</td>\n",
       "      <td>Lounge</td>\n",
       "      <td>The Westin, Mundhwa</td>\n",
       "      <td>4.2</td>\n",
       "      <td>(707 Reviews)</td>\n",
       "      <td>NaN</td>\n",
       "      <td>NaN</td>\n",
       "      <td>North Indian,Continental,Asian,Finger Food,</td>\n",
       "      <td>NaN</td>\n",
       "      <td>4300</td>\n",
       "      <td>Rs. 4300</td>\n",
       "      <td>Cocktails, Chaat, Beer</td>\n",
       "    </tr>\n",
       "    <tr>\n",
       "      <th>1</th>\n",
       "      <td>https://www.zomato.com/pune/kangan-the-westin-...</td>\n",
       "      <td>Kangan - The Westin\\r\\r\\n                     ...</td>\n",
       "      <td>Fine Dining</td>\n",
       "      <td>The Westin, Mundhwa</td>\n",
       "      <td>4.1</td>\n",
       "      <td>(344 Reviews)</td>\n",
       "      <td>NaN</td>\n",
       "      <td>NaN</td>\n",
       "      <td>North Indian,Mughlai,</td>\n",
       "      <td>NaN</td>\n",
       "      <td>3500</td>\n",
       "      <td>Rs. 3500</td>\n",
       "      <td>Biryani, Veg Platter, Dal Makhani, Butter Chic...</td>\n",
       "    </tr>\n",
       "    <tr>\n",
       "      <th>2</th>\n",
       "      <td>https://www.zomato.com/pune/coriander-kitchen-...</td>\n",
       "      <td>Coriander Kitchen - Conrad Pune\\r\\r\\n         ...</td>\n",
       "      <td>Fine Dining</td>\n",
       "      <td>Conrad Pune, Bund Garden Road</td>\n",
       "      <td>4.5</td>\n",
       "      <td>(541 Reviews)</td>\n",
       "      <td>NaN</td>\n",
       "      <td>NaN</td>\n",
       "      <td>Mediterranean,Asian,North Indian,</td>\n",
       "      <td>NaN</td>\n",
       "      <td>3200</td>\n",
       "      <td>Rs. 3200</td>\n",
       "      <td>Pasta, Panipuri, Waffles, Pizza, Salad, Chaat,...</td>\n",
       "    </tr>\n",
       "    <tr>\n",
       "      <th>3</th>\n",
       "      <td>https://www.zomato.com/pune/the-market-the-wes...</td>\n",
       "      <td>The Market - The Westin\\r\\r\\n                 ...</td>\n",
       "      <td>Fine Dining</td>\n",
       "      <td>The Westin, Mundhwa</td>\n",
       "      <td>4.0</td>\n",
       "      <td>(55 Reviews)</td>\n",
       "      <td>NaN</td>\n",
       "      <td>NaN</td>\n",
       "      <td>Asian,European,North Indian,</td>\n",
       "      <td>NaN</td>\n",
       "      <td>3200</td>\n",
       "      <td>Rs. 3200</td>\n",
       "      <td>Vanilla Ice Cream, Chaat, Sushi</td>\n",
       "    </tr>\n",
       "    <tr>\n",
       "      <th>4</th>\n",
       "      <td>https://www.zomato.com/pune/vandaag-vivanta-pu...</td>\n",
       "      <td>Vandaag - Vivanta Pune\\r\\r\\n                  ...</td>\n",
       "      <td>Pub,Casual Dining</td>\n",
       "      <td>Vivanta Pune, Hinjewadi</td>\n",
       "      <td>3.9</td>\n",
       "      <td>(113 Reviews)</td>\n",
       "      <td>NaN</td>\n",
       "      <td>NaN</td>\n",
       "      <td>Finger Food,Continental,</td>\n",
       "      <td>NaN</td>\n",
       "      <td>3100</td>\n",
       "      <td>Rs. 3100</td>\n",
       "      <td>Cocktails, Beer, Peri Peri Chicken, Fish, Veg ...</td>\n",
       "    </tr>\n",
       "  </tbody>\n",
       "</table>\n",
       "</div>"
      ],
      "text/plain": [
       "                                                link  \\\n",
       "0  https://www.zomato.com/pune/mix@36-the-westin-...   \n",
       "1  https://www.zomato.com/pune/kangan-the-westin-...   \n",
       "2  https://www.zomato.com/pune/coriander-kitchen-...   \n",
       "3  https://www.zomato.com/pune/the-market-the-wes...   \n",
       "4  https://www.zomato.com/pune/vandaag-vivanta-pu...   \n",
       "\n",
       "                                           rest_name          rest_type  \\\n",
       "0  Mix@36 - The Westin\\r\\r\\n                     ...             Lounge   \n",
       "1  Kangan - The Westin\\r\\r\\n                     ...        Fine Dining   \n",
       "2  Coriander Kitchen - Conrad Pune\\r\\r\\n         ...        Fine Dining   \n",
       "3  The Market - The Westin\\r\\r\\n                 ...        Fine Dining   \n",
       "4  Vandaag - Vivanta Pune\\r\\r\\n                  ...  Pub,Casual Dining   \n",
       "\n",
       "                             loc  dine_rating   dine_reviews  delivery_rating  \\\n",
       "0            The Westin, Mundhwa          4.2  (707 Reviews)              NaN   \n",
       "1            The Westin, Mundhwa          4.1  (344 Reviews)              NaN   \n",
       "2  Conrad Pune, Bund Garden Road          4.5  (541 Reviews)              NaN   \n",
       "3            The Westin, Mundhwa          4.0   (55 Reviews)              NaN   \n",
       "4        Vivanta Pune, Hinjewadi          3.9  (113 Reviews)              NaN   \n",
       "\n",
       "  delivery_reviews                                      cuisine  Unnamed: 9  \\\n",
       "0              NaN  North Indian,Continental,Asian,Finger Food,         NaN   \n",
       "1              NaN                        North Indian,Mughlai,         NaN   \n",
       "2              NaN            Mediterranean,Asian,North Indian,         NaN   \n",
       "3              NaN                 Asian,European,North Indian,         NaN   \n",
       "4              NaN                     Finger Food,Continental,         NaN   \n",
       "\n",
       "   Cost (RS)      cost                                              liked  \n",
       "0       4300  Rs. 4300                             Cocktails, Chaat, Beer  \n",
       "1       3500  Rs. 3500  Biryani, Veg Platter, Dal Makhani, Butter Chic...  \n",
       "2       3200  Rs. 3200  Pasta, Panipuri, Waffles, Pizza, Salad, Chaat,...  \n",
       "3       3200  Rs. 3200                    Vanilla Ice Cream, Chaat, Sushi  \n",
       "4       3100  Rs. 3100  Cocktails, Beer, Peri Peri Chicken, Fish, Veg ...  "
      ]
     },
     "execution_count": 3,
     "metadata": {},
     "output_type": "execute_result"
    }
   ],
   "source": [
    "#loading the csv file\n",
    "df= pd.read_csv(\"zomato_outlet_final (11).csv\")\n",
    "df.head()"
   ]
  },
  {
   "cell_type": "code",
   "execution_count": 4,
   "metadata": {},
   "outputs": [
    {
     "data": {
      "text/plain": [
       "Index(['link', 'rest_name', 'rest_type', 'loc', 'dine_rating', 'dine_reviews',\n",
       "       'delivery_rating', 'delivery_reviews', 'cuisine', 'Unnamed: 9',\n",
       "       'Cost (RS)', 'cost', 'liked'],\n",
       "      dtype='object')"
      ]
     },
     "execution_count": 4,
     "metadata": {},
     "output_type": "execute_result"
    }
   ],
   "source": [
    "df.columns"
   ]
  },
  {
   "cell_type": "code",
   "execution_count": 5,
   "metadata": {},
   "outputs": [
    {
     "data": {
      "text/html": [
       "<div>\n",
       "<style scoped>\n",
       "    .dataframe tbody tr th:only-of-type {\n",
       "        vertical-align: middle;\n",
       "    }\n",
       "\n",
       "    .dataframe tbody tr th {\n",
       "        vertical-align: top;\n",
       "    }\n",
       "\n",
       "    .dataframe thead th {\n",
       "        text-align: right;\n",
       "    }\n",
       "</style>\n",
       "<table border=\"1\" class=\"dataframe\">\n",
       "  <thead>\n",
       "    <tr style=\"text-align: right;\">\n",
       "      <th></th>\n",
       "      <th>rest_name</th>\n",
       "      <th>rest_type</th>\n",
       "      <th>loc</th>\n",
       "      <th>dine_rating</th>\n",
       "      <th>dine_reviews</th>\n",
       "      <th>delivery_rating</th>\n",
       "      <th>delivery_reviews</th>\n",
       "      <th>cuisine</th>\n",
       "      <th>Cost (RS)</th>\n",
       "      <th>cost</th>\n",
       "      <th>liked</th>\n",
       "    </tr>\n",
       "  </thead>\n",
       "  <tbody>\n",
       "    <tr>\n",
       "      <th>0</th>\n",
       "      <td>Mix@36 - The Westin\\r\\r\\n                     ...</td>\n",
       "      <td>Lounge</td>\n",
       "      <td>The Westin, Mundhwa</td>\n",
       "      <td>4.2</td>\n",
       "      <td>(707 Reviews)</td>\n",
       "      <td>NaN</td>\n",
       "      <td>NaN</td>\n",
       "      <td>North Indian,Continental,Asian,Finger Food,</td>\n",
       "      <td>4300</td>\n",
       "      <td>Rs. 4300</td>\n",
       "      <td>Cocktails, Chaat, Beer</td>\n",
       "    </tr>\n",
       "    <tr>\n",
       "      <th>1</th>\n",
       "      <td>Kangan - The Westin\\r\\r\\n                     ...</td>\n",
       "      <td>Fine Dining</td>\n",
       "      <td>The Westin, Mundhwa</td>\n",
       "      <td>4.1</td>\n",
       "      <td>(344 Reviews)</td>\n",
       "      <td>NaN</td>\n",
       "      <td>NaN</td>\n",
       "      <td>North Indian,Mughlai,</td>\n",
       "      <td>3500</td>\n",
       "      <td>Rs. 3500</td>\n",
       "      <td>Biryani, Veg Platter, Dal Makhani, Butter Chic...</td>\n",
       "    </tr>\n",
       "    <tr>\n",
       "      <th>2</th>\n",
       "      <td>Coriander Kitchen - Conrad Pune\\r\\r\\n         ...</td>\n",
       "      <td>Fine Dining</td>\n",
       "      <td>Conrad Pune, Bund Garden Road</td>\n",
       "      <td>4.5</td>\n",
       "      <td>(541 Reviews)</td>\n",
       "      <td>NaN</td>\n",
       "      <td>NaN</td>\n",
       "      <td>Mediterranean,Asian,North Indian,</td>\n",
       "      <td>3200</td>\n",
       "      <td>Rs. 3200</td>\n",
       "      <td>Pasta, Panipuri, Waffles, Pizza, Salad, Chaat,...</td>\n",
       "    </tr>\n",
       "    <tr>\n",
       "      <th>3</th>\n",
       "      <td>The Market - The Westin\\r\\r\\n                 ...</td>\n",
       "      <td>Fine Dining</td>\n",
       "      <td>The Westin, Mundhwa</td>\n",
       "      <td>4.0</td>\n",
       "      <td>(55 Reviews)</td>\n",
       "      <td>NaN</td>\n",
       "      <td>NaN</td>\n",
       "      <td>Asian,European,North Indian,</td>\n",
       "      <td>3200</td>\n",
       "      <td>Rs. 3200</td>\n",
       "      <td>Vanilla Ice Cream, Chaat, Sushi</td>\n",
       "    </tr>\n",
       "    <tr>\n",
       "      <th>4</th>\n",
       "      <td>Vandaag - Vivanta Pune\\r\\r\\n                  ...</td>\n",
       "      <td>Pub,Casual Dining</td>\n",
       "      <td>Vivanta Pune, Hinjewadi</td>\n",
       "      <td>3.9</td>\n",
       "      <td>(113 Reviews)</td>\n",
       "      <td>NaN</td>\n",
       "      <td>NaN</td>\n",
       "      <td>Finger Food,Continental,</td>\n",
       "      <td>3100</td>\n",
       "      <td>Rs. 3100</td>\n",
       "      <td>Cocktails, Beer, Peri Peri Chicken, Fish, Veg ...</td>\n",
       "    </tr>\n",
       "  </tbody>\n",
       "</table>\n",
       "</div>"
      ],
      "text/plain": [
       "                                           rest_name          rest_type  \\\n",
       "0  Mix@36 - The Westin\\r\\r\\n                     ...             Lounge   \n",
       "1  Kangan - The Westin\\r\\r\\n                     ...        Fine Dining   \n",
       "2  Coriander Kitchen - Conrad Pune\\r\\r\\n         ...        Fine Dining   \n",
       "3  The Market - The Westin\\r\\r\\n                 ...        Fine Dining   \n",
       "4  Vandaag - Vivanta Pune\\r\\r\\n                  ...  Pub,Casual Dining   \n",
       "\n",
       "                             loc  dine_rating   dine_reviews  delivery_rating  \\\n",
       "0            The Westin, Mundhwa          4.2  (707 Reviews)              NaN   \n",
       "1            The Westin, Mundhwa          4.1  (344 Reviews)              NaN   \n",
       "2  Conrad Pune, Bund Garden Road          4.5  (541 Reviews)              NaN   \n",
       "3            The Westin, Mundhwa          4.0   (55 Reviews)              NaN   \n",
       "4        Vivanta Pune, Hinjewadi          3.9  (113 Reviews)              NaN   \n",
       "\n",
       "  delivery_reviews                                      cuisine  Cost (RS)  \\\n",
       "0              NaN  North Indian,Continental,Asian,Finger Food,       4300   \n",
       "1              NaN                        North Indian,Mughlai,       3500   \n",
       "2              NaN            Mediterranean,Asian,North Indian,       3200   \n",
       "3              NaN                 Asian,European,North Indian,       3200   \n",
       "4              NaN                     Finger Food,Continental,       3100   \n",
       "\n",
       "       cost                                              liked  \n",
       "0  Rs. 4300                             Cocktails, Chaat, Beer  \n",
       "1  Rs. 3500  Biryani, Veg Platter, Dal Makhani, Butter Chic...  \n",
       "2  Rs. 3200  Pasta, Panipuri, Waffles, Pizza, Salad, Chaat,...  \n",
       "3  Rs. 3200                    Vanilla Ice Cream, Chaat, Sushi  \n",
       "4  Rs. 3100  Cocktails, Beer, Peri Peri Chicken, Fish, Veg ...  "
      ]
     },
     "execution_count": 5,
     "metadata": {},
     "output_type": "execute_result"
    }
   ],
   "source": [
    "#removing the unncessary column \"link\"\n",
    "df=df.drop(['link','Unnamed: 9'],axis=1)\n",
    "df.head()"
   ]
  },
  {
   "cell_type": "code",
   "execution_count": 6,
   "metadata": {
    "scrolled": true
   },
   "outputs": [
    {
     "data": {
      "text/plain": [
       "(5433, 11)"
      ]
     },
     "execution_count": 6,
     "metadata": {},
     "output_type": "execute_result"
    }
   ],
   "source": [
    "#we have 5433 restaurats in our data, including small tapris, medium size restaurants,\n",
    "#Bakeries, Dessert Parlours, Cake Shops, Bars, Big Restaurants, Casual Dinings etc.\n",
    "df.shape"
   ]
  },
  {
   "cell_type": "code",
   "execution_count": 7,
   "metadata": {
    "scrolled": true
   },
   "outputs": [
    {
     "name": "stdout",
     "output_type": "stream",
     "text": [
      "<class 'pandas.core.frame.DataFrame'>\n",
      "RangeIndex: 5433 entries, 0 to 5432\n",
      "Data columns (total 11 columns):\n",
      " #   Column            Non-Null Count  Dtype  \n",
      "---  ------            --------------  -----  \n",
      " 0   rest_name         5433 non-null   object \n",
      " 1   rest_type         4336 non-null   object \n",
      " 2   loc               5433 non-null   object \n",
      " 3   dine_rating       5433 non-null   float64\n",
      " 4   dine_reviews      4829 non-null   object \n",
      " 5   delivery_rating   2539 non-null   float64\n",
      " 6   delivery_reviews  2539 non-null   object \n",
      " 7   cuisine           5433 non-null   object \n",
      " 8   Cost (RS)         5433 non-null   int64  \n",
      " 9   cost              5433 non-null   object \n",
      " 10  liked             2603 non-null   object \n",
      "dtypes: float64(2), int64(1), object(8)\n",
      "memory usage: 467.0+ KB\n"
     ]
    }
   ],
   "source": [
    "df.info()"
   ]
  },
  {
   "cell_type": "markdown",
   "metadata": {},
   "source": [
    "We have some null values in some colums, we will handle them step by step"
   ]
  },
  {
   "cell_type": "code",
   "execution_count": 8,
   "metadata": {},
   "outputs": [
    {
     "data": {
      "text/plain": [
       "250"
      ]
     },
     "execution_count": 8,
     "metadata": {},
     "output_type": "execute_result"
    }
   ],
   "source": [
    "# lets find the duplicates in the data\n",
    "\n",
    "df.duplicated().sum()\n"
   ]
  },
  {
   "cell_type": "code",
   "execution_count": 9,
   "metadata": {},
   "outputs": [
    {
     "data": {
      "text/plain": [
       "(5183, 11)"
      ]
     },
     "execution_count": 9,
     "metadata": {},
     "output_type": "execute_result"
    }
   ],
   "source": [
    "#we have 250 rows which are duplicates, lets remove the duplicate values\n",
    "\n",
    "df=df.drop_duplicates()\n",
    "df.shape\n",
    "\n",
    "#after removing duplicate rows, we got 5183 restaurants in our dataset"
   ]
  },
  {
   "cell_type": "markdown",
   "metadata": {},
   "source": [
    "# Exploratory Data Analysis\n",
    "\n",
    "Lets do the EDA on Zomato to understand the data in depth.\n",
    "\n",
    "We gonna do Univariate Data Analysis and Bivariate Data Analysis\n",
    "\n"
   ]
  },
  {
   "cell_type": "markdown",
   "metadata": {},
   "source": [
    "# FEATURE-1(dine_rating)"
   ]
  },
  {
   "cell_type": "code",
   "execution_count": 15,
   "metadata": {},
   "outputs": [
    {
     "data": {
      "text/plain": [
       "Text(0, 0.5, 'count of restaurants')"
      ]
     },
     "execution_count": 15,
     "metadata": {},
     "output_type": "execute_result"
    },
    {
     "data": {
      "image/png": "[encoded data removed]",
      "text/plain": [
       "<Figure size 432x288 with 1 Axes>"
      ]
     },
     "metadata": {
      "needs_background": "light"
     },
     "output_type": "display_data"
    }
   ],
   "source": [
    "#lets plot the histogram\n",
    "plt.hist(df['dine_rating'])\n",
    "plt.xlabel(\"dine_rating\")\n",
    "plt.ylabel(\"count of restaurants\")\n"
   ]
  },
  {
   "cell_type": "markdown",
   "metadata": {},
   "source": [
    "# OBSERVATIONS\n",
    "\n",
    "1.More than 500 restaurnants have 0 ratings\n",
    "\n",
    "2.Most of the restaurants got rating between 3.5 to 4 and thats a good news for zomato.\n",
    "\n",
    "3.There are no restaurants which got 1 as a rating in our data."
   ]
  },
  {
   "cell_type": "code",
   "execution_count": 27,
   "metadata": {},
   "outputs": [
    {
     "data": {
      "text/plain": [
       "<AxesSubplot:xlabel='dine_rating', ylabel='Count'>"
      ]
     },
     "execution_count": 27,
     "metadata": {},
     "output_type": "execute_result"
    },
    {
     "data": {
      "image/png": "[encoded data removed]",
      "text/plain": [
       "<Figure size 1080x576 with 1 Axes>"
      ]
     },
     "metadata": {
      "needs_background": "light"
     },
     "output_type": "display_data"
    }
   ],
   "source": [
    "#bar plot\n",
    "dine=df['dine_rating'].value_counts()\n",
    "plt.figure(figsize=(15,8))\n",
    "\n",
    "\n",
    "index_d=dine.index\n",
    "\n",
    "plt.xlabel(\"dine_rating\")\n",
    "plt.ylabel(\"Count\")\n",
    "sns.barplot(dine.index,dine.values)"
   ]
  },
  {
   "cell_type": "markdown",
   "metadata": {},
   "source": [
    "# Observation\n",
    "\n",
    "1. Most of the customers have ordered 3.9 rating.\n",
    "\n",
    "\n",
    "2. There are lots of restaurants which got 0 ratings.\n",
    "\n"
   ]
  },
  {
   "cell_type": "markdown",
   "metadata": {},
   "source": [
    "# Feature-2(Rest_type- Restaurant_type)"
   ]
  },
  {
   "cell_type": "code",
   "execution_count": 16,
   "metadata": {},
   "outputs": [
    {
     "name": "stdout",
     "output_type": "stream",
     "text": [
      "67\n"
     ]
    }
   ],
   "source": [
    "print(len(df['rest_type'].unique()))"
   ]
  },
  {
   "cell_type": "markdown",
   "metadata": {},
   "source": [
    "There are 67 types of restaurant types in pune"
   ]
  },
  {
   "cell_type": "code",
   "execution_count": 17,
   "metadata": {
    "scrolled": true
   },
   "outputs": [
    {
     "data": {
      "text/plain": [
       "Quick Bites                   1467\n",
       "Casual Dining                  911\n",
       "Bakery                         329\n",
       "Dessert Parlor                 308\n",
       "Casual Dining,Bar              241\n",
       "                              ... \n",
       "Casual Dining,Bakery             1\n",
       "Kiosk,Quick Bites                1\n",
       "Dhaba,Bar                        1\n",
       "Microbrewery,Casual Dining       1\n",
       "Paan Shop                        1\n",
       "Name: rest_type, Length: 66, dtype: int64"
      ]
     },
     "execution_count": 17,
     "metadata": {},
     "output_type": "execute_result"
    }
   ],
   "source": [
    "#lets count the number of each Type\n",
    "df['rest_type'].value_counts()"
   ]
  },
  {
   "cell_type": "markdown",
   "metadata": {},
   "source": [
    "# Which Types of restaurants are leaders in pune?"
   ]
  },
  {
   "cell_type": "code",
   "execution_count": 23,
   "metadata": {},
   "outputs": [
    {
     "name": "stdout",
     "output_type": "stream",
     "text": [
      "Quick Bites              1467\n",
      "Casual Dining             911\n",
      "Bakery                    329\n",
      "Dessert Parlor            308\n",
      "Casual Dining,Bar         241\n",
      "Café                      204\n",
      "Bar,Casual Dining         126\n",
      "Bakery,Dessert Parlor      69\n",
      "Sweet Shop                 54\n",
      "Beverage Shop              54\n",
      "Name: rest_type, dtype: int64\n"
     ]
    }
   ],
   "source": [
    "rest_type_values=df['rest_type'].value_counts()[:10]\n",
    "print(rest_type_values)"
   ]
  },
  {
   "cell_type": "code",
   "execution_count": 32,
   "metadata": {},
   "outputs": [
    {
     "data": {
      "text/plain": [
       "<AxesSubplot:xlabel='rest_type'>"
      ]
     },
     "execution_count": 32,
     "metadata": {},
     "output_type": "execute_result"
    },
    {
     "data": {
      "image/png": "[encoded data removed]",
      "text/plain": [
       "<Figure size 1080x576 with 1 Axes>"
      ]
     },
     "metadata": {
      "needs_background": "light"
     },
     "output_type": "display_data"
    }
   ],
   "source": [
    "plt.figure(figsize=(15,8))\n",
    "\n",
    "sns.barplot(rest_type_values,rest_type_values.index)"
   ]
  },
  {
   "cell_type": "markdown",
   "metadata": {},
   "source": [
    "We can see, there are mostly quick bites restaurants, followed by casual dining and bakery"
   ]
  },
  {
   "cell_type": "code",
   "execution_count": 30,
   "metadata": {},
   "outputs": [
    {
     "data": {
      "text/plain": [
       "(-1.115966210982468,\n",
       " 1.1007602957610698,\n",
       " -1.1045741430922396,\n",
       " 1.1200009987171933)"
      ]
     },
     "execution_count": 30,
     "metadata": {},
     "output_type": "execute_result"
    },
    {
     "data": {
      "image/png": "[encoded data removed]",
      "text/plain": [
       "<Figure size 432x288 with 1 Axes>"
      ]
     },
     "metadata": {},
     "output_type": "display_data"
    }
   ],
   "source": [
    "#pie chart\n",
    "\n",
    "\n",
    "labels = rest_type_values.index\n",
    "sizes =rest_type_values.values \n",
    "\n",
    "plt.pie(sizes,  labels=labels, autopct='%1.1f%%',shadow=True)\n",
    "plt.axis('equal')"
   ]
  },
  {
   "cell_type": "markdown",
   "metadata": {},
   "source": [
    "# Observation\n",
    "\n",
    "1. 39% of the restaurants in pune are Quick bites.\n",
    "\n",
    "\n",
    "2. 24.2% of the restaurants in pune are Casual dining.\n",
    "\n",
    "\n",
    "3. 8.7 % of the restaurants in pune are Bakeries."
   ]
  },
  {
   "cell_type": "markdown",
   "metadata": {},
   "source": [
    "# Feature-3(Cuisines)"
   ]
  },
  {
   "cell_type": "code",
   "execution_count": 34,
   "metadata": {},
   "outputs": [
    {
     "data": {
      "text/plain": [
       "0       North Indian,Continental,Asian,Finger Food,\n",
       "1                             North Indian,Mughlai,\n",
       "2                 Mediterranean,Asian,North Indian,\n",
       "3                      Asian,European,North Indian,\n",
       "4                          Finger Food,Continental,\n",
       "                           ...                     \n",
       "5428             South Indian,Chinese,North Indian,\n",
       "5429                               Mughlai,Iranian,\n",
       "5430                Chinese,Fast Food,North Indian,\n",
       "5431       Beverages,Chinese,Street Food,Fast Food,\n",
       "5432                                  Thai,Chinese,\n",
       "Name: cuisine, Length: 5183, dtype: object"
      ]
     },
     "execution_count": 34,
     "metadata": {},
     "output_type": "execute_result"
    }
   ],
   "source": [
    "# we can see that a restaurant can have multiple cuisine\n",
    "df['cuisine']"
   ]
  },
  {
   "cell_type": "markdown",
   "metadata": {},
   "source": [
    "# Lets see what all cuisine Pune serves to us..."
   ]
  },
  {
   "cell_type": "code",
   "execution_count": 32,
   "metadata": {
    "scrolled": true
   },
   "outputs": [
    {
     "name": "stdout",
     "output_type": "stream",
     "text": [
      "['North Indian', 'Continental', 'Asian', 'Finger Food', '', 'Mughlai', 'Mediterranean', 'European', 'Salad', 'Malaysian', 'Vietnamese', 'Thai', 'Chinese', 'Japanese', 'Biryani', 'Kebab', 'Italian', 'Bar Food', 'Seafood', 'Fast Food', 'Healthy Food', 'Mexican', 'Desserts', 'American', 'Greek', 'Maharashtrian', 'Beverages', 'South American', 'Steak', 'Brazilian', 'Malwani', 'South Indian', 'Chettinad', 'Kerala', 'Mangalorean', 'Pizza', 'Iranian', 'Goan', 'Charcoal Chicken', 'Cafe', 'Modern Indian', 'Korean', 'Sushi', 'Cantonese', 'Momos', 'Bakery', 'Tea', 'BBQ', 'Mongolian', 'Tex-Mex', 'Lebanese', 'Street Food', 'Cuisine Varies', 'Sandwich', 'Middle Eastern', 'African', 'Ethiopian', 'Burger', 'Hyderabadi', 'Parsi', 'German', 'Konkan', 'Rolls', 'Singaporean', 'Indonesian', 'Rajasthani', 'Lucknowi', 'Burmese', 'Bengali', 'Ice Cream', 'Kashmiri', 'Arabian', 'Gujarati', 'French', 'Tibetan', 'Coffee', 'Mithai', 'Bihari', 'Wraps', 'Odia', 'Juices', 'Raw Meats', 'Turkish', 'Frozen Yogurt', 'Awadhi', 'Afghan', 'Paan', 'Assamese', 'Andhra', 'Panini', 'Mishti', 'Naga']\n",
      "92\n"
     ]
    }
   ],
   "source": [
    "#NUMBER OF CUISINE IN PUNE\n",
    "cuisine=[]\n",
    "for i in df['cuisine']:\n",
    "    for j in i.split(\",\"):\n",
    "        if j not in cuisine:\n",
    "            cuisine.append(j)\n",
    "print(cuisine)\n",
    "print(len(cuisine))\n",
    "\n",
    "#there are 92 total cuisine in all the restaurant in pune"
   ]
  },
  {
   "cell_type": "markdown",
   "metadata": {},
   "source": [
    "We can see there are lots of cuisines in pune, some of them are are not cuisines like Coffee, Mithai etc but in data we have it like that\n"
   ]
  },
  {
   "cell_type": "markdown",
   "metadata": {},
   "source": [
    "# Total number of restaurants serving biryani in Pune"
   ]
  },
  {
   "cell_type": "code",
   "execution_count": 12,
   "metadata": {},
   "outputs": [
    {
     "name": "stdout",
     "output_type": "stream",
     "text": [
      "2057\n"
     ]
    }
   ],
   "source": [
    "count=0\n",
    "for i in df['cuisine']:\n",
    "    for j in i.split(\",\"):\n",
    "        if j ==\"North Indian\":\n",
    "            count=count+1\n",
    "print(count)\n",
    "\n",
    "#There are 566 restaurant in pune which serves biryani"
   ]
  },
  {
   "cell_type": "markdown",
   "metadata": {},
   "source": [
    "# Total number of restaurants serving North Indian Food in Pune"
   ]
  },
  {
   "cell_type": "code",
   "execution_count": 13,
   "metadata": {},
   "outputs": [
    {
     "name": "stdout",
     "output_type": "stream",
     "text": [
      "566\n"
     ]
    }
   ],
   "source": [
    "count=0\n",
    "for i in df['cuisine']:\n",
    "    for j in i.split(\",\"):\n",
    "        if j ==\"Biryani\":\n",
    "            count=count+1\n",
    "print(count)\n",
    "\n",
    "#There are 2057 restaurants out of 5183 restaurants(almost 40%) which serves North Indian Food"
   ]
  },
  {
   "cell_type": "markdown",
   "metadata": {},
   "source": [
    "# Feature-4(loc-location where the restaurant is situated)"
   ]
  },
  {
   "cell_type": "code",
   "execution_count": 11,
   "metadata": {},
   "outputs": [
    {
     "name": "stdout",
     "output_type": "stream",
     "text": [
      "Kothrud            264\n",
      "Wakad              225\n",
      "Viman Nagar        224\n",
      "Baner              219\n",
      "Hinjawadi          213\n",
      "Hadapsar           183\n",
      "Kharadi            180\n",
      "Sinhgad Road       142\n",
      "Pimple Saudagar    134\n",
      "Koregaon Park      123\n",
      "Name: loc, dtype: int64\n"
     ]
    }
   ],
   "source": [
    "total_locations=df['loc'].value_counts()\n",
    "top_total_locations=df['loc'].value_counts()[:10]\n",
    "print(top_total_locations)\n",
    "\n",
    "places=top_total_locations.index\n",
    "\n",
    "#these are the location with the maximum number of restaurants in pune"
   ]
  },
  {
   "cell_type": "code",
   "execution_count": 12,
   "metadata": {},
   "outputs": [
    {
     "data": {
      "text/plain": [
       "<AxesSubplot:xlabel='loc'>"
      ]
     },
     "execution_count": 12,
     "metadata": {},
     "output_type": "execute_result"
    },
    {
     "data": {
      "image/png": "[encoded data removed]",
      "text/plain": [
       "<Figure size 432x288 with 1 Axes>"
      ]
     },
     "metadata": {
      "needs_background": "light"
     },
     "output_type": "display_data"
    }
   ],
   "source": [
    "sns.barplot(top_total_locations,places)"
   ]
  },
  {
   "cell_type": "markdown",
   "metadata": {},
   "source": [
    "# Observation\n",
    "\n",
    "Kothrud has the maximum number of restaurants followed by wakad and viman nagar"
   ]
  },
  {
   "cell_type": "code",
   "execution_count": 16,
   "metadata": {},
   "outputs": [
    {
     "data": {
      "text/plain": [
       "(-1.106081493738245,\n",
       " 1.1002895949399165,\n",
       " -1.1035496093886763,\n",
       " 1.1045536352361645)"
      ]
     },
     "execution_count": 16,
     "metadata": {},
     "output_type": "execute_result"
    },
    {
     "data": {
      "image/png": "[encoded data removed]",
      "text/plain": [
       "<Figure size 432x288 with 1 Axes>"
      ]
     },
     "metadata": {},
     "output_type": "display_data"
    }
   ],
   "source": [
    "labels = top_total_locations.index\n",
    "sizes =top_total_locations.values \n",
    "\n",
    "plt.pie(sizes, labels=labels, autopct='%1.1f%%',\n",
    "        shadow=True)\n",
    "plt.axis('equal')"
   ]
  },
  {
   "cell_type": "markdown",
   "metadata": {},
   "source": [
    "# Observation\n",
    "\n",
    "1. Kothrud covers 13.8% of top 10 locations in pune.\n",
    "\n",
    "\n",
    "2. Viman Nagar and Baner covers almost 11.5% of the top 10 locations in pune"
   ]
  },
  {
   "cell_type": "markdown",
   "metadata": {},
   "source": [
    "# FEATURE-5(delivery_rating)"
   ]
  },
  {
   "cell_type": "code",
   "execution_count": 17,
   "metadata": {},
   "outputs": [
    {
     "data": {
      "text/plain": [
       "3.9    446\n",
       "3.8    280\n",
       "4.0    242\n",
       "4.1    227\n",
       "3.7    212\n",
       "4.2    172\n",
       "3.6    164\n",
       "3.5    123\n",
       "4.3     96\n",
       "3.4     90\n",
       "3.3     88\n",
       "4.4     58\n",
       "3.2     58\n",
       "3.1     37\n",
       "4.5     36\n",
       "3.0     24\n",
       "4.6     18\n",
       "2.9     13\n",
       "2.7      7\n",
       "2.6      6\n",
       "2.8      6\n",
       "4.7      3\n",
       "4.8      1\n",
       "2.0      1\n",
       "2.2      1\n",
       "Name: delivery_rating, dtype: int64"
      ]
     },
     "execution_count": 17,
     "metadata": {},
     "output_type": "execute_result"
    }
   ],
   "source": [
    "deliver=df['delivery_rating'].value_counts()\n",
    "deliver"
   ]
  },
  {
   "cell_type": "code",
   "execution_count": 18,
   "metadata": {},
   "outputs": [
    {
     "data": {
      "text/plain": [
       "<AxesSubplot:ylabel='delivery_rating'>"
      ]
     },
     "execution_count": 18,
     "metadata": {},
     "output_type": "execute_result"
    },
    {
     "data": {
      "image/png": "[encoded data removed]",
      "text/plain": [
       "<Figure size 1080x576 with 1 Axes>"
      ]
     },
     "metadata": {
      "needs_background": "light"
     },
     "output_type": "display_data"
    }
   ],
   "source": [
    "plt.figure(figsize=(15,8))\n",
    "\n",
    "\n",
    "sns.barplot(deliver.index,deliver)"
   ]
  },
  {
   "cell_type": "markdown",
   "metadata": {},
   "source": [
    "# Observation\n",
    "\n",
    "1.Most of the restaurant gets 3.9 delievery rating\n",
    "\n",
    "2.There are very few restaurants who get less than 2.5 rating.\n",
    "\n"
   ]
  },
  {
   "cell_type": "code",
   "execution_count": 19,
   "metadata": {},
   "outputs": [
    {
     "data": {
      "text/plain": [
       "Text(0, 0.5, 'count of restaurants')"
      ]
     },
     "execution_count": 19,
     "metadata": {},
     "output_type": "execute_result"
    },
    {
     "data": {
      "image/png": "[encoded data removed]",
      "text/plain": [
       "<Figure size 432x288 with 1 Axes>"
      ]
     },
     "metadata": {
      "needs_background": "light"
     },
     "output_type": "display_data"
    }
   ],
   "source": [
    "#lets plot the histogram\n",
    "plt.hist(df['delivery_rating'])\n",
    "plt.xlabel(\"delivery_rating\")\n",
    "plt.ylabel(\"count of restaurants\")\n",
    "\n"
   ]
  },
  {
   "cell_type": "code",
   "execution_count": 20,
   "metadata": {},
   "outputs": [
    {
     "data": {
      "text/plain": [
       "Index(['rest_name', 'rest_type', 'loc', 'dine_rating', 'dine_reviews',\n",
       "       'delivery_rating', 'delivery_reviews', 'cuisine', 'Cost (RS)', 'cost',\n",
       "       'liked'],\n",
       "      dtype='object')"
      ]
     },
     "execution_count": 20,
     "metadata": {},
     "output_type": "execute_result"
    }
   ],
   "source": [
    "df.columns"
   ]
  },
  {
   "cell_type": "markdown",
   "metadata": {
    "scrolled": true
   },
   "source": [
    "# Feature-5 Cost (RS)\n",
    "\n",
    "We are assuming that this is the average cost of 2 people.\n"
   ]
  },
  {
   "cell_type": "code",
   "execution_count": 24,
   "metadata": {},
   "outputs": [
    {
     "data": {
      "text/plain": [
       "300     759\n",
       "400     624\n",
       "500     525\n",
       "200     352\n",
       "600     321\n",
       "350     313\n",
       "250     217\n",
       "150     198\n",
       "700     185\n",
       "1200    176\n",
       "Name: Cost (RS), dtype: int64"
      ]
     },
     "execution_count": 24,
     "metadata": {},
     "output_type": "execute_result"
    }
   ],
   "source": [
    "cost=df['Cost (RS)'].value_counts()[:10]\n",
    "cost"
   ]
  },
  {
   "cell_type": "code",
   "execution_count": 25,
   "metadata": {},
   "outputs": [
    {
     "data": {
      "text/plain": [
       "<AxesSubplot:ylabel='Cost (RS)'>"
      ]
     },
     "execution_count": 25,
     "metadata": {},
     "output_type": "execute_result"
    },
    {
     "data": {
      "image/png": "[encoded data removed]",
      "text/plain": [
       "<Figure size 1080x576 with 1 Axes>"
      ]
     },
     "metadata": {
      "needs_background": "light"
     },
     "output_type": "display_data"
    }
   ],
   "source": [
    "plt.figure(figsize=(15,8))\n",
    "\n",
    "\n",
    "sns.barplot(cost.index,cost)"
   ]
  },
  {
   "cell_type": "markdown",
   "metadata": {},
   "source": [
    "# Observation\n",
    "\n",
    "1. There are 759 restaurants which that cost Rs300 for 2 people.\n",
    "\n",
    "\n",
    "2. There are 624 restaurants which that cost Rs400 for 2 people."
   ]
  },
  {
   "cell_type": "code",
   "execution_count": 26,
   "metadata": {},
   "outputs": [
    {
     "data": {
      "text/plain": [
       "(array([2.717e+03, 1.404e+03, 5.750e+02, 3.060e+02, 1.200e+02, 3.400e+01,\n",
       "        2.000e+01, 5.000e+00, 1.000e+00, 1.000e+00]),\n",
       " array([  50.,  475.,  900., 1325., 1750., 2175., 2600., 3025., 3450.,\n",
       "        3875., 4300.]),\n",
       " <BarContainer object of 10 artists>)"
      ]
     },
     "execution_count": 26,
     "metadata": {},
     "output_type": "execute_result"
    },
    {
     "data": {
      "image/png": "[encoded data removed]",
      "text/plain": [
       "<Figure size 432x288 with 1 Axes>"
      ]
     },
     "metadata": {
      "needs_background": "light"
     },
     "output_type": "display_data"
    }
   ],
   "source": [
    "#lets plot the histogram\n",
    "plt.hist(df['Cost (RS)'])\n",
    "\n",
    "\n"
   ]
  },
  {
   "cell_type": "code",
   "execution_count": 21,
   "metadata": {},
   "outputs": [
    {
     "data": {
      "text/plain": [
       "<AxesSubplot:xlabel='Cost (RS)', ylabel='delivery_rating'>"
      ]
     },
     "execution_count": 21,
     "metadata": {},
     "output_type": "execute_result"
    },
    {
     "data": {
      "image/png": "[encoded data removed]",
      "text/plain": [
       "<Figure size 432x288 with 1 Axes>"
      ]
     },
     "metadata": {
      "needs_background": "light"
     },
     "output_type": "display_data"
    }
   ],
   "source": [
    "#scatter plot\n",
    "sns.scatterplot(df[\"Cost (RS)\"],df[\"delivery_rating\"])"
   ]
  },
  {
   "cell_type": "markdown",
   "metadata": {},
   "source": [
    "# Observation\n",
    "\n",
    "1. There are obviously more ratings for the food which cost less than Rs500.\n",
    "\n",
    "\n",
    "2. There are also restaurants which cost almost 2000 but has delivery_rating less than 3."
   ]
  },
  {
   "cell_type": "code",
   "execution_count": 28,
   "metadata": {},
   "outputs": [
    {
     "data": {
      "text/plain": [
       "<AxesSubplot:xlabel='Cost (RS)', ylabel='dine_rating'>"
      ]
     },
     "execution_count": 28,
     "metadata": {},
     "output_type": "execute_result"
    },
    {
     "data": {
      "image/png": "[encoded data removed]",
      "text/plain": [
       "<Figure size 432x288 with 1 Axes>"
      ]
     },
     "metadata": {
      "needs_background": "light"
     },
     "output_type": "display_data"
    }
   ],
   "source": [
    "sns.scatterplot(df[\"Cost (RS)\"],df[\"dine_rating\"])"
   ]
  },
  {
   "cell_type": "markdown",
   "metadata": {},
   "source": [
    "# Observation\n",
    "\n",
    "1. Obviosly there are more ratings for the food which cost less than 1000.\n",
    "\n",
    "\n",
    "2. There are restaurants which does have rating irrespective of cost.\n",
    "\n",
    "\n",
    "3. As cost increases, rating moves to 3 to 5, it means people are rating high to costly restaurnts."
   ]
  },
  {
   "cell_type": "markdown",
   "metadata": {},
   "source": [
    "# Let's do some more Questions\n",
    "\n",
    "Q1. Create a dataframe for all the restaurants\n",
    "    which belong to KOTHRUD?\n",
    "    \n",
    "Q2. Which are the highly rated restaurants in BANER?\n",
    "\n",
    "Q3. Which are restaurtants which got 0 rating \n",
    "    the city PUNE?\n",
    "    \n",
    "Q4. Return the location in pune with the best restaurants?\n",
    "\n",
    "Q5. Plot the bar chart of top 10 locations rating wise in \n",
    "    pune?\n",
    "\n"
   ]
  },
  {
   "cell_type": "markdown",
   "metadata": {},
   "source": [
    "# Dataframe for all the restaurants which belong to KOTHRUD?"
   ]
  },
  {
   "cell_type": "code",
   "execution_count": 71,
   "metadata": {
    "scrolled": true
   },
   "outputs": [
    {
     "data": {
      "text/html": [
       "<div>\n",
       "<style scoped>\n",
       "    .dataframe tbody tr th:only-of-type {\n",
       "        vertical-align: middle;\n",
       "    }\n",
       "\n",
       "    .dataframe tbody tr th {\n",
       "        vertical-align: top;\n",
       "    }\n",
       "\n",
       "    .dataframe thead th {\n",
       "        text-align: right;\n",
       "    }\n",
       "</style>\n",
       "<table border=\"1\" class=\"dataframe\">\n",
       "  <thead>\n",
       "    <tr style=\"text-align: right;\">\n",
       "      <th></th>\n",
       "      <th>0</th>\n",
       "      <th>Cost (RS)</th>\n",
       "      <th>cost</th>\n",
       "      <th>cuisine</th>\n",
       "      <th>delivery_rating</th>\n",
       "      <th>delivery_reviews</th>\n",
       "      <th>dine_rating</th>\n",
       "      <th>dine_reviews</th>\n",
       "      <th>liked</th>\n",
       "      <th>loc</th>\n",
       "      <th>rest_name</th>\n",
       "      <th>rest_type</th>\n",
       "    </tr>\n",
       "  </thead>\n",
       "  <tbody>\n",
       "    <tr>\n",
       "      <th>161</th>\n",
       "      <td>NaN</td>\n",
       "      <td>1700.0</td>\n",
       "      <td>Rs. 1700</td>\n",
       "      <td>Beverages,Chinese,Continental,</td>\n",
       "      <td>NaN</td>\n",
       "      <td>NaN</td>\n",
       "      <td>0.0</td>\n",
       "      <td>NaN</td>\n",
       "      <td>NaN</td>\n",
       "      <td>Kothrud</td>\n",
       "      <td>The 3 Musketeers Sky Gallary\\r\\r\\n            ...</td>\n",
       "      <td>Casual Dining,Bar</td>\n",
       "    </tr>\n",
       "    <tr>\n",
       "      <th>183</th>\n",
       "      <td>NaN</td>\n",
       "      <td>1600.0</td>\n",
       "      <td>Rs. 1600</td>\n",
       "      <td>European,Middle Eastern,Continental,North Indi...</td>\n",
       "      <td>NaN</td>\n",
       "      <td>NaN</td>\n",
       "      <td>4.1</td>\n",
       "      <td>(238 Reviews)</td>\n",
       "      <td>NaN</td>\n",
       "      <td>Kothrud</td>\n",
       "      <td>Bacharika- Rooftop Bar And Kitchen\\r\\r\\n      ...</td>\n",
       "      <td>Casual Dining,Bar</td>\n",
       "    </tr>\n",
       "    <tr>\n",
       "      <th>191</th>\n",
       "      <td>NaN</td>\n",
       "      <td>1600.0</td>\n",
       "      <td>Rs. 1600</td>\n",
       "      <td>North Indian,Chinese,</td>\n",
       "      <td>NaN</td>\n",
       "      <td>NaN</td>\n",
       "      <td>3.7</td>\n",
       "      <td>(38 Reviews)</td>\n",
       "      <td>NaN</td>\n",
       "      <td>Kothrud</td>\n",
       "      <td>ALC Bar &amp; Bites\\r\\r\\n                         ...</td>\n",
       "      <td>Bar,Casual Dining</td>\n",
       "    </tr>\n",
       "    <tr>\n",
       "      <th>214</th>\n",
       "      <td>NaN</td>\n",
       "      <td>1500.0</td>\n",
       "      <td>Rs. 1500</td>\n",
       "      <td>Finger Food,North Indian,Asian,Continental,</td>\n",
       "      <td>4.3</td>\n",
       "      <td>-1,797</td>\n",
       "      <td>4.6</td>\n",
       "      <td>-1,591</td>\n",
       "      <td>Cocktails, Pizza, Pasta, Filtered Coffee, Nach...</td>\n",
       "      <td>Kothrud</td>\n",
       "      <td>Barometer\\r\\r\\n                               ...</td>\n",
       "      <td>Casual Dining</td>\n",
       "    </tr>\n",
       "    <tr>\n",
       "      <th>236</th>\n",
       "      <td>NaN</td>\n",
       "      <td>1000.0</td>\n",
       "      <td>Rs. 1000</td>\n",
       "      <td>Beverages,Desserts,Cafe,Italian,Continental,Ge...</td>\n",
       "      <td>NaN</td>\n",
       "      <td>NaN</td>\n",
       "      <td>3.0</td>\n",
       "      <td>(91 Reviews)</td>\n",
       "      <td>NaN</td>\n",
       "      <td>Kothrud</td>\n",
       "      <td>German Bakery Wunderbar\\r\\r\\n                 ...</td>\n",
       "      <td>Casual Dining</td>\n",
       "    </tr>\n",
       "    <tr>\n",
       "      <th>...</th>\n",
       "      <td>...</td>\n",
       "      <td>...</td>\n",
       "      <td>...</td>\n",
       "      <td>...</td>\n",
       "      <td>...</td>\n",
       "      <td>...</td>\n",
       "      <td>...</td>\n",
       "      <td>...</td>\n",
       "      <td>...</td>\n",
       "      <td>...</td>\n",
       "      <td>...</td>\n",
       "      <td>...</td>\n",
       "    </tr>\n",
       "    <tr>\n",
       "      <th>5386</th>\n",
       "      <td>NaN</td>\n",
       "      <td>800.0</td>\n",
       "      <td>Rs. 800</td>\n",
       "      <td>Konkan,Seafood,Goan,Mangalorean,</td>\n",
       "      <td>4.0</td>\n",
       "      <td>-355</td>\n",
       "      <td>4.2</td>\n",
       "      <td>-271</td>\n",
       "      <td>Sea Food, Neer Dosa, Sol Kadhi, Fry Prawns, Su...</td>\n",
       "      <td>Baner</td>\n",
       "      <td>I'm Lion, Strictly Non-Veg\\r\\n                ...</td>\n",
       "      <td>Casual Dining</td>\n",
       "    </tr>\n",
       "    <tr>\n",
       "      <th>5390</th>\n",
       "      <td>NaN</td>\n",
       "      <td>900.0</td>\n",
       "      <td>Rs. 900</td>\n",
       "      <td>Italian,Continental,Chinese,North Indian,</td>\n",
       "      <td>3.6</td>\n",
       "      <td>-842</td>\n",
       "      <td>4.2</td>\n",
       "      <td>-248</td>\n",
       "      <td>Mocktails, Brownie, Caramel Custard, Paan Moji...</td>\n",
       "      <td>Baner</td>\n",
       "      <td>The Curious Kitchen &amp; Bar\\r\\n                 ...</td>\n",
       "      <td>Casual Dining,Bar</td>\n",
       "    </tr>\n",
       "    <tr>\n",
       "      <th>5417</th>\n",
       "      <td>NaN</td>\n",
       "      <td>300.0</td>\n",
       "      <td>Rs. 300</td>\n",
       "      <td>North Indian,</td>\n",
       "      <td>NaN</td>\n",
       "      <td>NaN</td>\n",
       "      <td>4.0</td>\n",
       "      <td>(137 Reviews)</td>\n",
       "      <td>NaN</td>\n",
       "      <td>Baner</td>\n",
       "      <td>Punjabi Rasoi\\r\\n                             ...</td>\n",
       "      <td>NaN</td>\n",
       "    </tr>\n",
       "    <tr>\n",
       "      <th>5418</th>\n",
       "      <td>NaN</td>\n",
       "      <td>150.0</td>\n",
       "      <td>Rs. 150</td>\n",
       "      <td>Bakery,</td>\n",
       "      <td>NaN</td>\n",
       "      <td>NaN</td>\n",
       "      <td>4.0</td>\n",
       "      <td>(49 Reviews)</td>\n",
       "      <td>NaN</td>\n",
       "      <td>Baner</td>\n",
       "      <td>Tokyo Bakery\\r\\n                              ...</td>\n",
       "      <td>Bakery</td>\n",
       "    </tr>\n",
       "    <tr>\n",
       "      <th>5420</th>\n",
       "      <td>NaN</td>\n",
       "      <td>300.0</td>\n",
       "      <td>Rs. 300</td>\n",
       "      <td>Burger,Sandwich,Beverages,Rolls,Lebanese,</td>\n",
       "      <td>3.4</td>\n",
       "      <td>-343</td>\n",
       "      <td>2.6</td>\n",
       "      <td>-42</td>\n",
       "      <td>NaN</td>\n",
       "      <td>Baner</td>\n",
       "      <td>Shawarma, Meals &amp; More\\r\\n                    ...</td>\n",
       "      <td>NaN</td>\n",
       "    </tr>\n",
       "  </tbody>\n",
       "</table>\n",
       "<p>483 rows × 12 columns</p>\n",
       "</div>"
      ],
      "text/plain": [
       "        0  Cost (RS)      cost  \\\n",
       "161   NaN     1700.0  Rs. 1700   \n",
       "183   NaN     1600.0  Rs. 1600   \n",
       "191   NaN     1600.0  Rs. 1600   \n",
       "214   NaN     1500.0  Rs. 1500   \n",
       "236   NaN     1000.0  Rs. 1000   \n",
       "...   ...        ...       ...   \n",
       "5386  NaN      800.0   Rs. 800   \n",
       "5390  NaN      900.0   Rs. 900   \n",
       "5417  NaN      300.0   Rs. 300   \n",
       "5418  NaN      150.0   Rs. 150   \n",
       "5420  NaN      300.0   Rs. 300   \n",
       "\n",
       "                                                cuisine  delivery_rating  \\\n",
       "161                      Beverages,Chinese,Continental,              NaN   \n",
       "183   European,Middle Eastern,Continental,North Indi...              NaN   \n",
       "191                               North Indian,Chinese,              NaN   \n",
       "214         Finger Food,North Indian,Asian,Continental,              4.3   \n",
       "236   Beverages,Desserts,Cafe,Italian,Continental,Ge...              NaN   \n",
       "...                                                 ...              ...   \n",
       "5386                   Konkan,Seafood,Goan,Mangalorean,              4.0   \n",
       "5390          Italian,Continental,Chinese,North Indian,              3.6   \n",
       "5417                                      North Indian,              NaN   \n",
       "5418                                            Bakery,              NaN   \n",
       "5420          Burger,Sandwich,Beverages,Rolls,Lebanese,              3.4   \n",
       "\n",
       "     delivery_reviews  dine_rating   dine_reviews  \\\n",
       "161               NaN          0.0            NaN   \n",
       "183               NaN          4.1  (238 Reviews)   \n",
       "191               NaN          3.7   (38 Reviews)   \n",
       "214            -1,797          4.6         -1,591   \n",
       "236               NaN          3.0   (91 Reviews)   \n",
       "...               ...          ...            ...   \n",
       "5386             -355          4.2           -271   \n",
       "5390             -842          4.2           -248   \n",
       "5417              NaN          4.0  (137 Reviews)   \n",
       "5418              NaN          4.0   (49 Reviews)   \n",
       "5420             -343          2.6            -42   \n",
       "\n",
       "                                                  liked      loc  \\\n",
       "161                                                 NaN  Kothrud   \n",
       "183                                                 NaN  Kothrud   \n",
       "191                                                 NaN  Kothrud   \n",
       "214   Cocktails, Pizza, Pasta, Filtered Coffee, Nach...  Kothrud   \n",
       "236                                                 NaN  Kothrud   \n",
       "...                                                 ...      ...   \n",
       "5386  Sea Food, Neer Dosa, Sol Kadhi, Fry Prawns, Su...    Baner   \n",
       "5390  Mocktails, Brownie, Caramel Custard, Paan Moji...    Baner   \n",
       "5417                                                NaN    Baner   \n",
       "5418                                                NaN    Baner   \n",
       "5420                                                NaN    Baner   \n",
       "\n",
       "                                              rest_name          rest_type  \n",
       "161   The 3 Musketeers Sky Gallary\\r\\r\\n            ...  Casual Dining,Bar  \n",
       "183   Bacharika- Rooftop Bar And Kitchen\\r\\r\\n      ...  Casual Dining,Bar  \n",
       "191   ALC Bar & Bites\\r\\r\\n                         ...  Bar,Casual Dining  \n",
       "214   Barometer\\r\\r\\n                               ...      Casual Dining  \n",
       "236   German Bakery Wunderbar\\r\\r\\n                 ...      Casual Dining  \n",
       "...                                                 ...                ...  \n",
       "5386  I'm Lion, Strictly Non-Veg\\r\\n                ...      Casual Dining  \n",
       "5390  The Curious Kitchen & Bar\\r\\n                 ...  Casual Dining,Bar  \n",
       "5417  Punjabi Rasoi\\r\\n                             ...                NaN  \n",
       "5418  Tokyo Bakery\\r\\n                              ...             Bakery  \n",
       "5420  Shawarma, Meals & More\\r\\n                    ...                NaN  \n",
       "\n",
       "[483 rows x 12 columns]"
      ]
     },
     "execution_count": 71,
     "metadata": {},
     "output_type": "execute_result"
    }
   ],
   "source": [
    "#q-1  Create a dataframe for all the restaurants which belong to KOTHRUD?\n",
    "df_kothrud=df[df['loc']=='Kothrud']\n",
    "df_baner= df[df['loc']=='Baner']\n",
    "a= pd.concat([df_kothrud,df_baner])\n",
    "a\n"
   ]
  },
  {
   "cell_type": "code",
   "execution_count": 12,
   "metadata": {},
   "outputs": [
    {
     "data": {
      "text/plain": [
       "(264, 11)"
      ]
     },
     "execution_count": 12,
     "metadata": {},
     "output_type": "execute_result"
    }
   ],
   "source": [
    "df_kothrud.shape"
   ]
  },
  {
   "cell_type": "markdown",
   "metadata": {},
   "source": [
    "# HOW MANY RESTAURANTS IN KOTHRUD HAVE MORE THAN 4.2 RATING?\n",
    "\n"
   ]
  },
  {
   "cell_type": "code",
   "execution_count": 72,
   "metadata": {},
   "outputs": [
    {
     "ename": "ValueError",
     "evalue": "cannot reindex from a duplicate axis",
     "output_type": "error",
     "traceback": [
      "\u001b[1;31m---------------------------------------------------------------------------\u001b[0m",
      "\u001b[1;31mValueError\u001b[0m                                Traceback (most recent call last)",
      "\u001b[1;32m~\\AppData\\Local\\Temp/ipykernel_10804/31580887.py\u001b[0m in \u001b[0;36m<module>\u001b[1;34m\u001b[0m\n\u001b[1;32m----> 1\u001b[1;33m \u001b[0mdf_kb\u001b[0m\u001b[1;33m=\u001b[0m\u001b[0ma\u001b[0m\u001b[1;33m[\u001b[0m\u001b[1;33m(\u001b[0m\u001b[0mdf\u001b[0m\u001b[1;33m[\u001b[0m\u001b[1;34m'dine_rating'\u001b[0m\u001b[1;33m]\u001b[0m\u001b[1;33m>\u001b[0m\u001b[1;36m4.5\u001b[0m\u001b[1;33m)\u001b[0m\u001b[1;33m]\u001b[0m\u001b[1;33m\u001b[0m\u001b[1;33m\u001b[0m\u001b[0m\n\u001b[0m\u001b[0;32m      2\u001b[0m \u001b[0mdf_kb\u001b[0m\u001b[1;33m\u001b[0m\u001b[1;33m\u001b[0m\u001b[0m\n",
      "\u001b[1;32m~\\anaconda3\\lib\\site-packages\\pandas\\core\\frame.py\u001b[0m in \u001b[0;36m__getitem__\u001b[1;34m(self, key)\u001b[0m\n\u001b[0;32m   3447\u001b[0m         \u001b[1;31m# Do we have a (boolean) 1d indexer?\u001b[0m\u001b[1;33m\u001b[0m\u001b[1;33m\u001b[0m\u001b[0m\n\u001b[0;32m   3448\u001b[0m         \u001b[1;32mif\u001b[0m \u001b[0mcom\u001b[0m\u001b[1;33m.\u001b[0m\u001b[0mis_bool_indexer\u001b[0m\u001b[1;33m(\u001b[0m\u001b[0mkey\u001b[0m\u001b[1;33m)\u001b[0m\u001b[1;33m:\u001b[0m\u001b[1;33m\u001b[0m\u001b[1;33m\u001b[0m\u001b[0m\n\u001b[1;32m-> 3449\u001b[1;33m             \u001b[1;32mreturn\u001b[0m \u001b[0mself\u001b[0m\u001b[1;33m.\u001b[0m\u001b[0m_getitem_bool_array\u001b[0m\u001b[1;33m(\u001b[0m\u001b[0mkey\u001b[0m\u001b[1;33m)\u001b[0m\u001b[1;33m\u001b[0m\u001b[1;33m\u001b[0m\u001b[0m\n\u001b[0m\u001b[0;32m   3450\u001b[0m \u001b[1;33m\u001b[0m\u001b[0m\n\u001b[0;32m   3451\u001b[0m         \u001b[1;31m# We are left with two options: a single key, and a collection of keys,\u001b[0m\u001b[1;33m\u001b[0m\u001b[1;33m\u001b[0m\u001b[0m\n",
      "\u001b[1;32m~\\anaconda3\\lib\\site-packages\\pandas\\core\\frame.py\u001b[0m in \u001b[0;36m_getitem_bool_array\u001b[1;34m(self, key)\u001b[0m\n\u001b[0;32m   3500\u001b[0m         \u001b[1;31m# check_bool_indexer will throw exception if Series key cannot\u001b[0m\u001b[1;33m\u001b[0m\u001b[1;33m\u001b[0m\u001b[0m\n\u001b[0;32m   3501\u001b[0m         \u001b[1;31m# be reindexed to match DataFrame rows\u001b[0m\u001b[1;33m\u001b[0m\u001b[1;33m\u001b[0m\u001b[0m\n\u001b[1;32m-> 3502\u001b[1;33m         \u001b[0mkey\u001b[0m \u001b[1;33m=\u001b[0m \u001b[0mcheck_bool_indexer\u001b[0m\u001b[1;33m(\u001b[0m\u001b[0mself\u001b[0m\u001b[1;33m.\u001b[0m\u001b[0mindex\u001b[0m\u001b[1;33m,\u001b[0m \u001b[0mkey\u001b[0m\u001b[1;33m)\u001b[0m\u001b[1;33m\u001b[0m\u001b[1;33m\u001b[0m\u001b[0m\n\u001b[0m\u001b[0;32m   3503\u001b[0m         \u001b[0mindexer\u001b[0m \u001b[1;33m=\u001b[0m \u001b[0mkey\u001b[0m\u001b[1;33m.\u001b[0m\u001b[0mnonzero\u001b[0m\u001b[1;33m(\u001b[0m\u001b[1;33m)\u001b[0m\u001b[1;33m[\u001b[0m\u001b[1;36m0\u001b[0m\u001b[1;33m]\u001b[0m\u001b[1;33m\u001b[0m\u001b[1;33m\u001b[0m\u001b[0m\n\u001b[0;32m   3504\u001b[0m         \u001b[1;32mreturn\u001b[0m \u001b[0mself\u001b[0m\u001b[1;33m.\u001b[0m\u001b[0m_take_with_is_copy\u001b[0m\u001b[1;33m(\u001b[0m\u001b[0mindexer\u001b[0m\u001b[1;33m,\u001b[0m \u001b[0maxis\u001b[0m\u001b[1;33m=\u001b[0m\u001b[1;36m0\u001b[0m\u001b[1;33m)\u001b[0m\u001b[1;33m\u001b[0m\u001b[1;33m\u001b[0m\u001b[0m\n",
      "\u001b[1;32m~\\anaconda3\\lib\\site-packages\\pandas\\core\\indexing.py\u001b[0m in \u001b[0;36mcheck_bool_indexer\u001b[1;34m(index, key)\u001b[0m\n\u001b[0;32m   2383\u001b[0m     \u001b[0mresult\u001b[0m \u001b[1;33m=\u001b[0m \u001b[0mkey\u001b[0m\u001b[1;33m\u001b[0m\u001b[1;33m\u001b[0m\u001b[0m\n\u001b[0;32m   2384\u001b[0m     \u001b[1;32mif\u001b[0m \u001b[0misinstance\u001b[0m\u001b[1;33m(\u001b[0m\u001b[0mkey\u001b[0m\u001b[1;33m,\u001b[0m \u001b[0mABCSeries\u001b[0m\u001b[1;33m)\u001b[0m \u001b[1;32mand\u001b[0m \u001b[1;32mnot\u001b[0m \u001b[0mkey\u001b[0m\u001b[1;33m.\u001b[0m\u001b[0mindex\u001b[0m\u001b[1;33m.\u001b[0m\u001b[0mequals\u001b[0m\u001b[1;33m(\u001b[0m\u001b[0mindex\u001b[0m\u001b[1;33m)\u001b[0m\u001b[1;33m:\u001b[0m\u001b[1;33m\u001b[0m\u001b[1;33m\u001b[0m\u001b[0m\n\u001b[1;32m-> 2385\u001b[1;33m         \u001b[0mresult\u001b[0m \u001b[1;33m=\u001b[0m \u001b[0mresult\u001b[0m\u001b[1;33m.\u001b[0m\u001b[0mreindex\u001b[0m\u001b[1;33m(\u001b[0m\u001b[0mindex\u001b[0m\u001b[1;33m)\u001b[0m\u001b[1;33m\u001b[0m\u001b[1;33m\u001b[0m\u001b[0m\n\u001b[0m\u001b[0;32m   2386\u001b[0m         \u001b[0mmask\u001b[0m \u001b[1;33m=\u001b[0m \u001b[0misna\u001b[0m\u001b[1;33m(\u001b[0m\u001b[0mresult\u001b[0m\u001b[1;33m.\u001b[0m\u001b[0m_values\u001b[0m\u001b[1;33m)\u001b[0m\u001b[1;33m\u001b[0m\u001b[1;33m\u001b[0m\u001b[0m\n\u001b[0;32m   2387\u001b[0m         \u001b[1;32mif\u001b[0m \u001b[0mmask\u001b[0m\u001b[1;33m.\u001b[0m\u001b[0many\u001b[0m\u001b[1;33m(\u001b[0m\u001b[1;33m)\u001b[0m\u001b[1;33m:\u001b[0m\u001b[1;33m\u001b[0m\u001b[1;33m\u001b[0m\u001b[0m\n",
      "\u001b[1;32m~\\anaconda3\\lib\\site-packages\\pandas\\core\\series.py\u001b[0m in \u001b[0;36mreindex\u001b[1;34m(self, index, **kwargs)\u001b[0m\n\u001b[0;32m   4578\u001b[0m     )\n\u001b[0;32m   4579\u001b[0m     \u001b[1;32mdef\u001b[0m \u001b[0mreindex\u001b[0m\u001b[1;33m(\u001b[0m\u001b[0mself\u001b[0m\u001b[1;33m,\u001b[0m \u001b[0mindex\u001b[0m\u001b[1;33m=\u001b[0m\u001b[1;32mNone\u001b[0m\u001b[1;33m,\u001b[0m \u001b[1;33m**\u001b[0m\u001b[0mkwargs\u001b[0m\u001b[1;33m)\u001b[0m\u001b[1;33m:\u001b[0m\u001b[1;33m\u001b[0m\u001b[1;33m\u001b[0m\u001b[0m\n\u001b[1;32m-> 4580\u001b[1;33m         \u001b[1;32mreturn\u001b[0m \u001b[0msuper\u001b[0m\u001b[1;33m(\u001b[0m\u001b[1;33m)\u001b[0m\u001b[1;33m.\u001b[0m\u001b[0mreindex\u001b[0m\u001b[1;33m(\u001b[0m\u001b[0mindex\u001b[0m\u001b[1;33m=\u001b[0m\u001b[0mindex\u001b[0m\u001b[1;33m,\u001b[0m \u001b[1;33m**\u001b[0m\u001b[0mkwargs\u001b[0m\u001b[1;33m)\u001b[0m\u001b[1;33m\u001b[0m\u001b[1;33m\u001b[0m\u001b[0m\n\u001b[0m\u001b[0;32m   4581\u001b[0m \u001b[1;33m\u001b[0m\u001b[0m\n\u001b[0;32m   4582\u001b[0m     \u001b[1;33m@\u001b[0m\u001b[0mdeprecate_nonkeyword_arguments\u001b[0m\u001b[1;33m(\u001b[0m\u001b[0mversion\u001b[0m\u001b[1;33m=\u001b[0m\u001b[1;32mNone\u001b[0m\u001b[1;33m,\u001b[0m \u001b[0mallowed_args\u001b[0m\u001b[1;33m=\u001b[0m\u001b[1;33m[\u001b[0m\u001b[1;34m\"self\"\u001b[0m\u001b[1;33m,\u001b[0m \u001b[1;34m\"labels\"\u001b[0m\u001b[1;33m]\u001b[0m\u001b[1;33m)\u001b[0m\u001b[1;33m\u001b[0m\u001b[1;33m\u001b[0m\u001b[0m\n",
      "\u001b[1;32m~\\anaconda3\\lib\\site-packages\\pandas\\core\\generic.py\u001b[0m in \u001b[0;36mreindex\u001b[1;34m(self, *args, **kwargs)\u001b[0m\n\u001b[0;32m   4816\u001b[0m \u001b[1;33m\u001b[0m\u001b[0m\n\u001b[0;32m   4817\u001b[0m         \u001b[1;31m# perform the reindex on the axes\u001b[0m\u001b[1;33m\u001b[0m\u001b[1;33m\u001b[0m\u001b[0m\n\u001b[1;32m-> 4818\u001b[1;33m         return self._reindex_axes(\n\u001b[0m\u001b[0;32m   4819\u001b[0m             \u001b[0maxes\u001b[0m\u001b[1;33m,\u001b[0m \u001b[0mlevel\u001b[0m\u001b[1;33m,\u001b[0m \u001b[0mlimit\u001b[0m\u001b[1;33m,\u001b[0m \u001b[0mtolerance\u001b[0m\u001b[1;33m,\u001b[0m \u001b[0mmethod\u001b[0m\u001b[1;33m,\u001b[0m \u001b[0mfill_value\u001b[0m\u001b[1;33m,\u001b[0m \u001b[0mcopy\u001b[0m\u001b[1;33m\u001b[0m\u001b[1;33m\u001b[0m\u001b[0m\n\u001b[0;32m   4820\u001b[0m         ).__finalize__(self, method=\"reindex\")\n",
      "\u001b[1;32m~\\anaconda3\\lib\\site-packages\\pandas\\core\\generic.py\u001b[0m in \u001b[0;36m_reindex_axes\u001b[1;34m(self, axes, level, limit, tolerance, method, fill_value, copy)\u001b[0m\n\u001b[0;32m   4837\u001b[0m \u001b[1;33m\u001b[0m\u001b[0m\n\u001b[0;32m   4838\u001b[0m             \u001b[0maxis\u001b[0m \u001b[1;33m=\u001b[0m \u001b[0mself\u001b[0m\u001b[1;33m.\u001b[0m\u001b[0m_get_axis_number\u001b[0m\u001b[1;33m(\u001b[0m\u001b[0ma\u001b[0m\u001b[1;33m)\u001b[0m\u001b[1;33m\u001b[0m\u001b[1;33m\u001b[0m\u001b[0m\n\u001b[1;32m-> 4839\u001b[1;33m             obj = obj._reindex_with_indexers(\n\u001b[0m\u001b[0;32m   4840\u001b[0m                 \u001b[1;33m{\u001b[0m\u001b[0maxis\u001b[0m\u001b[1;33m:\u001b[0m \u001b[1;33m[\u001b[0m\u001b[0mnew_index\u001b[0m\u001b[1;33m,\u001b[0m \u001b[0mindexer\u001b[0m\u001b[1;33m]\u001b[0m\u001b[1;33m}\u001b[0m\u001b[1;33m,\u001b[0m\u001b[1;33m\u001b[0m\u001b[1;33m\u001b[0m\u001b[0m\n\u001b[0;32m   4841\u001b[0m                 \u001b[0mfill_value\u001b[0m\u001b[1;33m=\u001b[0m\u001b[0mfill_value\u001b[0m\u001b[1;33m,\u001b[0m\u001b[1;33m\u001b[0m\u001b[1;33m\u001b[0m\u001b[0m\n",
      "\u001b[1;32m~\\anaconda3\\lib\\site-packages\\pandas\\core\\generic.py\u001b[0m in \u001b[0;36m_reindex_with_indexers\u001b[1;34m(self, reindexers, fill_value, copy, allow_dups)\u001b[0m\n\u001b[0;32m   4881\u001b[0m \u001b[1;33m\u001b[0m\u001b[0m\n\u001b[0;32m   4882\u001b[0m             \u001b[1;31m# TODO: speed up on homogeneous DataFrame objects\u001b[0m\u001b[1;33m\u001b[0m\u001b[1;33m\u001b[0m\u001b[0m\n\u001b[1;32m-> 4883\u001b[1;33m             new_data = new_data.reindex_indexer(\n\u001b[0m\u001b[0;32m   4884\u001b[0m                 \u001b[0mindex\u001b[0m\u001b[1;33m,\u001b[0m\u001b[1;33m\u001b[0m\u001b[1;33m\u001b[0m\u001b[0m\n\u001b[0;32m   4885\u001b[0m                 \u001b[0mindexer\u001b[0m\u001b[1;33m,\u001b[0m\u001b[1;33m\u001b[0m\u001b[1;33m\u001b[0m\u001b[0m\n",
      "\u001b[1;32m~\\anaconda3\\lib\\site-packages\\pandas\\core\\internals\\managers.py\u001b[0m in \u001b[0;36mreindex_indexer\u001b[1;34m(self, new_axis, indexer, axis, fill_value, allow_dups, copy, consolidate, only_slice)\u001b[0m\n\u001b[0;32m    668\u001b[0m         \u001b[1;31m# some axes don't allow reindexing with dups\u001b[0m\u001b[1;33m\u001b[0m\u001b[1;33m\u001b[0m\u001b[0m\n\u001b[0;32m    669\u001b[0m         \u001b[1;32mif\u001b[0m \u001b[1;32mnot\u001b[0m \u001b[0mallow_dups\u001b[0m\u001b[1;33m:\u001b[0m\u001b[1;33m\u001b[0m\u001b[1;33m\u001b[0m\u001b[0m\n\u001b[1;32m--> 670\u001b[1;33m             \u001b[0mself\u001b[0m\u001b[1;33m.\u001b[0m\u001b[0maxes\u001b[0m\u001b[1;33m[\u001b[0m\u001b[0maxis\u001b[0m\u001b[1;33m]\u001b[0m\u001b[1;33m.\u001b[0m\u001b[0m_validate_can_reindex\u001b[0m\u001b[1;33m(\u001b[0m\u001b[0mindexer\u001b[0m\u001b[1;33m)\u001b[0m\u001b[1;33m\u001b[0m\u001b[1;33m\u001b[0m\u001b[0m\n\u001b[0m\u001b[0;32m    671\u001b[0m \u001b[1;33m\u001b[0m\u001b[0m\n\u001b[0;32m    672\u001b[0m         \u001b[1;32mif\u001b[0m \u001b[0maxis\u001b[0m \u001b[1;33m>=\u001b[0m \u001b[0mself\u001b[0m\u001b[1;33m.\u001b[0m\u001b[0mndim\u001b[0m\u001b[1;33m:\u001b[0m\u001b[1;33m\u001b[0m\u001b[1;33m\u001b[0m\u001b[0m\n",
      "\u001b[1;32m~\\anaconda3\\lib\\site-packages\\pandas\\core\\indexes\\base.py\u001b[0m in \u001b[0;36m_validate_can_reindex\u001b[1;34m(self, indexer)\u001b[0m\n\u001b[0;32m   3783\u001b[0m         \u001b[1;31m# trying to reindex on an axis with duplicates\u001b[0m\u001b[1;33m\u001b[0m\u001b[1;33m\u001b[0m\u001b[0m\n\u001b[0;32m   3784\u001b[0m         \u001b[1;32mif\u001b[0m \u001b[1;32mnot\u001b[0m \u001b[0mself\u001b[0m\u001b[1;33m.\u001b[0m\u001b[0m_index_as_unique\u001b[0m \u001b[1;32mand\u001b[0m \u001b[0mlen\u001b[0m\u001b[1;33m(\u001b[0m\u001b[0mindexer\u001b[0m\u001b[1;33m)\u001b[0m\u001b[1;33m:\u001b[0m\u001b[1;33m\u001b[0m\u001b[1;33m\u001b[0m\u001b[0m\n\u001b[1;32m-> 3785\u001b[1;33m             \u001b[1;32mraise\u001b[0m \u001b[0mValueError\u001b[0m\u001b[1;33m(\u001b[0m\u001b[1;34m\"cannot reindex from a duplicate axis\"\u001b[0m\u001b[1;33m)\u001b[0m\u001b[1;33m\u001b[0m\u001b[1;33m\u001b[0m\u001b[0m\n\u001b[0m\u001b[0;32m   3786\u001b[0m \u001b[1;33m\u001b[0m\u001b[0m\n\u001b[0;32m   3787\u001b[0m     def reindex(\n",
      "\u001b[1;31mValueError\u001b[0m: cannot reindex from a duplicate axis"
     ]
    }
   ],
   "source": [
    "df_kb=a[(df['dine_rating']>4.5)]\n",
    "df_kb"
   ]
  },
  {
   "cell_type": "markdown",
   "metadata": {},
   "source": [
    "# TOP RATED RESTAURANTS IN BANER"
   ]
  },
  {
   "cell_type": "code",
   "execution_count": 8,
   "metadata": {},
   "outputs": [
    {
     "data": {
      "text/html": [
       "<div>\n",
       "<style scoped>\n",
       "    .dataframe tbody tr th:only-of-type {\n",
       "        vertical-align: middle;\n",
       "    }\n",
       "\n",
       "    .dataframe tbody tr th {\n",
       "        vertical-align: top;\n",
       "    }\n",
       "\n",
       "    .dataframe thead th {\n",
       "        text-align: right;\n",
       "    }\n",
       "</style>\n",
       "<table border=\"1\" class=\"dataframe\">\n",
       "  <thead>\n",
       "    <tr style=\"text-align: right;\">\n",
       "      <th></th>\n",
       "      <th>rest_name</th>\n",
       "      <th>rest_type</th>\n",
       "      <th>loc</th>\n",
       "      <th>dine_rating</th>\n",
       "      <th>dine_reviews</th>\n",
       "      <th>delivery_rating</th>\n",
       "      <th>delivery_reviews</th>\n",
       "      <th>cuisine</th>\n",
       "      <th>Cost (RS)</th>\n",
       "      <th>cost</th>\n",
       "      <th>liked</th>\n",
       "    </tr>\n",
       "  </thead>\n",
       "  <tbody>\n",
       "    <tr>\n",
       "      <th>58</th>\n",
       "      <td>Effingut\\r\\r\\n                                ...</td>\n",
       "      <td>Pub</td>\n",
       "      <td>Baner</td>\n",
       "      <td>4.7</td>\n",
       "      <td>-2,894</td>\n",
       "      <td>4.5</td>\n",
       "      <td>-649</td>\n",
       "      <td>Asian,Italian,Mughlai,North Indian,Continental,</td>\n",
       "      <td>2000</td>\n",
       "      <td>Rs. 2000</td>\n",
       "      <td>Apple Cider, Craft Beer, Nachos, Cocktails, Bu...</td>\n",
       "    </tr>\n",
       "    <tr>\n",
       "      <th>72</th>\n",
       "      <td>The K Factory\\r\\r\\n                           ...</td>\n",
       "      <td>Casual Dining,Lounge</td>\n",
       "      <td>Baner</td>\n",
       "      <td>4.6</td>\n",
       "      <td>-3,742</td>\n",
       "      <td>3.9</td>\n",
       "      <td>-252</td>\n",
       "      <td>Beverages,Biryani,Charcoal Chicken,Salad,Desse...</td>\n",
       "      <td>2000</td>\n",
       "      <td>Rs. 2000</td>\n",
       "      <td>Pasta, Salad, Cheesecake, Cocktails, Pizza, Pe...</td>\n",
       "    </tr>\n",
       "    <tr>\n",
       "      <th>120</th>\n",
       "      <td>Mr Rabbit's Bar &amp; Burrow\\r\\r\\n                ...</td>\n",
       "      <td>Bar,Casual Dining</td>\n",
       "      <td>Baner</td>\n",
       "      <td>4.5</td>\n",
       "      <td>(633 Reviews)</td>\n",
       "      <td>NaN</td>\n",
       "      <td>NaN</td>\n",
       "      <td>South Indian,European,Continental,Finger Food,</td>\n",
       "      <td>1800</td>\n",
       "      <td>Rs. 1800</td>\n",
       "      <td>Cocktails, Tiramisu, Ravioli, Beer, Murgh Ghee...</td>\n",
       "    </tr>\n",
       "    <tr>\n",
       "      <th>142</th>\n",
       "      <td>Urbo\\r\\r\\n</td>\n",
       "      <td>Lounge,Casual Dining</td>\n",
       "      <td>Baner</td>\n",
       "      <td>4.2</td>\n",
       "      <td>(952 Reviews)</td>\n",
       "      <td>NaN</td>\n",
       "      <td>NaN</td>\n",
       "      <td>North Indian,Continental,</td>\n",
       "      <td>1700</td>\n",
       "      <td>Rs. 1700</td>\n",
       "      <td>Pizza, Cocktails, Mocktails, Brownie, Paneer T...</td>\n",
       "    </tr>\n",
       "    <tr>\n",
       "      <th>166</th>\n",
       "      <td>The Urban Foundry\\r\\r\\n                       ...</td>\n",
       "      <td>Bar,Casual Dining</td>\n",
       "      <td>Baner</td>\n",
       "      <td>4.6</td>\n",
       "      <td>(3,912 Reviews)</td>\n",
       "      <td>NaN</td>\n",
       "      <td>NaN</td>\n",
       "      <td>Fast Food,Asian,North Indian,Bar Food,</td>\n",
       "      <td>1600</td>\n",
       "      <td>Rs. 1600</td>\n",
       "      <td>Cocktails, Pizza, Beer, Soya Chaap, Mocktails,...</td>\n",
       "    </tr>\n",
       "    <tr>\n",
       "      <th>...</th>\n",
       "      <td>...</td>\n",
       "      <td>...</td>\n",
       "      <td>...</td>\n",
       "      <td>...</td>\n",
       "      <td>...</td>\n",
       "      <td>...</td>\n",
       "      <td>...</td>\n",
       "      <td>...</td>\n",
       "      <td>...</td>\n",
       "      <td>...</td>\n",
       "      <td>...</td>\n",
       "    </tr>\n",
       "    <tr>\n",
       "      <th>5386</th>\n",
       "      <td>I'm Lion, Strictly Non-Veg\\r\\n                ...</td>\n",
       "      <td>Casual Dining</td>\n",
       "      <td>Baner</td>\n",
       "      <td>4.2</td>\n",
       "      <td>-271</td>\n",
       "      <td>4.0</td>\n",
       "      <td>-355</td>\n",
       "      <td>Konkan,Seafood,Goan,Mangalorean,</td>\n",
       "      <td>800</td>\n",
       "      <td>Rs. 800</td>\n",
       "      <td>Sea Food, Neer Dosa, Sol Kadhi, Fry Prawns, Su...</td>\n",
       "    </tr>\n",
       "    <tr>\n",
       "      <th>5390</th>\n",
       "      <td>The Curious Kitchen &amp; Bar\\r\\n                 ...</td>\n",
       "      <td>Casual Dining,Bar</td>\n",
       "      <td>Baner</td>\n",
       "      <td>4.2</td>\n",
       "      <td>-248</td>\n",
       "      <td>3.6</td>\n",
       "      <td>-842</td>\n",
       "      <td>Italian,Continental,Chinese,North Indian,</td>\n",
       "      <td>900</td>\n",
       "      <td>Rs. 900</td>\n",
       "      <td>Mocktails, Brownie, Caramel Custard, Paan Moji...</td>\n",
       "    </tr>\n",
       "    <tr>\n",
       "      <th>5417</th>\n",
       "      <td>Punjabi Rasoi\\r\\n                             ...</td>\n",
       "      <td>NaN</td>\n",
       "      <td>Baner</td>\n",
       "      <td>4.0</td>\n",
       "      <td>(137 Reviews)</td>\n",
       "      <td>NaN</td>\n",
       "      <td>NaN</td>\n",
       "      <td>North Indian,</td>\n",
       "      <td>300</td>\n",
       "      <td>Rs. 300</td>\n",
       "      <td>NaN</td>\n",
       "    </tr>\n",
       "    <tr>\n",
       "      <th>5418</th>\n",
       "      <td>Tokyo Bakery\\r\\n                              ...</td>\n",
       "      <td>Bakery</td>\n",
       "      <td>Baner</td>\n",
       "      <td>4.0</td>\n",
       "      <td>(49 Reviews)</td>\n",
       "      <td>NaN</td>\n",
       "      <td>NaN</td>\n",
       "      <td>Bakery,</td>\n",
       "      <td>150</td>\n",
       "      <td>Rs. 150</td>\n",
       "      <td>NaN</td>\n",
       "    </tr>\n",
       "    <tr>\n",
       "      <th>5420</th>\n",
       "      <td>Shawarma, Meals &amp; More\\r\\n                    ...</td>\n",
       "      <td>NaN</td>\n",
       "      <td>Baner</td>\n",
       "      <td>2.6</td>\n",
       "      <td>-42</td>\n",
       "      <td>3.4</td>\n",
       "      <td>-343</td>\n",
       "      <td>Burger,Sandwich,Beverages,Rolls,Lebanese,</td>\n",
       "      <td>300</td>\n",
       "      <td>Rs. 300</td>\n",
       "      <td>NaN</td>\n",
       "    </tr>\n",
       "  </tbody>\n",
       "</table>\n",
       "<p>219 rows × 11 columns</p>\n",
       "</div>"
      ],
      "text/plain": [
       "                                              rest_name             rest_type  \\\n",
       "58    Effingut\\r\\r\\n                                ...                   Pub   \n",
       "72    The K Factory\\r\\r\\n                           ...  Casual Dining,Lounge   \n",
       "120   Mr Rabbit's Bar & Burrow\\r\\r\\n                ...     Bar,Casual Dining   \n",
       "142      Urbo\\r\\r\\n                                      Lounge,Casual Dining   \n",
       "166   The Urban Foundry\\r\\r\\n                       ...     Bar,Casual Dining   \n",
       "...                                                 ...                   ...   \n",
       "5386  I'm Lion, Strictly Non-Veg\\r\\n                ...         Casual Dining   \n",
       "5390  The Curious Kitchen & Bar\\r\\n                 ...     Casual Dining,Bar   \n",
       "5417  Punjabi Rasoi\\r\\n                             ...                   NaN   \n",
       "5418  Tokyo Bakery\\r\\n                              ...                Bakery   \n",
       "5420  Shawarma, Meals & More\\r\\n                    ...                   NaN   \n",
       "\n",
       "        loc  dine_rating     dine_reviews  delivery_rating delivery_reviews  \\\n",
       "58    Baner          4.7           -2,894              4.5             -649   \n",
       "72    Baner          4.6           -3,742              3.9             -252   \n",
       "120   Baner          4.5    (633 Reviews)              NaN              NaN   \n",
       "142   Baner          4.2    (952 Reviews)              NaN              NaN   \n",
       "166   Baner          4.6  (3,912 Reviews)              NaN              NaN   \n",
       "...     ...          ...              ...              ...              ...   \n",
       "5386  Baner          4.2             -271              4.0             -355   \n",
       "5390  Baner          4.2             -248              3.6             -842   \n",
       "5417  Baner          4.0    (137 Reviews)              NaN              NaN   \n",
       "5418  Baner          4.0     (49 Reviews)              NaN              NaN   \n",
       "5420  Baner          2.6              -42              3.4             -343   \n",
       "\n",
       "                                                cuisine  Cost (RS)      cost  \\\n",
       "58      Asian,Italian,Mughlai,North Indian,Continental,       2000  Rs. 2000   \n",
       "72    Beverages,Biryani,Charcoal Chicken,Salad,Desse...       2000  Rs. 2000   \n",
       "120      South Indian,European,Continental,Finger Food,       1800  Rs. 1800   \n",
       "142                           North Indian,Continental,       1700  Rs. 1700   \n",
       "166              Fast Food,Asian,North Indian,Bar Food,       1600  Rs. 1600   \n",
       "...                                                 ...        ...       ...   \n",
       "5386                   Konkan,Seafood,Goan,Mangalorean,        800   Rs. 800   \n",
       "5390          Italian,Continental,Chinese,North Indian,        900   Rs. 900   \n",
       "5417                                      North Indian,        300   Rs. 300   \n",
       "5418                                            Bakery,        150   Rs. 150   \n",
       "5420          Burger,Sandwich,Beverages,Rolls,Lebanese,        300   Rs. 300   \n",
       "\n",
       "                                                  liked  \n",
       "58    Apple Cider, Craft Beer, Nachos, Cocktails, Bu...  \n",
       "72    Pasta, Salad, Cheesecake, Cocktails, Pizza, Pe...  \n",
       "120   Cocktails, Tiramisu, Ravioli, Beer, Murgh Ghee...  \n",
       "142   Pizza, Cocktails, Mocktails, Brownie, Paneer T...  \n",
       "166   Cocktails, Pizza, Beer, Soya Chaap, Mocktails,...  \n",
       "...                                                 ...  \n",
       "5386  Sea Food, Neer Dosa, Sol Kadhi, Fry Prawns, Su...  \n",
       "5390  Mocktails, Brownie, Caramel Custard, Paan Moji...  \n",
       "5417                                                NaN  \n",
       "5418                                                NaN  \n",
       "5420                                                NaN  \n",
       "\n",
       "[219 rows x 11 columns]"
      ]
     },
     "execution_count": 8,
     "metadata": {},
     "output_type": "execute_result"
    }
   ],
   "source": [
    "df_baner=df[df['loc']=='Baner']\n",
    "df_baner"
   ]
  },
  {
   "cell_type": "code",
   "execution_count": 10,
   "metadata": {},
   "outputs": [
    {
     "data": {
      "text/html": [
       "<div>\n",
       "<style scoped>\n",
       "    .dataframe tbody tr th:only-of-type {\n",
       "        vertical-align: middle;\n",
       "    }\n",
       "\n",
       "    .dataframe tbody tr th {\n",
       "        vertical-align: top;\n",
       "    }\n",
       "\n",
       "    .dataframe thead th {\n",
       "        text-align: right;\n",
       "    }\n",
       "</style>\n",
       "<table border=\"1\" class=\"dataframe\">\n",
       "  <thead>\n",
       "    <tr style=\"text-align: right;\">\n",
       "      <th></th>\n",
       "      <th>rest_name</th>\n",
       "      <th>rest_type</th>\n",
       "      <th>loc</th>\n",
       "      <th>dine_rating</th>\n",
       "      <th>dine_reviews</th>\n",
       "      <th>delivery_rating</th>\n",
       "      <th>delivery_reviews</th>\n",
       "      <th>cuisine</th>\n",
       "      <th>Cost (RS)</th>\n",
       "      <th>cost</th>\n",
       "      <th>liked</th>\n",
       "    </tr>\n",
       "  </thead>\n",
       "  <tbody>\n",
       "    <tr>\n",
       "      <th>58</th>\n",
       "      <td>Effingut\\r\\r\\n                                ...</td>\n",
       "      <td>Pub</td>\n",
       "      <td>Baner</td>\n",
       "      <td>4.7</td>\n",
       "      <td>-2,894</td>\n",
       "      <td>4.5</td>\n",
       "      <td>-649</td>\n",
       "      <td>Asian,Italian,Mughlai,North Indian,Continental,</td>\n",
       "      <td>2000</td>\n",
       "      <td>Rs. 2000</td>\n",
       "      <td>Apple Cider, Craft Beer, Nachos, Cocktails, Bu...</td>\n",
       "    </tr>\n",
       "    <tr>\n",
       "      <th>72</th>\n",
       "      <td>The K Factory\\r\\r\\n                           ...</td>\n",
       "      <td>Casual Dining,Lounge</td>\n",
       "      <td>Baner</td>\n",
       "      <td>4.6</td>\n",
       "      <td>-3,742</td>\n",
       "      <td>3.9</td>\n",
       "      <td>-252</td>\n",
       "      <td>Beverages,Biryani,Charcoal Chicken,Salad,Desse...</td>\n",
       "      <td>2000</td>\n",
       "      <td>Rs. 2000</td>\n",
       "      <td>Pasta, Salad, Cheesecake, Cocktails, Pizza, Pe...</td>\n",
       "    </tr>\n",
       "    <tr>\n",
       "      <th>120</th>\n",
       "      <td>Mr Rabbit's Bar &amp; Burrow\\r\\r\\n                ...</td>\n",
       "      <td>Bar,Casual Dining</td>\n",
       "      <td>Baner</td>\n",
       "      <td>4.5</td>\n",
       "      <td>(633 Reviews)</td>\n",
       "      <td>NaN</td>\n",
       "      <td>NaN</td>\n",
       "      <td>South Indian,European,Continental,Finger Food,</td>\n",
       "      <td>1800</td>\n",
       "      <td>Rs. 1800</td>\n",
       "      <td>Cocktails, Tiramisu, Ravioli, Beer, Murgh Ghee...</td>\n",
       "    </tr>\n",
       "    <tr>\n",
       "      <th>166</th>\n",
       "      <td>The Urban Foundry\\r\\r\\n                       ...</td>\n",
       "      <td>Bar,Casual Dining</td>\n",
       "      <td>Baner</td>\n",
       "      <td>4.6</td>\n",
       "      <td>(3,912 Reviews)</td>\n",
       "      <td>NaN</td>\n",
       "      <td>NaN</td>\n",
       "      <td>Fast Food,Asian,North Indian,Bar Food,</td>\n",
       "      <td>1600</td>\n",
       "      <td>Rs. 1600</td>\n",
       "      <td>Cocktails, Pizza, Beer, Soya Chaap, Mocktails,...</td>\n",
       "    </tr>\n",
       "    <tr>\n",
       "      <th>221</th>\n",
       "      <td>Elephant &amp; Co.\\r\\r\\n                          ...</td>\n",
       "      <td>Microbrewery</td>\n",
       "      <td>Baner</td>\n",
       "      <td>4.3</td>\n",
       "      <td>-471</td>\n",
       "      <td>4.1</td>\n",
       "      <td>-238</td>\n",
       "      <td>Salad,Continental,Finger Food,</td>\n",
       "      <td>1500</td>\n",
       "      <td>Rs. 1500</td>\n",
       "      <td>Cocktails, Popcorn, Sangria, Beer, Mushroom Cr...</td>\n",
       "    </tr>\n",
       "    <tr>\n",
       "      <th>257</th>\n",
       "      <td>TTF - The Tenth Floor\\r\\r\\n                   ...</td>\n",
       "      <td>Bar,Casual Dining</td>\n",
       "      <td>Baner</td>\n",
       "      <td>4.4</td>\n",
       "      <td>(708 Reviews)</td>\n",
       "      <td>NaN</td>\n",
       "      <td>NaN</td>\n",
       "      <td>Finger Food,Continental,North Indian,</td>\n",
       "      <td>1500</td>\n",
       "      <td>Rs. 1500</td>\n",
       "      <td>NaN</td>\n",
       "    </tr>\n",
       "    <tr>\n",
       "      <th>384</th>\n",
       "      <td>Linkin Barrel\\r\\r\\n                           ...</td>\n",
       "      <td>Bar</td>\n",
       "      <td>Baner</td>\n",
       "      <td>4.4</td>\n",
       "      <td>(1,219 Reviews)</td>\n",
       "      <td>NaN</td>\n",
       "      <td>NaN</td>\n",
       "      <td>North Indian,Italian,Modern Indian,Continental,</td>\n",
       "      <td>1300</td>\n",
       "      <td>Rs. 1300</td>\n",
       "      <td>Cocktails, Pizza, Nachos, Mocktails, Long Isla...</td>\n",
       "    </tr>\n",
       "    <tr>\n",
       "      <th>388</th>\n",
       "      <td>Bhairavee Pure Veg Restaurant\\r\\r\\n           ...</td>\n",
       "      <td>Casual Dining</td>\n",
       "      <td>Baner</td>\n",
       "      <td>4.3</td>\n",
       "      <td>-948</td>\n",
       "      <td>3.9</td>\n",
       "      <td>-1,947</td>\n",
       "      <td>Beverages,Desserts,Rolls,Biryani,Continental,C...</td>\n",
       "      <td>1300</td>\n",
       "      <td>Rs. 1300</td>\n",
       "      <td>Pasta, Naan, Brownie, Paneer Romanchak, Parath...</td>\n",
       "    </tr>\n",
       "    <tr>\n",
       "      <th>420</th>\n",
       "      <td>The Asian Box Resto Bar\\r\\r\\n                 ...</td>\n",
       "      <td>Casual Dining</td>\n",
       "      <td>Baner</td>\n",
       "      <td>4.3</td>\n",
       "      <td>-465</td>\n",
       "      <td>4.1</td>\n",
       "      <td>-492</td>\n",
       "      <td>Singaporean,Indonesian,Japanese,Thai,Malaysian...</td>\n",
       "      <td>1300</td>\n",
       "      <td>Rs. 1300</td>\n",
       "      <td>Khao Suey, Khau Suey, Noodle, Cocktails, Sushi...</td>\n",
       "    </tr>\n",
       "    <tr>\n",
       "      <th>599</th>\n",
       "      <td>Maratha Samrat\\r\\r\\n                          ...</td>\n",
       "      <td>Casual Dining</td>\n",
       "      <td>Baner</td>\n",
       "      <td>4.4</td>\n",
       "      <td>-1,072</td>\n",
       "      <td>4.2</td>\n",
       "      <td>-2,684</td>\n",
       "      <td>Maharashtrian,</td>\n",
       "      <td>1100</td>\n",
       "      <td>Rs. 1100</td>\n",
       "      <td>Chicken Thali, Mutton Thali, Pandhra Rassa, No...</td>\n",
       "    </tr>\n",
       "    <tr>\n",
       "      <th>975</th>\n",
       "      <td>7th Heaven\\r\\n                                ...</td>\n",
       "      <td>Bakery</td>\n",
       "      <td>Baner</td>\n",
       "      <td>4.3</td>\n",
       "      <td>-484</td>\n",
       "      <td>4.0</td>\n",
       "      <td>-2,331</td>\n",
       "      <td>Desserts,Bakery,</td>\n",
       "      <td>400</td>\n",
       "      <td>Rs. 400</td>\n",
       "      <td>Belgium Chocolate Cake, Chocolava Cake, Cream ...</td>\n",
       "    </tr>\n",
       "    <tr>\n",
       "      <th>1243</th>\n",
       "      <td>The Urban Foundry\\r\\n                         ...</td>\n",
       "      <td>Bar,Casual Dining</td>\n",
       "      <td>Baner</td>\n",
       "      <td>4.6</td>\n",
       "      <td>(3,912 Reviews)</td>\n",
       "      <td>NaN</td>\n",
       "      <td>NaN</td>\n",
       "      <td>Fast Food,Asian,North Indian,Bar Food,</td>\n",
       "      <td>1600</td>\n",
       "      <td>Rs. 1600</td>\n",
       "      <td>Cocktails, Pizza, Beer, Soya Chaap, Mocktails,...</td>\n",
       "    </tr>\n",
       "    <tr>\n",
       "      <th>1305</th>\n",
       "      <td>Maratha Samrat\\r\\n                            ...</td>\n",
       "      <td>Casual Dining</td>\n",
       "      <td>Baner</td>\n",
       "      <td>4.4</td>\n",
       "      <td>-1,072</td>\n",
       "      <td>4.2</td>\n",
       "      <td>-2,684</td>\n",
       "      <td>Maharashtrian,</td>\n",
       "      <td>1100</td>\n",
       "      <td>Rs. 1100</td>\n",
       "      <td>Chicken Thali, Mutton Thali, Pandhra Rassa, No...</td>\n",
       "    </tr>\n",
       "    <tr>\n",
       "      <th>1573</th>\n",
       "      <td>Effingut\\r\\n</td>\n",
       "      <td>Pub</td>\n",
       "      <td>Baner</td>\n",
       "      <td>4.7</td>\n",
       "      <td>-2,894</td>\n",
       "      <td>4.5</td>\n",
       "      <td>-649</td>\n",
       "      <td>Asian,Italian,Mughlai,North Indian,Continental,</td>\n",
       "      <td>2000</td>\n",
       "      <td>Rs. 2000</td>\n",
       "      <td>Apple Cider, Craft Beer, Nachos, Cocktails, Bu...</td>\n",
       "    </tr>\n",
       "    <tr>\n",
       "      <th>2046</th>\n",
       "      <td>Andaground\\r\\n                                ...</td>\n",
       "      <td>Quick Bites</td>\n",
       "      <td>Baner</td>\n",
       "      <td>4.8</td>\n",
       "      <td>-763</td>\n",
       "      <td>4.2</td>\n",
       "      <td>-243</td>\n",
       "      <td>Beverages,Healthy Food,Fast Food,</td>\n",
       "      <td>600</td>\n",
       "      <td>Rs. 600</td>\n",
       "      <td>Chicken Keema, Iced Tea, Omelette, Sandwich, K...</td>\n",
       "    </tr>\n",
       "    <tr>\n",
       "      <th>2165</th>\n",
       "      <td>Elephant &amp; Co.\\r\\n                            ...</td>\n",
       "      <td>Microbrewery</td>\n",
       "      <td>Baner</td>\n",
       "      <td>4.3</td>\n",
       "      <td>-471</td>\n",
       "      <td>4.1</td>\n",
       "      <td>-238</td>\n",
       "      <td>Salad,Continental,Finger Food,</td>\n",
       "      <td>1500</td>\n",
       "      <td>Rs. 1500</td>\n",
       "      <td>Cocktails, Popcorn, Sangria, Beer, Mushroom Cr...</td>\n",
       "    </tr>\n",
       "    <tr>\n",
       "      <th>2219</th>\n",
       "      <td>FatCook\\r\\n</td>\n",
       "      <td>Casual Dining</td>\n",
       "      <td>Baner</td>\n",
       "      <td>4.3</td>\n",
       "      <td>-823</td>\n",
       "      <td>4.0</td>\n",
       "      <td>-1,199</td>\n",
       "      <td>Thai,Chinese,Italian,North Indian,</td>\n",
       "      <td>800</td>\n",
       "      <td>Rs. 800</td>\n",
       "      <td>Pasta, Pizza, Nachos, Tom Kha Soup, Garlic Bre...</td>\n",
       "    </tr>\n",
       "    <tr>\n",
       "      <th>2277</th>\n",
       "      <td>Cream Stone\\r\\n                               ...</td>\n",
       "      <td>Dessert Parlor</td>\n",
       "      <td>Baner</td>\n",
       "      <td>4.5</td>\n",
       "      <td>-1,441</td>\n",
       "      <td>4.2</td>\n",
       "      <td>-3,972</td>\n",
       "      <td>Desserts,Ice Cream,</td>\n",
       "      <td>400</td>\n",
       "      <td>Rs. 400</td>\n",
       "      <td>Ferrero Rocher, Chocolate Overdose, Waffles, D...</td>\n",
       "    </tr>\n",
       "    <tr>\n",
       "      <th>2439</th>\n",
       "      <td>Idlicious\\r\\n</td>\n",
       "      <td>Quick Bites</td>\n",
       "      <td>Baner</td>\n",
       "      <td>4.5</td>\n",
       "      <td>-1,025</td>\n",
       "      <td>4.3</td>\n",
       "      <td>-357</td>\n",
       "      <td>South Indian,</td>\n",
       "      <td>250</td>\n",
       "      <td>Rs. 250</td>\n",
       "      <td>Idli, Filtered Coffee, Vada, Mysore Masala Dos...</td>\n",
       "    </tr>\n",
       "    <tr>\n",
       "      <th>2561</th>\n",
       "      <td>Linkin Barrel\\r\\n                             ...</td>\n",
       "      <td>Bar</td>\n",
       "      <td>Baner</td>\n",
       "      <td>4.4</td>\n",
       "      <td>(1,219 Reviews)</td>\n",
       "      <td>NaN</td>\n",
       "      <td>NaN</td>\n",
       "      <td>North Indian,Italian,Modern Indian,Continental,</td>\n",
       "      <td>1300</td>\n",
       "      <td>Rs. 1300</td>\n",
       "      <td>Cocktails, Pizza, Nachos, Mocktails, Long Isla...</td>\n",
       "    </tr>\n",
       "    <tr>\n",
       "      <th>3284</th>\n",
       "      <td>Bhairavee Pure Veg Restaurant\\r\\n             ...</td>\n",
       "      <td>Casual Dining</td>\n",
       "      <td>Baner</td>\n",
       "      <td>4.3</td>\n",
       "      <td>-948</td>\n",
       "      <td>3.9</td>\n",
       "      <td>-1,947</td>\n",
       "      <td>Beverages,Desserts,Rolls,Biryani,Continental,C...</td>\n",
       "      <td>1300</td>\n",
       "      <td>Rs. 1300</td>\n",
       "      <td>Pasta, Naan, Brownie, Paneer Romanchak, Parath...</td>\n",
       "    </tr>\n",
       "    <tr>\n",
       "      <th>3501</th>\n",
       "      <td>The K Factory\\r\\n                             ...</td>\n",
       "      <td>Casual Dining,Lounge</td>\n",
       "      <td>Baner</td>\n",
       "      <td>4.6</td>\n",
       "      <td>-3,742</td>\n",
       "      <td>3.9</td>\n",
       "      <td>-252</td>\n",
       "      <td>Beverages,Biryani,Charcoal Chicken,Salad,Desse...</td>\n",
       "      <td>2000</td>\n",
       "      <td>Rs. 2000</td>\n",
       "      <td>Pasta, Salad, Cheesecake, Cocktails, Pizza, Pe...</td>\n",
       "    </tr>\n",
       "    <tr>\n",
       "      <th>4047</th>\n",
       "      <td>World of Desserts\\r\\n                         ...</td>\n",
       "      <td>Dessert Parlor</td>\n",
       "      <td>Baner</td>\n",
       "      <td>4.3</td>\n",
       "      <td>(414 Reviews)</td>\n",
       "      <td>NaN</td>\n",
       "      <td>NaN</td>\n",
       "      <td>Beverages,Desserts,</td>\n",
       "      <td>400</td>\n",
       "      <td>Rs. 400</td>\n",
       "      <td>Waffles, Churros, Freak Shake, Vanilla Ice Cre...</td>\n",
       "    </tr>\n",
       "    <tr>\n",
       "      <th>4617</th>\n",
       "      <td>Makkhan Maar Ke\\r\\n                           ...</td>\n",
       "      <td>NaN</td>\n",
       "      <td>Baner</td>\n",
       "      <td>4.3</td>\n",
       "      <td>(3,618 Reviews)</td>\n",
       "      <td>NaN</td>\n",
       "      <td>NaN</td>\n",
       "      <td>Kebab,Biryani,Afghan,Mughlai,North Indian,</td>\n",
       "      <td>700</td>\n",
       "      <td>Rs. 700</td>\n",
       "      <td>Butter Chicken, Dal Makhani, Paneer Lababdar, ...</td>\n",
       "    </tr>\n",
       "    <tr>\n",
       "      <th>5142</th>\n",
       "      <td>The Asian Box Resto Bar\\r\\n                   ...</td>\n",
       "      <td>Casual Dining</td>\n",
       "      <td>Baner</td>\n",
       "      <td>4.3</td>\n",
       "      <td>-465</td>\n",
       "      <td>4.1</td>\n",
       "      <td>-492</td>\n",
       "      <td>Singaporean,Indonesian,Japanese,Thai,Malaysian...</td>\n",
       "      <td>1300</td>\n",
       "      <td>Rs. 1300</td>\n",
       "      <td>Khao Suey, Khau Suey, Noodle, Cocktails, Sushi...</td>\n",
       "    </tr>\n",
       "  </tbody>\n",
       "</table>\n",
       "</div>"
      ],
      "text/plain": [
       "                                              rest_name             rest_type  \\\n",
       "58    Effingut\\r\\r\\n                                ...                   Pub   \n",
       "72    The K Factory\\r\\r\\n                           ...  Casual Dining,Lounge   \n",
       "120   Mr Rabbit's Bar & Burrow\\r\\r\\n                ...     Bar,Casual Dining   \n",
       "166   The Urban Foundry\\r\\r\\n                       ...     Bar,Casual Dining   \n",
       "221   Elephant & Co.\\r\\r\\n                          ...          Microbrewery   \n",
       "257   TTF - The Tenth Floor\\r\\r\\n                   ...     Bar,Casual Dining   \n",
       "384   Linkin Barrel\\r\\r\\n                           ...                   Bar   \n",
       "388   Bhairavee Pure Veg Restaurant\\r\\r\\n           ...         Casual Dining   \n",
       "420   The Asian Box Resto Bar\\r\\r\\n                 ...         Casual Dining   \n",
       "599   Maratha Samrat\\r\\r\\n                          ...         Casual Dining   \n",
       "975   7th Heaven\\r\\n                                ...                Bakery   \n",
       "1243  The Urban Foundry\\r\\n                         ...     Bar,Casual Dining   \n",
       "1305  Maratha Samrat\\r\\n                            ...         Casual Dining   \n",
       "1573   Effingut\\r\\n                                                       Pub   \n",
       "2046  Andaground\\r\\n                                ...           Quick Bites   \n",
       "2165  Elephant & Co.\\r\\n                            ...          Microbrewery   \n",
       "2219    FatCook\\r\\n                                             Casual Dining   \n",
       "2277  Cream Stone\\r\\n                               ...        Dessert Parlor   \n",
       "2439  Idlicious\\r\\n                                               Quick Bites   \n",
       "2561  Linkin Barrel\\r\\n                             ...                   Bar   \n",
       "3284  Bhairavee Pure Veg Restaurant\\r\\n             ...         Casual Dining   \n",
       "3501  The K Factory\\r\\n                             ...  Casual Dining,Lounge   \n",
       "4047  World of Desserts\\r\\n                         ...        Dessert Parlor   \n",
       "4617  Makkhan Maar Ke\\r\\n                           ...                   NaN   \n",
       "5142  The Asian Box Resto Bar\\r\\n                   ...         Casual Dining   \n",
       "\n",
       "        loc  dine_rating     dine_reviews  delivery_rating delivery_reviews  \\\n",
       "58    Baner          4.7           -2,894              4.5             -649   \n",
       "72    Baner          4.6           -3,742              3.9             -252   \n",
       "120   Baner          4.5    (633 Reviews)              NaN              NaN   \n",
       "166   Baner          4.6  (3,912 Reviews)              NaN              NaN   \n",
       "221   Baner          4.3             -471              4.1             -238   \n",
       "257   Baner          4.4    (708 Reviews)              NaN              NaN   \n",
       "384   Baner          4.4  (1,219 Reviews)              NaN              NaN   \n",
       "388   Baner          4.3             -948              3.9           -1,947   \n",
       "420   Baner          4.3             -465              4.1             -492   \n",
       "599   Baner          4.4           -1,072              4.2           -2,684   \n",
       "975   Baner          4.3             -484              4.0           -2,331   \n",
       "1243  Baner          4.6  (3,912 Reviews)              NaN              NaN   \n",
       "1305  Baner          4.4           -1,072              4.2           -2,684   \n",
       "1573  Baner          4.7           -2,894              4.5             -649   \n",
       "2046  Baner          4.8             -763              4.2             -243   \n",
       "2165  Baner          4.3             -471              4.1             -238   \n",
       "2219  Baner          4.3             -823              4.0           -1,199   \n",
       "2277  Baner          4.5           -1,441              4.2           -3,972   \n",
       "2439  Baner          4.5           -1,025              4.3             -357   \n",
       "2561  Baner          4.4  (1,219 Reviews)              NaN              NaN   \n",
       "3284  Baner          4.3             -948              3.9           -1,947   \n",
       "3501  Baner          4.6           -3,742              3.9             -252   \n",
       "4047  Baner          4.3    (414 Reviews)              NaN              NaN   \n",
       "4617  Baner          4.3  (3,618 Reviews)              NaN              NaN   \n",
       "5142  Baner          4.3             -465              4.1             -492   \n",
       "\n",
       "                                                cuisine  Cost (RS)      cost  \\\n",
       "58      Asian,Italian,Mughlai,North Indian,Continental,       2000  Rs. 2000   \n",
       "72    Beverages,Biryani,Charcoal Chicken,Salad,Desse...       2000  Rs. 2000   \n",
       "120      South Indian,European,Continental,Finger Food,       1800  Rs. 1800   \n",
       "166              Fast Food,Asian,North Indian,Bar Food,       1600  Rs. 1600   \n",
       "221                      Salad,Continental,Finger Food,       1500  Rs. 1500   \n",
       "257               Finger Food,Continental,North Indian,       1500  Rs. 1500   \n",
       "384     North Indian,Italian,Modern Indian,Continental,       1300  Rs. 1300   \n",
       "388   Beverages,Desserts,Rolls,Biryani,Continental,C...       1300  Rs. 1300   \n",
       "420   Singaporean,Indonesian,Japanese,Thai,Malaysian...       1300  Rs. 1300   \n",
       "599                                      Maharashtrian,       1100  Rs. 1100   \n",
       "975                                    Desserts,Bakery,        400   Rs. 400   \n",
       "1243             Fast Food,Asian,North Indian,Bar Food,       1600  Rs. 1600   \n",
       "1305                                     Maharashtrian,       1100  Rs. 1100   \n",
       "1573    Asian,Italian,Mughlai,North Indian,Continental,       2000  Rs. 2000   \n",
       "2046                  Beverages,Healthy Food,Fast Food,        600   Rs. 600   \n",
       "2165                     Salad,Continental,Finger Food,       1500  Rs. 1500   \n",
       "2219                 Thai,Chinese,Italian,North Indian,        800   Rs. 800   \n",
       "2277                                Desserts,Ice Cream,        400   Rs. 400   \n",
       "2439                                      South Indian,        250   Rs. 250   \n",
       "2561    North Indian,Italian,Modern Indian,Continental,       1300  Rs. 1300   \n",
       "3284  Beverages,Desserts,Rolls,Biryani,Continental,C...       1300  Rs. 1300   \n",
       "3501  Beverages,Biryani,Charcoal Chicken,Salad,Desse...       2000  Rs. 2000   \n",
       "4047                                Beverages,Desserts,        400   Rs. 400   \n",
       "4617         Kebab,Biryani,Afghan,Mughlai,North Indian,        700   Rs. 700   \n",
       "5142  Singaporean,Indonesian,Japanese,Thai,Malaysian...       1300  Rs. 1300   \n",
       "\n",
       "                                                  liked  \n",
       "58    Apple Cider, Craft Beer, Nachos, Cocktails, Bu...  \n",
       "72    Pasta, Salad, Cheesecake, Cocktails, Pizza, Pe...  \n",
       "120   Cocktails, Tiramisu, Ravioli, Beer, Murgh Ghee...  \n",
       "166   Cocktails, Pizza, Beer, Soya Chaap, Mocktails,...  \n",
       "221   Cocktails, Popcorn, Sangria, Beer, Mushroom Cr...  \n",
       "257                                                 NaN  \n",
       "384   Cocktails, Pizza, Nachos, Mocktails, Long Isla...  \n",
       "388   Pasta, Naan, Brownie, Paneer Romanchak, Parath...  \n",
       "420   Khao Suey, Khau Suey, Noodle, Cocktails, Sushi...  \n",
       "599   Chicken Thali, Mutton Thali, Pandhra Rassa, No...  \n",
       "975   Belgium Chocolate Cake, Chocolava Cake, Cream ...  \n",
       "1243  Cocktails, Pizza, Beer, Soya Chaap, Mocktails,...  \n",
       "1305  Chicken Thali, Mutton Thali, Pandhra Rassa, No...  \n",
       "1573  Apple Cider, Craft Beer, Nachos, Cocktails, Bu...  \n",
       "2046  Chicken Keema, Iced Tea, Omelette, Sandwich, K...  \n",
       "2165  Cocktails, Popcorn, Sangria, Beer, Mushroom Cr...  \n",
       "2219  Pasta, Pizza, Nachos, Tom Kha Soup, Garlic Bre...  \n",
       "2277  Ferrero Rocher, Chocolate Overdose, Waffles, D...  \n",
       "2439  Idli, Filtered Coffee, Vada, Mysore Masala Dos...  \n",
       "2561  Cocktails, Pizza, Nachos, Mocktails, Long Isla...  \n",
       "3284  Pasta, Naan, Brownie, Paneer Romanchak, Parath...  \n",
       "3501  Pasta, Salad, Cheesecake, Cocktails, Pizza, Pe...  \n",
       "4047  Waffles, Churros, Freak Shake, Vanilla Ice Cre...  \n",
       "4617  Butter Chicken, Dal Makhani, Paneer Lababdar, ...  \n",
       "5142  Khao Suey, Khau Suey, Noodle, Cocktails, Sushi...  "
      ]
     },
     "execution_count": 10,
     "metadata": {},
     "output_type": "execute_result"
    }
   ],
   "source": [
    "df_baner_top=df_baner[df_baner[\"dine_rating\"]>4.2]\n",
    "df_baner_top"
   ]
  },
  {
   "cell_type": "code",
   "execution_count": 31,
   "metadata": {},
   "outputs": [
    {
     "name": "stdout",
     "output_type": "stream",
     "text": [
      "['Effingut\\r\\r\\n                                    '\n",
      " 'The K Factory\\r\\r\\n                                    '\n",
      " \"Mr Rabbit's Bar & Burrow\\r\\r\\n                                    \"\n",
      " 'The Urban Foundry\\r\\r\\n                                    '\n",
      " 'Elephant & Co.\\r\\r\\n                                    '\n",
      " 'TTF - The Tenth Floor\\r\\r\\n                                    '\n",
      " 'Linkin Barrel\\r\\r\\n                                    '\n",
      " 'Bhairavee Pure Veg Restaurant\\r\\r\\n                                    '\n",
      " 'The Asian Box Resto Bar\\r\\r\\n                                    '\n",
      " 'Maratha Samrat\\r\\r\\n                                    '\n",
      " '7th Heaven\\r\\n                                    '\n",
      " 'The Urban Foundry\\r\\n                                    '\n",
      " 'Maratha Samrat\\r\\n                                    '\n",
      " 'Effingut\\r\\n                                    '\n",
      " 'Andaground\\r\\n                                    '\n",
      " 'Elephant & Co.\\r\\n                                    '\n",
      " 'FatCook\\r\\n                                    '\n",
      " 'Cream Stone\\r\\n                                    '\n",
      " 'Idlicious\\r\\n                                    '\n",
      " 'Linkin Barrel\\r\\n                                    '\n",
      " 'Bhairavee Pure Veg Restaurant\\r\\n                                    '\n",
      " 'The K Factory\\r\\n                                    '\n",
      " 'World of Desserts\\r\\n                                    '\n",
      " 'Makkhan Maar Ke\\r\\n                                    '\n",
      " 'The Asian Box Resto Bar\\r\\n                                    ']\n"
     ]
    }
   ],
   "source": [
    "print((df_baner_top['rest_name'].unique()))\n",
    "#there are duplicate restaurants"
   ]
  },
  {
   "cell_type": "markdown",
   "metadata": {},
   "source": [
    "we can see that some restaurants names are almost same but they are repeating.\n"
   ]
  },
  {
   "cell_type": "code",
   "execution_count": 42,
   "metadata": {},
   "outputs": [],
   "source": [
    "#lets clean the strings\n",
    "baner_top_rest=[]\n",
    "for i in df_baner_top['rest_name'].unique():\n",
    "    i=i.strip()\n",
    "    baner_top_rest.append(i)\n",
    "\n"
   ]
  },
  {
   "cell_type": "code",
   "execution_count": 43,
   "metadata": {},
   "outputs": [
    {
     "data": {
      "text/plain": [
       "['Effingut',\n",
       " 'The K Factory',\n",
       " \"Mr Rabbit's Bar & Burrow\",\n",
       " 'The Urban Foundry',\n",
       " 'Elephant & Co.',\n",
       " 'TTF - The Tenth Floor',\n",
       " 'Linkin Barrel',\n",
       " 'Bhairavee Pure Veg Restaurant',\n",
       " 'The Asian Box Resto Bar',\n",
       " 'Maratha Samrat',\n",
       " '7th Heaven',\n",
       " 'The Urban Foundry',\n",
       " 'Maratha Samrat',\n",
       " 'Effingut',\n",
       " 'Andaground',\n",
       " 'Elephant & Co.',\n",
       " 'FatCook',\n",
       " 'Cream Stone',\n",
       " 'Idlicious',\n",
       " 'Linkin Barrel',\n",
       " 'Bhairavee Pure Veg Restaurant',\n",
       " 'The K Factory',\n",
       " 'World of Desserts',\n",
       " 'Makkhan Maar Ke',\n",
       " 'The Asian Box Resto Bar']"
      ]
     },
     "execution_count": 43,
     "metadata": {},
     "output_type": "execute_result"
    }
   ],
   "source": [
    "baner_top_rest\n",
    "#still there are duplicates in this, lets remove the duplicate values"
   ]
  },
  {
   "cell_type": "code",
   "execution_count": 46,
   "metadata": {},
   "outputs": [
    {
     "name": "stdout",
     "output_type": "stream",
     "text": [
      "['Effingut', 'The K Factory', \"Mr Rabbit's Bar & Burrow\", 'The Urban Foundry', 'Elephant & Co.', 'TTF - The Tenth Floor', 'Linkin Barrel', 'Bhairavee Pure Veg Restaurant', 'The Asian Box Resto Bar', 'Maratha Samrat', '7th Heaven', 'Andaground', 'FatCook', 'Cream Stone', 'Idlicious', 'World of Desserts', 'Makkhan Maar Ke']\n",
      "17\n"
     ]
    }
   ],
   "source": [
    "#lets remove duplicates from the list\n",
    "baner_rest_top=[]\n",
    "for i in baner_top_rest:\n",
    "    if i not in baner_rest_top:\n",
    "        baner_rest_top.append(i)\n",
    "\n",
    "print(baner_rest_top)\n",
    "print(len(baner_rest_top))"
   ]
  },
  {
   "cell_type": "markdown",
   "metadata": {},
   "source": [
    "There are 17 restaurants in baner which got rating more than 4.2"
   ]
  },
  {
   "cell_type": "markdown",
   "metadata": {},
   "source": [
    "# Restaurants which got 0 rating on Zomato in Pune."
   ]
  },
  {
   "cell_type": "code",
   "execution_count": 48,
   "metadata": {},
   "outputs": [
    {
     "data": {
      "text/html": [
       "<div>\n",
       "<style scoped>\n",
       "    .dataframe tbody tr th:only-of-type {\n",
       "        vertical-align: middle;\n",
       "    }\n",
       "\n",
       "    .dataframe tbody tr th {\n",
       "        vertical-align: top;\n",
       "    }\n",
       "\n",
       "    .dataframe thead th {\n",
       "        text-align: right;\n",
       "    }\n",
       "</style>\n",
       "<table border=\"1\" class=\"dataframe\">\n",
       "  <thead>\n",
       "    <tr style=\"text-align: right;\">\n",
       "      <th></th>\n",
       "      <th>rest_name</th>\n",
       "      <th>rest_type</th>\n",
       "      <th>loc</th>\n",
       "      <th>dine_rating</th>\n",
       "      <th>dine_reviews</th>\n",
       "      <th>delivery_rating</th>\n",
       "      <th>delivery_reviews</th>\n",
       "      <th>cuisine</th>\n",
       "      <th>Cost (RS)</th>\n",
       "      <th>cost</th>\n",
       "      <th>liked</th>\n",
       "    </tr>\n",
       "  </thead>\n",
       "  <tbody>\n",
       "    <tr>\n",
       "      <th>36</th>\n",
       "      <td>Zen Bar\\r\\r\\n</td>\n",
       "      <td>Bar</td>\n",
       "      <td>Hotel Mercure, Lavasa</td>\n",
       "      <td>0.0</td>\n",
       "      <td>NaN</td>\n",
       "      <td>NaN</td>\n",
       "      <td>NaN</td>\n",
       "      <td>Finger Food,</td>\n",
       "      <td>2400</td>\n",
       "      <td>Rs. 2400</td>\n",
       "      <td>NaN</td>\n",
       "    </tr>\n",
       "    <tr>\n",
       "      <th>96</th>\n",
       "      <td>The Chinese Restaurant\\r\\r\\n                  ...</td>\n",
       "      <td>Fine Dining</td>\n",
       "      <td>Mundhwa</td>\n",
       "      <td>0.0</td>\n",
       "      <td>NaN</td>\n",
       "      <td>NaN</td>\n",
       "      <td>NaN</td>\n",
       "      <td>Cantonese,Chinese,</td>\n",
       "      <td>2000</td>\n",
       "      <td>Rs. 2000</td>\n",
       "      <td>NaN</td>\n",
       "    </tr>\n",
       "    <tr>\n",
       "      <th>100</th>\n",
       "      <td>Fusion Fantasea\\r\\r\\n                         ...</td>\n",
       "      <td>Bar,Casual Dining</td>\n",
       "      <td>Erandwane</td>\n",
       "      <td>0.0</td>\n",
       "      <td>NaN</td>\n",
       "      <td>NaN</td>\n",
       "      <td>NaN</td>\n",
       "      <td>Chinese,Mughlai,Malwani,North Indian,Continental,</td>\n",
       "      <td>2000</td>\n",
       "      <td>Rs. 2000</td>\n",
       "      <td>NaN</td>\n",
       "    </tr>\n",
       "    <tr>\n",
       "      <th>102</th>\n",
       "      <td>The Bar Stock Exchange\\r\\r\\n                  ...</td>\n",
       "      <td>Pub,Casual Dining</td>\n",
       "      <td>FC Road</td>\n",
       "      <td>0.0</td>\n",
       "      <td>NaN</td>\n",
       "      <td>NaN</td>\n",
       "      <td>NaN</td>\n",
       "      <td>Italian,North Indian,Chinese,Continental,</td>\n",
       "      <td>1900</td>\n",
       "      <td>Rs. 1900</td>\n",
       "      <td>NaN</td>\n",
       "    </tr>\n",
       "    <tr>\n",
       "      <th>116</th>\n",
       "      <td>Asia Kitchen By Mainland China\\r\\r\\n          ...</td>\n",
       "      <td>NaN</td>\n",
       "      <td>Senapati Bapat Road</td>\n",
       "      <td>0.0</td>\n",
       "      <td>NaN</td>\n",
       "      <td>NaN</td>\n",
       "      <td>NaN</td>\n",
       "      <td>Chinese,Asian,</td>\n",
       "      <td>1800</td>\n",
       "      <td>Rs. 1800</td>\n",
       "      <td>NaN</td>\n",
       "    </tr>\n",
       "    <tr>\n",
       "      <th>...</th>\n",
       "      <td>...</td>\n",
       "      <td>...</td>\n",
       "      <td>...</td>\n",
       "      <td>...</td>\n",
       "      <td>...</td>\n",
       "      <td>...</td>\n",
       "      <td>...</td>\n",
       "      <td>...</td>\n",
       "      <td>...</td>\n",
       "      <td>...</td>\n",
       "      <td>...</td>\n",
       "    </tr>\n",
       "    <tr>\n",
       "      <th>5312</th>\n",
       "      <td>Super Meal\\r\\n                                ...</td>\n",
       "      <td>NaN</td>\n",
       "      <td>Shivaji Nagar</td>\n",
       "      <td>0.0</td>\n",
       "      <td>NaN</td>\n",
       "      <td>NaN</td>\n",
       "      <td>NaN</td>\n",
       "      <td>Biryani,North Indian,</td>\n",
       "      <td>350</td>\n",
       "      <td>Rs. 350</td>\n",
       "      <td>NaN</td>\n",
       "    </tr>\n",
       "    <tr>\n",
       "      <th>5355</th>\n",
       "      <td>Garawa Biryani\\r\\n                            ...</td>\n",
       "      <td>Quick Bites</td>\n",
       "      <td>Sadashiv Peth</td>\n",
       "      <td>0.0</td>\n",
       "      <td>NaN</td>\n",
       "      <td>NaN</td>\n",
       "      <td>NaN</td>\n",
       "      <td>Biryani,</td>\n",
       "      <td>250</td>\n",
       "      <td>Rs. 250</td>\n",
       "      <td>NaN</td>\n",
       "    </tr>\n",
       "    <tr>\n",
       "      <th>5399</th>\n",
       "      <td>Janta Khanaval\\r\\n                            ...</td>\n",
       "      <td>NaN</td>\n",
       "      <td>Narhe</td>\n",
       "      <td>0.0</td>\n",
       "      <td>NaN</td>\n",
       "      <td>NaN</td>\n",
       "      <td>NaN</td>\n",
       "      <td>Maharashtrian,</td>\n",
       "      <td>300</td>\n",
       "      <td>Rs. 300</td>\n",
       "      <td>NaN</td>\n",
       "    </tr>\n",
       "    <tr>\n",
       "      <th>5400</th>\n",
       "      <td>Taj 24/7\\r\\n</td>\n",
       "      <td>NaN</td>\n",
       "      <td>Kothrud</td>\n",
       "      <td>0.0</td>\n",
       "      <td>NaN</td>\n",
       "      <td>NaN</td>\n",
       "      <td>NaN</td>\n",
       "      <td>Beverages,South Indian,Street Food,</td>\n",
       "      <td>200</td>\n",
       "      <td>Rs. 200</td>\n",
       "      <td>NaN</td>\n",
       "    </tr>\n",
       "    <tr>\n",
       "      <th>5419</th>\n",
       "      <td>Homemade Meal Box - Snigdha\\r\\n               ...</td>\n",
       "      <td>NaN</td>\n",
       "      <td>Kondhwa</td>\n",
       "      <td>0.0</td>\n",
       "      <td>NaN</td>\n",
       "      <td>NaN</td>\n",
       "      <td>NaN</td>\n",
       "      <td>North Indian,</td>\n",
       "      <td>300</td>\n",
       "      <td>Rs. 300</td>\n",
       "      <td>NaN</td>\n",
       "    </tr>\n",
       "  </tbody>\n",
       "</table>\n",
       "<p>566 rows × 11 columns</p>\n",
       "</div>"
      ],
      "text/plain": [
       "                                              rest_name          rest_type  \\\n",
       "36    Zen Bar\\r\\r\\n                                                    Bar   \n",
       "96    The Chinese Restaurant\\r\\r\\n                  ...        Fine Dining   \n",
       "100   Fusion Fantasea\\r\\r\\n                         ...  Bar,Casual Dining   \n",
       "102   The Bar Stock Exchange\\r\\r\\n                  ...  Pub,Casual Dining   \n",
       "116   Asia Kitchen By Mainland China\\r\\r\\n          ...                NaN   \n",
       "...                                                 ...                ...   \n",
       "5312  Super Meal\\r\\n                                ...                NaN   \n",
       "5355  Garawa Biryani\\r\\n                            ...        Quick Bites   \n",
       "5399  Janta Khanaval\\r\\n                            ...                NaN   \n",
       "5400   Taj 24/7\\r\\n                                                    NaN   \n",
       "5419  Homemade Meal Box - Snigdha\\r\\n               ...                NaN   \n",
       "\n",
       "                        loc  dine_rating dine_reviews  delivery_rating  \\\n",
       "36    Hotel Mercure, Lavasa          0.0          NaN              NaN   \n",
       "96                  Mundhwa          0.0          NaN              NaN   \n",
       "100               Erandwane          0.0          NaN              NaN   \n",
       "102                 FC Road          0.0          NaN              NaN   \n",
       "116     Senapati Bapat Road          0.0          NaN              NaN   \n",
       "...                     ...          ...          ...              ...   \n",
       "5312          Shivaji Nagar          0.0          NaN              NaN   \n",
       "5355          Sadashiv Peth          0.0          NaN              NaN   \n",
       "5399                  Narhe          0.0          NaN              NaN   \n",
       "5400                Kothrud          0.0          NaN              NaN   \n",
       "5419                Kondhwa          0.0          NaN              NaN   \n",
       "\n",
       "     delivery_reviews                                            cuisine  \\\n",
       "36                NaN                                       Finger Food,   \n",
       "96                NaN                                 Cantonese,Chinese,   \n",
       "100               NaN  Chinese,Mughlai,Malwani,North Indian,Continental,   \n",
       "102               NaN          Italian,North Indian,Chinese,Continental,   \n",
       "116               NaN                                     Chinese,Asian,   \n",
       "...               ...                                                ...   \n",
       "5312              NaN                              Biryani,North Indian,   \n",
       "5355              NaN                                           Biryani,   \n",
       "5399              NaN                                     Maharashtrian,   \n",
       "5400              NaN                Beverages,South Indian,Street Food,   \n",
       "5419              NaN                                      North Indian,   \n",
       "\n",
       "      Cost (RS)      cost liked  \n",
       "36         2400  Rs. 2400   NaN  \n",
       "96         2000  Rs. 2000   NaN  \n",
       "100        2000  Rs. 2000   NaN  \n",
       "102        1900  Rs. 1900   NaN  \n",
       "116        1800  Rs. 1800   NaN  \n",
       "...         ...       ...   ...  \n",
       "5312        350   Rs. 350   NaN  \n",
       "5355        250   Rs. 250   NaN  \n",
       "5399        300   Rs. 300   NaN  \n",
       "5400        200   Rs. 200   NaN  \n",
       "5419        300   Rs. 300   NaN  \n",
       "\n",
       "[566 rows x 11 columns]"
      ]
     },
     "execution_count": 48,
     "metadata": {},
     "output_type": "execute_result"
    }
   ],
   "source": [
    "df_zero_rating=df[df['dine_rating']==0]\n",
    "df_zero_rating"
   ]
  },
  {
   "cell_type": "code",
   "execution_count": 49,
   "metadata": {},
   "outputs": [
    {
     "data": {
      "text/plain": [
       "(566, 11)"
      ]
     },
     "execution_count": 49,
     "metadata": {},
     "output_type": "execute_result"
    }
   ],
   "source": [
    "df_zero_rating.shape"
   ]
  },
  {
   "cell_type": "markdown",
   "metadata": {},
   "source": [
    "There are 566 restaurants which got 0 ratings on zomato, may be these are new restaurants or may be not very popular."
   ]
  },
  {
   "cell_type": "code",
   "execution_count": 33,
   "metadata": {
    "scrolled": true
   },
   "outputs": [
    {
     "data": {
      "text/html": [
       "<div>\n",
       "<style scoped>\n",
       "    .dataframe tbody tr th:only-of-type {\n",
       "        vertical-align: middle;\n",
       "    }\n",
       "\n",
       "    .dataframe tbody tr th {\n",
       "        vertical-align: top;\n",
       "    }\n",
       "\n",
       "    .dataframe thead th {\n",
       "        text-align: right;\n",
       "    }\n",
       "</style>\n",
       "<table border=\"1\" class=\"dataframe\">\n",
       "  <thead>\n",
       "    <tr style=\"text-align: right;\">\n",
       "      <th></th>\n",
       "      <th>rest_name</th>\n",
       "      <th>cost</th>\n",
       "      <th>loc</th>\n",
       "      <th>rest_type</th>\n",
       "      <th>cuisine</th>\n",
       "      <th>delivery_rating</th>\n",
       "      <th>dine_rating</th>\n",
       "      <th>delivery_reviews</th>\n",
       "      <th>dine_reviews</th>\n",
       "    </tr>\n",
       "  </thead>\n",
       "  <tbody>\n",
       "    <tr>\n",
       "      <th>17</th>\n",
       "      <td>Oak Lounge - Marriott Suites Pune             ...</td>\n",
       "      <td>2700.0</td>\n",
       "      <td>Marriott Suites Pune</td>\n",
       "      <td>Lounge</td>\n",
       "      <td>Finger Food,</td>\n",
       "      <td>NaN</td>\n",
       "      <td>4.2</td>\n",
       "      <td>NaN</td>\n",
       "      <td>845.0</td>\n",
       "    </tr>\n",
       "    <tr>\n",
       "      <th>5</th>\n",
       "      <td>Baan Tao - Hyatt Pune                         ...</td>\n",
       "      <td>3000.0</td>\n",
       "      <td>Hyatt Pune, Nagar Road</td>\n",
       "      <td>Fine Dining</td>\n",
       "      <td>Salad,Asian,Malaysian,Vietnamese,Thai,Chinese,</td>\n",
       "      <td>NaN</td>\n",
       "      <td>4.5</td>\n",
       "      <td>NaN</td>\n",
       "      <td>739.0</td>\n",
       "    </tr>\n",
       "    <tr>\n",
       "      <th>0</th>\n",
       "      <td>Mix@36 - The Westin                           ...</td>\n",
       "      <td>4300.0</td>\n",
       "      <td>The Westin, Mundhwa</td>\n",
       "      <td>Lounge</td>\n",
       "      <td>North Indian,Continental,Asian,Finger Food,</td>\n",
       "      <td>NaN</td>\n",
       "      <td>4.2</td>\n",
       "      <td>NaN</td>\n",
       "      <td>707.0</td>\n",
       "    </tr>\n",
       "    <tr>\n",
       "      <th>18</th>\n",
       "      <td>The CafÃ¨ - Hyatt Regency Pune                ...</td>\n",
       "      <td>2600.0</td>\n",
       "      <td>The Hyatt Regency, Nagar Road</td>\n",
       "      <td>Fine Dining</td>\n",
       "      <td>Continental,Asian,North Indian,</td>\n",
       "      <td>NaN</td>\n",
       "      <td>4.3</td>\n",
       "      <td>NaN</td>\n",
       "      <td>675.0</td>\n",
       "    </tr>\n",
       "    <tr>\n",
       "      <th>8</th>\n",
       "      <td>Feast - Sheraton Grand                        ...</td>\n",
       "      <td>3000.0</td>\n",
       "      <td>Sheraton Grand, Bund Garden Road</td>\n",
       "      <td>Fine Dining</td>\n",
       "      <td>European,Asian,North Indian,</td>\n",
       "      <td>NaN</td>\n",
       "      <td>4.5</td>\n",
       "      <td>NaN</td>\n",
       "      <td>577.0</td>\n",
       "    </tr>\n",
       "  </tbody>\n",
       "</table>\n",
       "</div>"
      ],
      "text/plain": [
       "                                            rest_name    cost  \\\n",
       "17  Oak Lounge - Marriott Suites Pune             ...  2700.0   \n",
       "5   Baan Tao - Hyatt Pune                         ...  3000.0   \n",
       "0   Mix@36 - The Westin                           ...  4300.0   \n",
       "18  The CafÃ¨ - Hyatt Regency Pune                ...  2600.0   \n",
       "8   Feast - Sheraton Grand                        ...  3000.0   \n",
       "\n",
       "                                 loc    rest_type  \\\n",
       "17              Marriott Suites Pune       Lounge   \n",
       "5             Hyatt Pune, Nagar Road  Fine Dining   \n",
       "0                The Westin, Mundhwa       Lounge   \n",
       "18     The Hyatt Regency, Nagar Road  Fine Dining   \n",
       "8   Sheraton Grand, Bund Garden Road  Fine Dining   \n",
       "\n",
       "                                           cuisine  delivery_rating  \\\n",
       "17                                    Finger Food,              NaN   \n",
       "5   Salad,Asian,Malaysian,Vietnamese,Thai,Chinese,              NaN   \n",
       "0      North Indian,Continental,Asian,Finger Food,              NaN   \n",
       "18                 Continental,Asian,North Indian,              NaN   \n",
       "8                     European,Asian,North Indian,              NaN   \n",
       "\n",
       "    dine_rating  delivery_reviews  dine_reviews  \n",
       "17          4.2               NaN         845.0  \n",
       "5           4.5               NaN         739.0  \n",
       "0           4.2               NaN         707.0  \n",
       "18          4.3               NaN         675.0  \n",
       "8           4.5               NaN         577.0  "
      ]
     },
     "execution_count": 33,
     "metadata": {},
     "output_type": "execute_result"
    }
   ],
   "source": [
    "exp_rest=zomato[['rest_name','cost', 'loc','rest_type','cuisine', 'delivery_rating', 'dine_rating', 'delivery_reviews', 'dine_reviews']]\n",
    "exp_rest=exp_rest[(exp_rest['cost'] >2500) & ( (exp_rest['dine_rating'] > 4.0 )| (exp_rest['delivery_rating'] > 4.0))&   ((exp_rest['delivery_reviews'] > 400) | (exp_rest['dine_reviews'] >400))].sort_values(by=['dine_reviews'], ascending = False)\n",
    "exp_rest.head()"
   ]
  },
  {
   "cell_type": "markdown",
   "metadata": {},
   "source": [
    "# TOP 10 RESTAURANTS LOCATION IN PUNE"
   ]
  },
  {
   "cell_type": "code",
   "execution_count": 50,
   "metadata": {},
   "outputs": [
    {
     "data": {
      "text/html": [
       "<div>\n",
       "<style scoped>\n",
       "    .dataframe tbody tr th:only-of-type {\n",
       "        vertical-align: middle;\n",
       "    }\n",
       "\n",
       "    .dataframe tbody tr th {\n",
       "        vertical-align: top;\n",
       "    }\n",
       "\n",
       "    .dataframe thead th {\n",
       "        text-align: right;\n",
       "    }\n",
       "</style>\n",
       "<table border=\"1\" class=\"dataframe\">\n",
       "  <thead>\n",
       "    <tr style=\"text-align: right;\">\n",
       "      <th></th>\n",
       "      <th>dine_rating</th>\n",
       "      <th>loc</th>\n",
       "    </tr>\n",
       "  </thead>\n",
       "  <tbody>\n",
       "    <tr>\n",
       "      <th>0</th>\n",
       "      <td>4.2</td>\n",
       "      <td>The Westin, Mundhwa</td>\n",
       "    </tr>\n",
       "    <tr>\n",
       "      <th>1</th>\n",
       "      <td>4.1</td>\n",
       "      <td>The Westin, Mundhwa</td>\n",
       "    </tr>\n",
       "    <tr>\n",
       "      <th>2</th>\n",
       "      <td>4.5</td>\n",
       "      <td>Conrad Pune, Bund Garden Road</td>\n",
       "    </tr>\n",
       "    <tr>\n",
       "      <th>3</th>\n",
       "      <td>4.0</td>\n",
       "      <td>The Westin, Mundhwa</td>\n",
       "    </tr>\n",
       "    <tr>\n",
       "      <th>4</th>\n",
       "      <td>3.9</td>\n",
       "      <td>Vivanta Pune, Hinjewadi</td>\n",
       "    </tr>\n",
       "    <tr>\n",
       "      <th>...</th>\n",
       "      <td>...</td>\n",
       "      <td>...</td>\n",
       "    </tr>\n",
       "    <tr>\n",
       "      <th>5428</th>\n",
       "      <td>3.1</td>\n",
       "      <td>Sinhgad Road</td>\n",
       "    </tr>\n",
       "    <tr>\n",
       "      <th>5429</th>\n",
       "      <td>2.9</td>\n",
       "      <td>Viman Nagar</td>\n",
       "    </tr>\n",
       "    <tr>\n",
       "      <th>5430</th>\n",
       "      <td>3.8</td>\n",
       "      <td>Pimpri</td>\n",
       "    </tr>\n",
       "    <tr>\n",
       "      <th>5431</th>\n",
       "      <td>3.1</td>\n",
       "      <td>Sadashiv Peth</td>\n",
       "    </tr>\n",
       "    <tr>\n",
       "      <th>5432</th>\n",
       "      <td>3.6</td>\n",
       "      <td>B.T. Kawade Road</td>\n",
       "    </tr>\n",
       "  </tbody>\n",
       "</table>\n",
       "<p>5183 rows × 2 columns</p>\n",
       "</div>"
      ],
      "text/plain": [
       "      dine_rating                            loc\n",
       "0             4.2            The Westin, Mundhwa\n",
       "1             4.1            The Westin, Mundhwa\n",
       "2             4.5  Conrad Pune, Bund Garden Road\n",
       "3             4.0            The Westin, Mundhwa\n",
       "4             3.9        Vivanta Pune, Hinjewadi\n",
       "...           ...                            ...\n",
       "5428          3.1                   Sinhgad Road\n",
       "5429          2.9                    Viman Nagar\n",
       "5430          3.8                         Pimpri\n",
       "5431          3.1                  Sadashiv Peth\n",
       "5432          3.6               B.T. Kawade Road\n",
       "\n",
       "[5183 rows x 2 columns]"
      ]
     },
     "execution_count": 50,
     "metadata": {},
     "output_type": "execute_result"
    }
   ],
   "source": [
    "df_locations=df[['dine_rating','loc']]\n",
    "df_locations"
   ]
  },
  {
   "cell_type": "code",
   "execution_count": 51,
   "metadata": {},
   "outputs": [
    {
     "data": {
      "text/html": [
       "<div>\n",
       "<style scoped>\n",
       "    .dataframe tbody tr th:only-of-type {\n",
       "        vertical-align: middle;\n",
       "    }\n",
       "\n",
       "    .dataframe tbody tr th {\n",
       "        vertical-align: top;\n",
       "    }\n",
       "\n",
       "    .dataframe thead th {\n",
       "        text-align: right;\n",
       "    }\n",
       "</style>\n",
       "<table border=\"1\" class=\"dataframe\">\n",
       "  <thead>\n",
       "    <tr style=\"text-align: right;\">\n",
       "      <th></th>\n",
       "      <th>dine_rating</th>\n",
       "      <th>loc</th>\n",
       "    </tr>\n",
       "  </thead>\n",
       "  <tbody>\n",
       "    <tr>\n",
       "      <th>2</th>\n",
       "      <td>4.5</td>\n",
       "      <td>Conrad Pune, Bund Garden Road</td>\n",
       "    </tr>\n",
       "    <tr>\n",
       "      <th>5</th>\n",
       "      <td>4.5</td>\n",
       "      <td>Hyatt Pune, Nagar Road</td>\n",
       "    </tr>\n",
       "    <tr>\n",
       "      <th>8</th>\n",
       "      <td>4.5</td>\n",
       "      <td>Sheraton Grand, Bund Garden Road</td>\n",
       "    </tr>\n",
       "    <tr>\n",
       "      <th>18</th>\n",
       "      <td>4.3</td>\n",
       "      <td>The Hyatt Regency, Nagar Road</td>\n",
       "    </tr>\n",
       "    <tr>\n",
       "      <th>21</th>\n",
       "      <td>4.8</td>\n",
       "      <td>JW Marriott Pune, Senapati Bapat Road</td>\n",
       "    </tr>\n",
       "    <tr>\n",
       "      <th>22</th>\n",
       "      <td>4.3</td>\n",
       "      <td>Crowne Plaza Pune City Centre, Bund Garden Road</td>\n",
       "    </tr>\n",
       "    <tr>\n",
       "      <th>25</th>\n",
       "      <td>4.4</td>\n",
       "      <td>JW Marriott Pune, Senapati Bapat Road</td>\n",
       "    </tr>\n",
       "    <tr>\n",
       "      <th>29</th>\n",
       "      <td>4.3</td>\n",
       "      <td>Blue Diamond, Koregaon Park</td>\n",
       "    </tr>\n",
       "    <tr>\n",
       "      <th>38</th>\n",
       "      <td>4.8</td>\n",
       "      <td>Koregaon Park</td>\n",
       "    </tr>\n",
       "    <tr>\n",
       "      <th>39</th>\n",
       "      <td>4.6</td>\n",
       "      <td>Mundhwa</td>\n",
       "    </tr>\n",
       "    <tr>\n",
       "      <th>40</th>\n",
       "      <td>4.3</td>\n",
       "      <td>Vivanta Pune, Hinjewadi</td>\n",
       "    </tr>\n",
       "    <tr>\n",
       "      <th>42</th>\n",
       "      <td>4.5</td>\n",
       "      <td>JW Marriott Pune, Senapati Bapat Road</td>\n",
       "    </tr>\n",
       "    <tr>\n",
       "      <th>43</th>\n",
       "      <td>4.4</td>\n",
       "      <td>East Street</td>\n",
       "    </tr>\n",
       "    <tr>\n",
       "      <th>49</th>\n",
       "      <td>4.9</td>\n",
       "      <td>Koregaon Park</td>\n",
       "    </tr>\n",
       "    <tr>\n",
       "      <th>52</th>\n",
       "      <td>4.4</td>\n",
       "      <td>Marriott Suites Pune</td>\n",
       "    </tr>\n",
       "    <tr>\n",
       "      <th>53</th>\n",
       "      <td>4.4</td>\n",
       "      <td>Della Adventure Resort</td>\n",
       "    </tr>\n",
       "    <tr>\n",
       "      <th>58</th>\n",
       "      <td>4.7</td>\n",
       "      <td>Baner</td>\n",
       "    </tr>\n",
       "    <tr>\n",
       "      <th>61</th>\n",
       "      <td>4.5</td>\n",
       "      <td>Bund Garden Road</td>\n",
       "    </tr>\n",
       "    <tr>\n",
       "      <th>63</th>\n",
       "      <td>4.5</td>\n",
       "      <td>Shivaji Nagar</td>\n",
       "    </tr>\n",
       "    <tr>\n",
       "      <th>65</th>\n",
       "      <td>4.4</td>\n",
       "      <td>ABC Farms,Mundhwa</td>\n",
       "    </tr>\n",
       "  </tbody>\n",
       "</table>\n",
       "</div>"
      ],
      "text/plain": [
       "    dine_rating                                              loc\n",
       "2           4.5                    Conrad Pune, Bund Garden Road\n",
       "5           4.5                           Hyatt Pune, Nagar Road\n",
       "8           4.5                 Sheraton Grand, Bund Garden Road\n",
       "18          4.3                    The Hyatt Regency, Nagar Road\n",
       "21          4.8            JW Marriott Pune, Senapati Bapat Road\n",
       "22          4.3  Crowne Plaza Pune City Centre, Bund Garden Road\n",
       "25          4.4            JW Marriott Pune, Senapati Bapat Road\n",
       "29          4.3                      Blue Diamond, Koregaon Park\n",
       "38          4.8                                    Koregaon Park\n",
       "39          4.6                                          Mundhwa\n",
       "40          4.3                          Vivanta Pune, Hinjewadi\n",
       "42          4.5            JW Marriott Pune, Senapati Bapat Road\n",
       "43          4.4                                      East Street\n",
       "49          4.9                                    Koregaon Park\n",
       "52          4.4                             Marriott Suites Pune\n",
       "53          4.4                           Della Adventure Resort\n",
       "58          4.7                                            Baner\n",
       "61          4.5                                 Bund Garden Road\n",
       "63          4.5                                    Shivaji Nagar\n",
       "65          4.4                                ABC Farms,Mundhwa"
      ]
     },
     "execution_count": 51,
     "metadata": {},
     "output_type": "execute_result"
    }
   ],
   "source": [
    "best_rest=df_locations[df_locations[\"dine_rating\"]>4.2]\n",
    "best_rest.head(20)"
   ]
  },
  {
   "cell_type": "code",
   "execution_count": 8,
   "metadata": {},
   "outputs": [
    {
     "data": {
      "text/plain": [
       "(439, 2)"
      ]
     },
     "execution_count": 8,
     "metadata": {},
     "output_type": "execute_result"
    }
   ],
   "source": [
    "best_rest.shape"
   ]
  },
  {
   "cell_type": "code",
   "execution_count": 52,
   "metadata": {},
   "outputs": [
    {
     "name": "stdout",
     "output_type": "stream",
     "text": [
      "<pandas.core.groupby.generic.DataFrameGroupBy object at 0x7f8b8235f880>\n"
     ]
    }
   ],
   "source": [
    "a=best_rest.groupby(\"loc\")\n",
    "print(a)"
   ]
  },
  {
   "cell_type": "code",
   "execution_count": 53,
   "metadata": {},
   "outputs": [
    {
     "name": "stdout",
     "output_type": "stream",
     "text": [
      "loc\n",
      "ABC Farms,Mundhwa                 2\n",
      "Akurdi                            1\n",
      "Amanora Town Centre, Hadapsar     4\n",
      "Aundh                            17\n",
      "Balewadi                          3\n",
      "                                 ..\n",
      "Wagholi                           1\n",
      "Wakad                            11\n",
      "Wanowrie                          2\n",
      "Warje                             1\n",
      "Yerawada                          1\n",
      "Length: 91, dtype: int64\n",
      "<class 'pandas.core.series.Series'>\n"
     ]
    }
   ],
   "source": [
    "location_wise_best_Restaurant=a.size()\n",
    "print(location_wise_best_Restaurant)\n",
    "print(type(location_wise_best_Restaurant))"
   ]
  },
  {
   "cell_type": "code",
   "execution_count": 54,
   "metadata": {
    "scrolled": true
   },
   "outputs": [
    {
     "data": {
      "text/plain": [
       "loc\n",
       "Koregaon Park                         47\n",
       "Kothrud                               26\n",
       "Baner                                 25\n",
       "Kalyani Nagar                         23\n",
       "Viman Nagar                           21\n",
       "                                      ..\n",
       "Pashan                                 1\n",
       "Pimple Gurav                           1\n",
       "Pimpri                                 1\n",
       "Pubtown, Creaticity Mall, Yerawada     1\n",
       "Yerawada                               1\n",
       "Length: 91, dtype: int64"
      ]
     },
     "execution_count": 54,
     "metadata": {},
     "output_type": "execute_result"
    }
   ],
   "source": [
    "location_wise_best=location_wise_best_Restaurant.sort_values(ascending=False)\n",
    "a=location_wise_best[:10]\n",
    "\n",
    "location_wise_best"
   ]
  },
  {
   "cell_type": "code",
   "execution_count": 55,
   "metadata": {},
   "outputs": [
    {
     "data": {
      "text/plain": [
       "<AxesSubplot:ylabel='loc'>"
      ]
     },
     "execution_count": 55,
     "metadata": {},
     "output_type": "execute_result"
    },
    {
     "data": {
      "image/png": "[encoded data removed]",
      "text/plain": [
       "<Figure size 432x288 with 1 Axes>"
      ]
     },
     "metadata": {
      "needs_background": "light"
     },
     "output_type": "display_data"
    }
   ],
   "source": [
    "#bar plot\n",
    "\n",
    "sns.barplot(x=a,y=a.index)\n",
    "\n"
   ]
  },
  {
   "cell_type": "code",
   "execution_count": 56,
   "metadata": {},
   "outputs": [],
   "source": [
    "#total number of restaurant by location\n",
    "\n",
    "Number_of_location=df[['loc','dine_rating']]\n",
    "a=Number_of_location.groupby(\"loc\")\n",
    "rest_per_location=a.size()\n",
    "\n"
   ]
  },
  {
   "cell_type": "code",
   "execution_count": 57,
   "metadata": {},
   "outputs": [
    {
     "data": {
      "text/plain": [
       "loc\n",
       "Kothrud                           264\n",
       "Wakad                             225\n",
       "Viman Nagar                       224\n",
       "Baner                             219\n",
       "Hinjawadi                         213\n",
       "                                 ... \n",
       "Rahul Complex, Kothrud              1\n",
       "Bopkhel                             1\n",
       "St Laurn Hotel, Koregaon Park       1\n",
       "Super Mall                          1\n",
       " Hotel Satish Executive, Wakad      1\n",
       "Length: 193, dtype: int64"
      ]
     },
     "execution_count": 57,
     "metadata": {},
     "output_type": "execute_result"
    }
   ],
   "source": [
    "rest_per_location=rest_per_location.sort_values(ascending=False)\n",
    "rest_per_location"
   ]
  },
  {
   "cell_type": "code",
   "execution_count": 58,
   "metadata": {},
   "outputs": [
    {
     "data": {
      "text/plain": [
       "loc\n",
       "Kothrud            264\n",
       "Wakad              225\n",
       "Viman Nagar        224\n",
       "Baner              219\n",
       "Hinjawadi          213\n",
       "Hadapsar           183\n",
       "Kharadi            180\n",
       "Sinhgad Road       142\n",
       "Pimple Saudagar    134\n",
       "Koregaon Park      123\n",
       "dtype: int64"
      ]
     },
     "execution_count": 58,
     "metadata": {},
     "output_type": "execute_result"
    }
   ],
   "source": [
    "rest_per_location[:10]"
   ]
  },
  {
   "cell_type": "code",
   "execution_count": 59,
   "metadata": {},
   "outputs": [],
   "source": [
    "#now we want to find \n",
    "#(number of rest which got more than 4.2/ total number of rest) per location\n",
    "#we are concatinating two series together\n",
    "frames=[rest_per_location,location_wise_best]\n",
    "data_n=pd.concat(\n",
    "    frames,\n",
    "    axis=1,\n",
    "    join=\"inner\",\n",
    "    ignore_index=False,\n",
    "    copy=True,\n",
    ")"
   ]
  },
  {
   "cell_type": "code",
   "execution_count": 60,
   "metadata": {},
   "outputs": [
    {
     "data": {
      "text/html": [
       "<div>\n",
       "<style scoped>\n",
       "    .dataframe tbody tr th:only-of-type {\n",
       "        vertical-align: middle;\n",
       "    }\n",
       "\n",
       "    .dataframe tbody tr th {\n",
       "        vertical-align: top;\n",
       "    }\n",
       "\n",
       "    .dataframe thead th {\n",
       "        text-align: right;\n",
       "    }\n",
       "</style>\n",
       "<table border=\"1\" class=\"dataframe\">\n",
       "  <thead>\n",
       "    <tr style=\"text-align: right;\">\n",
       "      <th></th>\n",
       "      <th>0</th>\n",
       "      <th>1</th>\n",
       "    </tr>\n",
       "    <tr>\n",
       "      <th>loc</th>\n",
       "      <th></th>\n",
       "      <th></th>\n",
       "    </tr>\n",
       "  </thead>\n",
       "  <tbody>\n",
       "    <tr>\n",
       "      <th>Kothrud</th>\n",
       "      <td>264</td>\n",
       "      <td>26</td>\n",
       "    </tr>\n",
       "    <tr>\n",
       "      <th>Wakad</th>\n",
       "      <td>225</td>\n",
       "      <td>11</td>\n",
       "    </tr>\n",
       "    <tr>\n",
       "      <th>Viman Nagar</th>\n",
       "      <td>224</td>\n",
       "      <td>21</td>\n",
       "    </tr>\n",
       "    <tr>\n",
       "      <th>Baner</th>\n",
       "      <td>219</td>\n",
       "      <td>25</td>\n",
       "    </tr>\n",
       "    <tr>\n",
       "      <th>Hinjawadi</th>\n",
       "      <td>213</td>\n",
       "      <td>7</td>\n",
       "    </tr>\n",
       "    <tr>\n",
       "      <th>...</th>\n",
       "      <td>...</td>\n",
       "      <td>...</td>\n",
       "    </tr>\n",
       "    <tr>\n",
       "      <th>The Mills, Bund Garden Road</th>\n",
       "      <td>1</td>\n",
       "      <td>1</td>\n",
       "    </tr>\n",
       "    <tr>\n",
       "      <th>The E-Square Hotel, Shivaji Nagar</th>\n",
       "      <td>1</td>\n",
       "      <td>1</td>\n",
       "    </tr>\n",
       "    <tr>\n",
       "      <th>Creaticity Mall, Yerawada</th>\n",
       "      <td>1</td>\n",
       "      <td>1</td>\n",
       "    </tr>\n",
       "    <tr>\n",
       "      <th>Panchshil Tech Park, Yerawada</th>\n",
       "      <td>1</td>\n",
       "      <td>1</td>\n",
       "    </tr>\n",
       "    <tr>\n",
       "      <th>Parichay Hotel, FC Road</th>\n",
       "      <td>1</td>\n",
       "      <td>1</td>\n",
       "    </tr>\n",
       "  </tbody>\n",
       "</table>\n",
       "<p>91 rows × 2 columns</p>\n",
       "</div>"
      ],
      "text/plain": [
       "                                     0   1\n",
       "loc                                       \n",
       "Kothrud                            264  26\n",
       "Wakad                              225  11\n",
       "Viman Nagar                        224  21\n",
       "Baner                              219  25\n",
       "Hinjawadi                          213   7\n",
       "...                                ...  ..\n",
       "The Mills, Bund Garden Road          1   1\n",
       "The E-Square Hotel, Shivaji Nagar    1   1\n",
       "Creaticity Mall, Yerawada            1   1\n",
       "Panchshil Tech Park, Yerawada        1   1\n",
       "Parichay Hotel, FC Road              1   1\n",
       "\n",
       "[91 rows x 2 columns]"
      ]
     },
     "execution_count": 60,
     "metadata": {},
     "output_type": "execute_result"
    }
   ],
   "source": [
    "data_n"
   ]
  },
  {
   "cell_type": "code",
   "execution_count": 61,
   "metadata": {},
   "outputs": [
    {
     "data": {
      "text/plain": [
       "loc\n",
       "Kothrud                              264\n",
       "Wakad                                225\n",
       "Viman Nagar                          224\n",
       "Baner                                219\n",
       "Hinjawadi                            213\n",
       "                                    ... \n",
       "The Mills, Bund Garden Road            1\n",
       "The E-Square Hotel, Shivaji Nagar      1\n",
       "Creaticity Mall, Yerawada              1\n",
       "Panchshil Tech Park, Yerawada          1\n",
       "Parichay Hotel, FC Road                1\n",
       "Name: 0, Length: 91, dtype: int64"
      ]
     },
     "execution_count": 61,
     "metadata": {},
     "output_type": "execute_result"
    }
   ],
   "source": [
    "data_n[0]"
   ]
  },
  {
   "cell_type": "code",
   "execution_count": 62,
   "metadata": {},
   "outputs": [
    {
     "name": "stdout",
     "output_type": "stream",
     "text": [
      "91\n"
     ]
    }
   ],
   "source": [
    "print(len(data_n[0].values))"
   ]
  },
  {
   "cell_type": "code",
   "execution_count": 63,
   "metadata": {},
   "outputs": [],
   "source": [
    "data_n['popularity_percentage']=list(map(lambda t: (t[1]/t[0])*100, zip(data_n[0], data_n[1])))\n"
   ]
  },
  {
   "cell_type": "code",
   "execution_count": 64,
   "metadata": {},
   "outputs": [
    {
     "data": {
      "text/html": [
       "<div>\n",
       "<style scoped>\n",
       "    .dataframe tbody tr th:only-of-type {\n",
       "        vertical-align: middle;\n",
       "    }\n",
       "\n",
       "    .dataframe tbody tr th {\n",
       "        vertical-align: top;\n",
       "    }\n",
       "\n",
       "    .dataframe thead th {\n",
       "        text-align: right;\n",
       "    }\n",
       "</style>\n",
       "<table border=\"1\" class=\"dataframe\">\n",
       "  <thead>\n",
       "    <tr style=\"text-align: right;\">\n",
       "      <th></th>\n",
       "      <th>0</th>\n",
       "      <th>1</th>\n",
       "      <th>popularity_percentage</th>\n",
       "    </tr>\n",
       "    <tr>\n",
       "      <th>loc</th>\n",
       "      <th></th>\n",
       "      <th></th>\n",
       "      <th></th>\n",
       "    </tr>\n",
       "  </thead>\n",
       "  <tbody>\n",
       "    <tr>\n",
       "      <th>Kothrud</th>\n",
       "      <td>264</td>\n",
       "      <td>26</td>\n",
       "      <td>9.848485</td>\n",
       "    </tr>\n",
       "    <tr>\n",
       "      <th>Wakad</th>\n",
       "      <td>225</td>\n",
       "      <td>11</td>\n",
       "      <td>4.888889</td>\n",
       "    </tr>\n",
       "    <tr>\n",
       "      <th>Viman Nagar</th>\n",
       "      <td>224</td>\n",
       "      <td>21</td>\n",
       "      <td>9.375000</td>\n",
       "    </tr>\n",
       "    <tr>\n",
       "      <th>Baner</th>\n",
       "      <td>219</td>\n",
       "      <td>25</td>\n",
       "      <td>11.415525</td>\n",
       "    </tr>\n",
       "    <tr>\n",
       "      <th>Hinjawadi</th>\n",
       "      <td>213</td>\n",
       "      <td>7</td>\n",
       "      <td>3.286385</td>\n",
       "    </tr>\n",
       "    <tr>\n",
       "      <th>...</th>\n",
       "      <td>...</td>\n",
       "      <td>...</td>\n",
       "      <td>...</td>\n",
       "    </tr>\n",
       "    <tr>\n",
       "      <th>The Mills, Bund Garden Road</th>\n",
       "      <td>1</td>\n",
       "      <td>1</td>\n",
       "      <td>100.000000</td>\n",
       "    </tr>\n",
       "    <tr>\n",
       "      <th>The E-Square Hotel, Shivaji Nagar</th>\n",
       "      <td>1</td>\n",
       "      <td>1</td>\n",
       "      <td>100.000000</td>\n",
       "    </tr>\n",
       "    <tr>\n",
       "      <th>Creaticity Mall, Yerawada</th>\n",
       "      <td>1</td>\n",
       "      <td>1</td>\n",
       "      <td>100.000000</td>\n",
       "    </tr>\n",
       "    <tr>\n",
       "      <th>Panchshil Tech Park, Yerawada</th>\n",
       "      <td>1</td>\n",
       "      <td>1</td>\n",
       "      <td>100.000000</td>\n",
       "    </tr>\n",
       "    <tr>\n",
       "      <th>Parichay Hotel, FC Road</th>\n",
       "      <td>1</td>\n",
       "      <td>1</td>\n",
       "      <td>100.000000</td>\n",
       "    </tr>\n",
       "  </tbody>\n",
       "</table>\n",
       "<p>91 rows × 3 columns</p>\n",
       "</div>"
      ],
      "text/plain": [
       "                                     0   1  popularity_percentage\n",
       "loc                                                              \n",
       "Kothrud                            264  26               9.848485\n",
       "Wakad                              225  11               4.888889\n",
       "Viman Nagar                        224  21               9.375000\n",
       "Baner                              219  25              11.415525\n",
       "Hinjawadi                          213   7               3.286385\n",
       "...                                ...  ..                    ...\n",
       "The Mills, Bund Garden Road          1   1             100.000000\n",
       "The E-Square Hotel, Shivaji Nagar    1   1             100.000000\n",
       "Creaticity Mall, Yerawada            1   1             100.000000\n",
       "Panchshil Tech Park, Yerawada        1   1             100.000000\n",
       "Parichay Hotel, FC Road              1   1             100.000000\n",
       "\n",
       "[91 rows x 3 columns]"
      ]
     },
     "execution_count": 64,
     "metadata": {},
     "output_type": "execute_result"
    }
   ],
   "source": [
    "data_n"
   ]
  },
  {
   "cell_type": "code",
   "execution_count": 65,
   "metadata": {},
   "outputs": [],
   "source": [
    "data_updated=data_n[data_n[0]>100]"
   ]
  },
  {
   "cell_type": "code",
   "execution_count": 66,
   "metadata": {},
   "outputs": [
    {
     "data": {
      "text/html": [
       "<div>\n",
       "<style scoped>\n",
       "    .dataframe tbody tr th:only-of-type {\n",
       "        vertical-align: middle;\n",
       "    }\n",
       "\n",
       "    .dataframe tbody tr th {\n",
       "        vertical-align: top;\n",
       "    }\n",
       "\n",
       "    .dataframe thead th {\n",
       "        text-align: right;\n",
       "    }\n",
       "</style>\n",
       "<table border=\"1\" class=\"dataframe\">\n",
       "  <thead>\n",
       "    <tr style=\"text-align: right;\">\n",
       "      <th></th>\n",
       "      <th>0</th>\n",
       "      <th>1</th>\n",
       "      <th>popularity_percentage</th>\n",
       "    </tr>\n",
       "    <tr>\n",
       "      <th>loc</th>\n",
       "      <th></th>\n",
       "      <th></th>\n",
       "      <th></th>\n",
       "    </tr>\n",
       "  </thead>\n",
       "  <tbody>\n",
       "    <tr>\n",
       "      <th>Kothrud</th>\n",
       "      <td>264</td>\n",
       "      <td>26</td>\n",
       "      <td>9.848485</td>\n",
       "    </tr>\n",
       "    <tr>\n",
       "      <th>Wakad</th>\n",
       "      <td>225</td>\n",
       "      <td>11</td>\n",
       "      <td>4.888889</td>\n",
       "    </tr>\n",
       "    <tr>\n",
       "      <th>Viman Nagar</th>\n",
       "      <td>224</td>\n",
       "      <td>21</td>\n",
       "      <td>9.375000</td>\n",
       "    </tr>\n",
       "    <tr>\n",
       "      <th>Baner</th>\n",
       "      <td>219</td>\n",
       "      <td>25</td>\n",
       "      <td>11.415525</td>\n",
       "    </tr>\n",
       "    <tr>\n",
       "      <th>Hinjawadi</th>\n",
       "      <td>213</td>\n",
       "      <td>7</td>\n",
       "      <td>3.286385</td>\n",
       "    </tr>\n",
       "    <tr>\n",
       "      <th>Hadapsar</th>\n",
       "      <td>183</td>\n",
       "      <td>3</td>\n",
       "      <td>1.639344</td>\n",
       "    </tr>\n",
       "    <tr>\n",
       "      <th>Kharadi</th>\n",
       "      <td>180</td>\n",
       "      <td>8</td>\n",
       "      <td>4.444444</td>\n",
       "    </tr>\n",
       "    <tr>\n",
       "      <th>Sinhgad Road</th>\n",
       "      <td>142</td>\n",
       "      <td>6</td>\n",
       "      <td>4.225352</td>\n",
       "    </tr>\n",
       "    <tr>\n",
       "      <th>Pimple Saudagar</th>\n",
       "      <td>134</td>\n",
       "      <td>7</td>\n",
       "      <td>5.223881</td>\n",
       "    </tr>\n",
       "    <tr>\n",
       "      <th>Koregaon Park</th>\n",
       "      <td>123</td>\n",
       "      <td>47</td>\n",
       "      <td>38.211382</td>\n",
       "    </tr>\n",
       "    <tr>\n",
       "      <th>Chinchwad</th>\n",
       "      <td>114</td>\n",
       "      <td>2</td>\n",
       "      <td>1.754386</td>\n",
       "    </tr>\n",
       "    <tr>\n",
       "      <th>Aundh</th>\n",
       "      <td>113</td>\n",
       "      <td>17</td>\n",
       "      <td>15.044248</td>\n",
       "    </tr>\n",
       "    <tr>\n",
       "      <th>Kondhwa</th>\n",
       "      <td>104</td>\n",
       "      <td>4</td>\n",
       "      <td>3.846154</td>\n",
       "    </tr>\n",
       "  </tbody>\n",
       "</table>\n",
       "</div>"
      ],
      "text/plain": [
       "                   0   1  popularity_percentage\n",
       "loc                                            \n",
       "Kothrud          264  26               9.848485\n",
       "Wakad            225  11               4.888889\n",
       "Viman Nagar      224  21               9.375000\n",
       "Baner            219  25              11.415525\n",
       "Hinjawadi        213   7               3.286385\n",
       "Hadapsar         183   3               1.639344\n",
       "Kharadi          180   8               4.444444\n",
       "Sinhgad Road     142   6               4.225352\n",
       "Pimple Saudagar  134   7               5.223881\n",
       "Koregaon Park    123  47              38.211382\n",
       "Chinchwad        114   2               1.754386\n",
       "Aundh            113  17              15.044248\n",
       "Kondhwa          104   4               3.846154"
      ]
     },
     "execution_count": 66,
     "metadata": {},
     "output_type": "execute_result"
    }
   ],
   "source": [
    "data_updated"
   ]
  },
  {
   "cell_type": "code",
   "execution_count": 67,
   "metadata": {},
   "outputs": [],
   "source": [
    "data_updated=data_updated.sort_values(by=\"popularity_percentage\",ascending=False)"
   ]
  },
  {
   "cell_type": "code",
   "execution_count": 68,
   "metadata": {},
   "outputs": [
    {
     "data": {
      "text/html": [
       "<div>\n",
       "<style scoped>\n",
       "    .dataframe tbody tr th:only-of-type {\n",
       "        vertical-align: middle;\n",
       "    }\n",
       "\n",
       "    .dataframe tbody tr th {\n",
       "        vertical-align: top;\n",
       "    }\n",
       "\n",
       "    .dataframe thead th {\n",
       "        text-align: right;\n",
       "    }\n",
       "</style>\n",
       "<table border=\"1\" class=\"dataframe\">\n",
       "  <thead>\n",
       "    <tr style=\"text-align: right;\">\n",
       "      <th></th>\n",
       "      <th>0</th>\n",
       "      <th>1</th>\n",
       "      <th>popularity_percentage</th>\n",
       "    </tr>\n",
       "    <tr>\n",
       "      <th>loc</th>\n",
       "      <th></th>\n",
       "      <th></th>\n",
       "      <th></th>\n",
       "    </tr>\n",
       "  </thead>\n",
       "  <tbody>\n",
       "    <tr>\n",
       "      <th>Koregaon Park</th>\n",
       "      <td>123</td>\n",
       "      <td>47</td>\n",
       "      <td>38.211382</td>\n",
       "    </tr>\n",
       "    <tr>\n",
       "      <th>Aundh</th>\n",
       "      <td>113</td>\n",
       "      <td>17</td>\n",
       "      <td>15.044248</td>\n",
       "    </tr>\n",
       "    <tr>\n",
       "      <th>Baner</th>\n",
       "      <td>219</td>\n",
       "      <td>25</td>\n",
       "      <td>11.415525</td>\n",
       "    </tr>\n",
       "    <tr>\n",
       "      <th>Kothrud</th>\n",
       "      <td>264</td>\n",
       "      <td>26</td>\n",
       "      <td>9.848485</td>\n",
       "    </tr>\n",
       "    <tr>\n",
       "      <th>Viman Nagar</th>\n",
       "      <td>224</td>\n",
       "      <td>21</td>\n",
       "      <td>9.375000</td>\n",
       "    </tr>\n",
       "    <tr>\n",
       "      <th>Pimple Saudagar</th>\n",
       "      <td>134</td>\n",
       "      <td>7</td>\n",
       "      <td>5.223881</td>\n",
       "    </tr>\n",
       "    <tr>\n",
       "      <th>Wakad</th>\n",
       "      <td>225</td>\n",
       "      <td>11</td>\n",
       "      <td>4.888889</td>\n",
       "    </tr>\n",
       "    <tr>\n",
       "      <th>Kharadi</th>\n",
       "      <td>180</td>\n",
       "      <td>8</td>\n",
       "      <td>4.444444</td>\n",
       "    </tr>\n",
       "    <tr>\n",
       "      <th>Sinhgad Road</th>\n",
       "      <td>142</td>\n",
       "      <td>6</td>\n",
       "      <td>4.225352</td>\n",
       "    </tr>\n",
       "    <tr>\n",
       "      <th>Kondhwa</th>\n",
       "      <td>104</td>\n",
       "      <td>4</td>\n",
       "      <td>3.846154</td>\n",
       "    </tr>\n",
       "    <tr>\n",
       "      <th>Hinjawadi</th>\n",
       "      <td>213</td>\n",
       "      <td>7</td>\n",
       "      <td>3.286385</td>\n",
       "    </tr>\n",
       "    <tr>\n",
       "      <th>Chinchwad</th>\n",
       "      <td>114</td>\n",
       "      <td>2</td>\n",
       "      <td>1.754386</td>\n",
       "    </tr>\n",
       "    <tr>\n",
       "      <th>Hadapsar</th>\n",
       "      <td>183</td>\n",
       "      <td>3</td>\n",
       "      <td>1.639344</td>\n",
       "    </tr>\n",
       "  </tbody>\n",
       "</table>\n",
       "</div>"
      ],
      "text/plain": [
       "                   0   1  popularity_percentage\n",
       "loc                                            \n",
       "Koregaon Park    123  47              38.211382\n",
       "Aundh            113  17              15.044248\n",
       "Baner            219  25              11.415525\n",
       "Kothrud          264  26               9.848485\n",
       "Viman Nagar      224  21               9.375000\n",
       "Pimple Saudagar  134   7               5.223881\n",
       "Wakad            225  11               4.888889\n",
       "Kharadi          180   8               4.444444\n",
       "Sinhgad Road     142   6               4.225352\n",
       "Kondhwa          104   4               3.846154\n",
       "Hinjawadi        213   7               3.286385\n",
       "Chinchwad        114   2               1.754386\n",
       "Hadapsar         183   3               1.639344"
      ]
     },
     "execution_count": 68,
     "metadata": {},
     "output_type": "execute_result"
    }
   ],
   "source": [
    "data_updated"
   ]
  },
  {
   "cell_type": "code",
   "execution_count": 69,
   "metadata": {
    "scrolled": false
   },
   "outputs": [
    {
     "data": {
      "text/plain": [
       "<AxesSubplot:xlabel='popularity_percentage', ylabel='loc'>"
      ]
     },
     "execution_count": 69,
     "metadata": {},
     "output_type": "execute_result"
    },
    {
     "data": {
      "image/png": "[encoded data removed]",
      "text/plain": [
       "<Figure size 432x288 with 1 Axes>"
      ]
     },
     "metadata": {
      "needs_background": "light"
     },
     "output_type": "display_data"
    }
   ],
   "source": [
    "sns.barplot(data_updated['popularity_percentage'],data_updated.index)"
   ]
  },
  {
   "cell_type": "markdown",
   "metadata": {},
   "source": [
    "These are the best locations in pune where find the high rated restaurants\n",
    "\n",
    "Koregaun Park has the highest popuarity percentage out of all the locations in pune"
   ]
  },
  {
   "cell_type": "markdown",
   "metadata": {},
   "source": [
    "# cheap but best restaurants in pune"
   ]
  },
  {
   "cell_type": "code",
   "execution_count": 27,
   "metadata": {},
   "outputs": [
    {
     "ename": "TypeError",
     "evalue": "'<' not supported between instances of 'str' and 'int'",
     "output_type": "error",
     "traceback": [
      "\u001b[0;31m---------------------------------------------------------------------------\u001b[0m",
      "\u001b[0;31mTypeError\u001b[0m                                 Traceback (most recent call last)",
      "\u001b[0;32m<ipython-input-27-751979472745>\u001b[0m in \u001b[0;36m<module>\u001b[0;34m\u001b[0m\n\u001b[1;32m      1\u001b[0m \u001b[0mcheap_rest\u001b[0m\u001b[0;34m=\u001b[0m\u001b[0mdf\u001b[0m\u001b[0;34m[\u001b[0m\u001b[0;34m[\u001b[0m\u001b[0;34m'rest_name'\u001b[0m\u001b[0;34m,\u001b[0m\u001b[0;34m'cost'\u001b[0m\u001b[0;34m,\u001b[0m \u001b[0;34m'Cost (RS)'\u001b[0m\u001b[0;34m,\u001b[0m\u001b[0;34m'loc'\u001b[0m\u001b[0;34m,\u001b[0m\u001b[0;34m'rest_type'\u001b[0m\u001b[0;34m,\u001b[0m\u001b[0;34m'cuisine'\u001b[0m\u001b[0;34m,\u001b[0m \u001b[0;34m'delivery_rating'\u001b[0m\u001b[0;34m,\u001b[0m \u001b[0;34m'dine_rating'\u001b[0m\u001b[0;34m,\u001b[0m \u001b[0;34m'delivery_reviews'\u001b[0m\u001b[0;34m,\u001b[0m \u001b[0;34m'dine_reviews'\u001b[0m\u001b[0;34m]\u001b[0m\u001b[0;34m]\u001b[0m\u001b[0;34m\u001b[0m\u001b[0;34m\u001b[0m\u001b[0m\n\u001b[0;32m----> 2\u001b[0;31m \u001b[0mcheap_rest\u001b[0m\u001b[0;34m=\u001b[0m\u001b[0mcheap_rest\u001b[0m\u001b[0;34m[\u001b[0m\u001b[0;34m(\u001b[0m\u001b[0mcheap_rest\u001b[0m\u001b[0;34m[\u001b[0m\u001b[0;34m'cost'\u001b[0m\u001b[0;34m]\u001b[0m \u001b[0;34m<\u001b[0m\u001b[0;36m1000\u001b[0m\u001b[0;34m)\u001b[0m \u001b[0;34m&\u001b[0m \u001b[0;34m(\u001b[0m \u001b[0;34m(\u001b[0m\u001b[0mcheap_rest\u001b[0m\u001b[0;34m[\u001b[0m\u001b[0;34m'dine_rating'\u001b[0m\u001b[0;34m]\u001b[0m \u001b[0;34m>\u001b[0m \u001b[0;36m4.3\u001b[0m \u001b[0;34m)\u001b[0m\u001b[0;34m|\u001b[0m \u001b[0;34m(\u001b[0m\u001b[0mcheap_rest\u001b[0m\u001b[0;34m[\u001b[0m\u001b[0;34m'delivery_rating'\u001b[0m\u001b[0;34m]\u001b[0m \u001b[0;34m>\u001b[0m \u001b[0;36m4.3\u001b[0m\u001b[0;34m)\u001b[0m\u001b[0;34m)\u001b[0m\u001b[0;34m]\u001b[0m\u001b[0;34m\u001b[0m\u001b[0;34m\u001b[0m\u001b[0m\n\u001b[0m\u001b[1;32m      3\u001b[0m \u001b[0mcheap_rest\u001b[0m\u001b[0;34m.\u001b[0m\u001b[0mhead\u001b[0m\u001b[0;34m(\u001b[0m\u001b[0mn\u001b[0m\u001b[0;34m=\u001b[0m\u001b[0;36m10\u001b[0m\u001b[0;34m)\u001b[0m\u001b[0;34m\u001b[0m\u001b[0;34m\u001b[0m\u001b[0m\n",
      "\u001b[0;32m~/opt/anaconda3/lib/python3.8/site-packages/pandas/core/ops/common.py\u001b[0m in \u001b[0;36mnew_method\u001b[0;34m(self, other)\u001b[0m\n\u001b[1;32m     63\u001b[0m         \u001b[0mother\u001b[0m \u001b[0;34m=\u001b[0m \u001b[0mitem_from_zerodim\u001b[0m\u001b[0;34m(\u001b[0m\u001b[0mother\u001b[0m\u001b[0;34m)\u001b[0m\u001b[0;34m\u001b[0m\u001b[0;34m\u001b[0m\u001b[0m\n\u001b[1;32m     64\u001b[0m \u001b[0;34m\u001b[0m\u001b[0m\n\u001b[0;32m---> 65\u001b[0;31m         \u001b[0;32mreturn\u001b[0m \u001b[0mmethod\u001b[0m\u001b[0;34m(\u001b[0m\u001b[0mself\u001b[0m\u001b[0;34m,\u001b[0m \u001b[0mother\u001b[0m\u001b[0;34m)\u001b[0m\u001b[0;34m\u001b[0m\u001b[0;34m\u001b[0m\u001b[0m\n\u001b[0m\u001b[1;32m     66\u001b[0m \u001b[0;34m\u001b[0m\u001b[0m\n\u001b[1;32m     67\u001b[0m     \u001b[0;32mreturn\u001b[0m \u001b[0mnew_method\u001b[0m\u001b[0;34m\u001b[0m\u001b[0;34m\u001b[0m\u001b[0m\n",
      "\u001b[0;32m~/opt/anaconda3/lib/python3.8/site-packages/pandas/core/arraylike.py\u001b[0m in \u001b[0;36m__lt__\u001b[0;34m(self, other)\u001b[0m\n\u001b[1;32m     35\u001b[0m     \u001b[0;34m@\u001b[0m\u001b[0munpack_zerodim_and_defer\u001b[0m\u001b[0;34m(\u001b[0m\u001b[0;34m\"__lt__\"\u001b[0m\u001b[0;34m)\u001b[0m\u001b[0;34m\u001b[0m\u001b[0;34m\u001b[0m\u001b[0m\n\u001b[1;32m     36\u001b[0m     \u001b[0;32mdef\u001b[0m \u001b[0m__lt__\u001b[0m\u001b[0;34m(\u001b[0m\u001b[0mself\u001b[0m\u001b[0;34m,\u001b[0m \u001b[0mother\u001b[0m\u001b[0;34m)\u001b[0m\u001b[0;34m:\u001b[0m\u001b[0;34m\u001b[0m\u001b[0;34m\u001b[0m\u001b[0m\n\u001b[0;32m---> 37\u001b[0;31m         \u001b[0;32mreturn\u001b[0m \u001b[0mself\u001b[0m\u001b[0;34m.\u001b[0m\u001b[0m_cmp_method\u001b[0m\u001b[0;34m(\u001b[0m\u001b[0mother\u001b[0m\u001b[0;34m,\u001b[0m \u001b[0moperator\u001b[0m\u001b[0;34m.\u001b[0m\u001b[0mlt\u001b[0m\u001b[0;34m)\u001b[0m\u001b[0;34m\u001b[0m\u001b[0;34m\u001b[0m\u001b[0m\n\u001b[0m\u001b[1;32m     38\u001b[0m \u001b[0;34m\u001b[0m\u001b[0m\n\u001b[1;32m     39\u001b[0m     \u001b[0;34m@\u001b[0m\u001b[0munpack_zerodim_and_defer\u001b[0m\u001b[0;34m(\u001b[0m\u001b[0;34m\"__le__\"\u001b[0m\u001b[0;34m)\u001b[0m\u001b[0;34m\u001b[0m\u001b[0;34m\u001b[0m\u001b[0m\n",
      "\u001b[0;32m~/opt/anaconda3/lib/python3.8/site-packages/pandas/core/series.py\u001b[0m in \u001b[0;36m_cmp_method\u001b[0;34m(self, other, op)\u001b[0m\n\u001b[1;32m   4976\u001b[0m         \u001b[0mrvalues\u001b[0m \u001b[0;34m=\u001b[0m \u001b[0mextract_array\u001b[0m\u001b[0;34m(\u001b[0m\u001b[0mother\u001b[0m\u001b[0;34m,\u001b[0m \u001b[0mextract_numpy\u001b[0m\u001b[0;34m=\u001b[0m\u001b[0;32mTrue\u001b[0m\u001b[0;34m)\u001b[0m\u001b[0;34m\u001b[0m\u001b[0;34m\u001b[0m\u001b[0m\n\u001b[1;32m   4977\u001b[0m \u001b[0;34m\u001b[0m\u001b[0m\n\u001b[0;32m-> 4978\u001b[0;31m         \u001b[0mres_values\u001b[0m \u001b[0;34m=\u001b[0m \u001b[0mops\u001b[0m\u001b[0;34m.\u001b[0m\u001b[0mcomparison_op\u001b[0m\u001b[0;34m(\u001b[0m\u001b[0mlvalues\u001b[0m\u001b[0;34m,\u001b[0m \u001b[0mrvalues\u001b[0m\u001b[0;34m,\u001b[0m \u001b[0mop\u001b[0m\u001b[0;34m)\u001b[0m\u001b[0;34m\u001b[0m\u001b[0;34m\u001b[0m\u001b[0m\n\u001b[0m\u001b[1;32m   4979\u001b[0m \u001b[0;34m\u001b[0m\u001b[0m\n\u001b[1;32m   4980\u001b[0m         \u001b[0;32mreturn\u001b[0m \u001b[0mself\u001b[0m\u001b[0;34m.\u001b[0m\u001b[0m_construct_result\u001b[0m\u001b[0;34m(\u001b[0m\u001b[0mres_values\u001b[0m\u001b[0;34m,\u001b[0m \u001b[0mname\u001b[0m\u001b[0;34m=\u001b[0m\u001b[0mres_name\u001b[0m\u001b[0;34m)\u001b[0m\u001b[0;34m\u001b[0m\u001b[0;34m\u001b[0m\u001b[0m\n",
      "\u001b[0;32m~/opt/anaconda3/lib/python3.8/site-packages/pandas/core/ops/array_ops.py\u001b[0m in \u001b[0;36mcomparison_op\u001b[0;34m(left, right, op)\u001b[0m\n\u001b[1;32m    241\u001b[0m \u001b[0;34m\u001b[0m\u001b[0m\n\u001b[1;32m    242\u001b[0m     \u001b[0;32melif\u001b[0m \u001b[0mis_object_dtype\u001b[0m\u001b[0;34m(\u001b[0m\u001b[0mlvalues\u001b[0m\u001b[0;34m.\u001b[0m\u001b[0mdtype\u001b[0m\u001b[0;34m)\u001b[0m\u001b[0;34m:\u001b[0m\u001b[0;34m\u001b[0m\u001b[0;34m\u001b[0m\u001b[0m\n\u001b[0;32m--> 243\u001b[0;31m         \u001b[0mres_values\u001b[0m \u001b[0;34m=\u001b[0m \u001b[0mcomp_method_OBJECT_ARRAY\u001b[0m\u001b[0;34m(\u001b[0m\u001b[0mop\u001b[0m\u001b[0;34m,\u001b[0m \u001b[0mlvalues\u001b[0m\u001b[0;34m,\u001b[0m \u001b[0mrvalues\u001b[0m\u001b[0;34m)\u001b[0m\u001b[0;34m\u001b[0m\u001b[0;34m\u001b[0m\u001b[0m\n\u001b[0m\u001b[1;32m    244\u001b[0m \u001b[0;34m\u001b[0m\u001b[0m\n\u001b[1;32m    245\u001b[0m     \u001b[0;32melse\u001b[0m\u001b[0;34m:\u001b[0m\u001b[0;34m\u001b[0m\u001b[0;34m\u001b[0m\u001b[0m\n",
      "\u001b[0;32m~/opt/anaconda3/lib/python3.8/site-packages/pandas/core/ops/array_ops.py\u001b[0m in \u001b[0;36mcomp_method_OBJECT_ARRAY\u001b[0;34m(op, x, y)\u001b[0m\n\u001b[1;32m     53\u001b[0m         \u001b[0mresult\u001b[0m \u001b[0;34m=\u001b[0m \u001b[0mlibops\u001b[0m\u001b[0;34m.\u001b[0m\u001b[0mvec_compare\u001b[0m\u001b[0;34m(\u001b[0m\u001b[0mx\u001b[0m\u001b[0;34m.\u001b[0m\u001b[0mravel\u001b[0m\u001b[0;34m(\u001b[0m\u001b[0;34m)\u001b[0m\u001b[0;34m,\u001b[0m \u001b[0my\u001b[0m\u001b[0;34m.\u001b[0m\u001b[0mravel\u001b[0m\u001b[0;34m(\u001b[0m\u001b[0;34m)\u001b[0m\u001b[0;34m,\u001b[0m \u001b[0mop\u001b[0m\u001b[0;34m)\u001b[0m\u001b[0;34m\u001b[0m\u001b[0;34m\u001b[0m\u001b[0m\n\u001b[1;32m     54\u001b[0m     \u001b[0;32melse\u001b[0m\u001b[0;34m:\u001b[0m\u001b[0;34m\u001b[0m\u001b[0;34m\u001b[0m\u001b[0m\n\u001b[0;32m---> 55\u001b[0;31m         \u001b[0mresult\u001b[0m \u001b[0;34m=\u001b[0m \u001b[0mlibops\u001b[0m\u001b[0;34m.\u001b[0m\u001b[0mscalar_compare\u001b[0m\u001b[0;34m(\u001b[0m\u001b[0mx\u001b[0m\u001b[0;34m.\u001b[0m\u001b[0mravel\u001b[0m\u001b[0;34m(\u001b[0m\u001b[0;34m)\u001b[0m\u001b[0;34m,\u001b[0m \u001b[0my\u001b[0m\u001b[0;34m,\u001b[0m \u001b[0mop\u001b[0m\u001b[0;34m)\u001b[0m\u001b[0;34m\u001b[0m\u001b[0;34m\u001b[0m\u001b[0m\n\u001b[0m\u001b[1;32m     56\u001b[0m     \u001b[0;32mreturn\u001b[0m \u001b[0mresult\u001b[0m\u001b[0;34m.\u001b[0m\u001b[0mreshape\u001b[0m\u001b[0;34m(\u001b[0m\u001b[0mx\u001b[0m\u001b[0;34m.\u001b[0m\u001b[0mshape\u001b[0m\u001b[0;34m)\u001b[0m\u001b[0;34m\u001b[0m\u001b[0;34m\u001b[0m\u001b[0m\n\u001b[1;32m     57\u001b[0m \u001b[0;34m\u001b[0m\u001b[0m\n",
      "\u001b[0;32mpandas/_libs/ops.pyx\u001b[0m in \u001b[0;36mpandas._libs.ops.scalar_compare\u001b[0;34m()\u001b[0m\n",
      "\u001b[0;31mTypeError\u001b[0m: '<' not supported between instances of 'str' and 'int'"
     ]
    }
   ],
   "source": [
    "cheap_rest=df[['rest_name','cost', 'Cost (RS)','loc','rest_type','cuisine', 'delivery_rating', 'dine_rating', 'delivery_reviews', 'dine_reviews']]\n",
    "cheap_rest=cheap_rest[(cheap_rest['cost'] <1000) & ( (cheap_rest['dine_rating'] > 4.3 )| (cheap_rest['delivery_rating'] > 4.3))]\n",
    "cheap_rest.head(n=10)"
   ]
  },
  {
   "cell_type": "code",
   "execution_count": 106,
   "metadata": {},
   "outputs": [],
   "source": [
    "cheap2=cheap_rest[(cheap_rest['Cost (RS)'] < (1000)) & ( (cheap_rest['dine_rating'] > 4.3 ) | (cheap_rest['delivery_rating'] > 4.3)) &  ((cheap_rest['delivery_reviews'] > str(4000)) | (cheap_rest['dine_reviews'] >str(4000)))]\n",
    "\n"
   ]
  },
  {
   "cell_type": "code",
   "execution_count": 145,
   "metadata": {},
   "outputs": [
    {
     "data": {
      "text/plain": [
       "2091    -1,619\n",
       "2092         0\n",
       "2093         0\n",
       "2094       -82\n",
       "2095         0\n",
       "         ...  \n",
       "3135    -2,089\n",
       "3136    -2,017\n",
       "3137         0\n",
       "3138         0\n",
       "3140      -643\n",
       "Name: delivery_reviews, Length: 1000, dtype: object"
      ]
     },
     "execution_count": 145,
     "metadata": {},
     "output_type": "execute_result"
    }
   ],
   "source": [
    "cheap_rest['delivery_reviews'].fillna(0,inplace=True)    \n",
    "cheap_rest['delivery_reviews'][2000:3000]"
   ]
  },
  {
   "cell_type": "code",
   "execution_count": 157,
   "metadata": {},
   "outputs": [],
   "source": [
    "x=[]\n",
    "for i in cheap_rest['delivery_reviews']:\n",
    "    i=str(i)\n",
    "    i=(i.strip(\"-\"))\n",
    "    i=(i.strip(\",\"))\n",
    "    i=i.replace(\",\",\"\")    \n",
    "    x.append(i.strip(\"()\"))\n",
    "\n",
    "cheap_rest['delivery_reviews']=x"
   ]
  },
  {
   "cell_type": "code",
   "execution_count": 154,
   "metadata": {},
   "outputs": [
    {
     "name": "stdout",
     "output_type": "stream",
     "text": [
      "['0', '0', '0', '0', '0', '0', '0', '0', '0', '0', '0', '0', '0', '0', '0', '0', '0', '0', '0', '0', '0', '0', '0', '0', '0', '0', '0', '0', '0', '0', '0', '0', '0', '0', '0', '0', '0', '0', '496', '0', '0', '33', '0', '60', '0', '0', '0', '0', '0', '223', '0', '0', '0', '0', '0', '0', '0', '756', '649', '2868', '876', '640', '847', '0', '30', '492', '341', '0', '0', '444', '0', '252', '0', '0', '0', '81', '0', '363', '703', '0', '0', '0', '41', '0', '0', '67', '0', '0', '0', '0', '0', '0', '0', '0', '0', '0', '0', '0', '0', '0', '0', '0', '0', '0', '0', '5311', '116', '765', '433', '556', '742', '0', '1698', '49', '0', '0', '71', '0', '0', '40', '67', '0', '0', '0', '0', '0', '0', '0', '0', '0', '0', '0', '0', '0', '0', '602', '4008', '0', '3085', '0', '0', '0', '118', '507', '92', '0', '0', '0', '0', '0', '0', '0', '0', '0', '52', '0', '0', '0', '0', '0', '82', '0', '0', '65', '0', '295', '240', '0', '1847', '0', '653', '1842', '51', '0', '0', '299', '1236', '0', '42', '193', '0', '0', '48', '75', '71', '126', '37', '0', '393', '0', '38', '0', '0', '63', '0', '0', '0', '64', '348', '0', '0', '47', '0', '0', '0', '0', '0', '0', '0', '0', '0', '156', '1797', '598', '120', '313', '1497', '0', '729', '238', '290', '0', '1030', '0', '1444', '92', '600', '0', '0', '0', '1002', '1522', '914', '0', '344', '25', '0', '114', '0', '32', '0', '0', '45', '0', '139', '0', '153', '0', '0', '0', '0', '71', '994', '53', '0', '0', '241', '27', '0', '0', '66', '0', '0', '0', '569', '0', '32', '503', '0', '0', '88', '0', '0', '0', '252', '814', '100', '0', '0', '0', '612', '0', '0', '806', '0', '0', '0', '0', '0', '0', '0', '0', '0', '0', '0', '0', '0', '0', '0', '0', '0', '0', '0', '0', '0', '0', '0', '0', '0', '0', '0', '0', '59', '0', '0', '0', '0', '0', '242', '0', '6338', '320', '0', '138', '191', '80', '299', '685', '0', '0', '87', '0', '0', '0', '0', '0', '0', '0', '0', '0', '0', '181', '892', '0', '0', '154', '0', '0', '0', '0', '82', '0', '0', '0', '0', '0', '0', '0', '0', '0', '0', '0', '0', '0', '0', '0', '0', '0', '0', '0', '0', '0', '0', '198', '201', '4695', '1897', '4421', '7153', '89', '347', '0', '0', '0', '817', '1947', '0', '0', '0', '0', '0', '53.4K', '20.1K', '4989', '21.7K', '0', '0', '0', '0', '0', '155', '0', '0', '355', '188', '0', '481', '2070', '426', '65', '0', '31', '0', '216', '654', '492', '0', '35', '256', '0', '0', '0', '0', '0', '0', '0', '0', '0', '0', '1157', '211', '0', '0', '0', '0', '0', '0', '0', '0', '0', '0', '0', '0', '0', '0', '0', '0', '0', '0', '103', '0', '0', '0', '0', '0', '1621', '0', '251', '299', '339', '768', '2841', '32', '621', '326', '4051', '687', '719', '759', '0', '2292', '207', '3154', '1946', '237', '145', '57', '327', '0', '387', '0', '0', '695', '0', '0', '276', '29', '2463', '0', '808', '497', '287', '1067', '595', '0', '1275', '352', '0', '44', '0', '2990', '556', '0', '461', '583', '0', '32', '0', '2149', '80', '0', '0', '0', '0', '0', '496', '262', '0', '1690', '166', '0', '0', '405', '325', '0', '0', '0', '335', '630', '86', '1185', '288', '0', '682', '166', '0', '2400', '722', '0', '0', '120', '0', '0', '178', '0', '0', '0', '239', '71', '0', '0', '0', '0', '0', '0', '0', '0', '24', '0', '0', '0', '109', '0', '0', '0', '176', '31', '0', '0', '0', '0', '0', '0', '0', '0', '0', '0', '0', '0', '0', '0', '0', '0', '0', '0', '0', '0', '0', '0', '0', '0', '3613', '2684', '3474', '18.7K', '1478', '0', '544', '0', '0', '4746', '209', '891', '3679', '77', '17', '0', '1391', '251', '155', '0', '988', '0', '0', '137', '0', '506', '0', '1449', '0', '0', '0', '0', '91', '59', '0', '39', '30', '0', '0', '0', '0', '0', '0', '0', '0', '0', '0', '0', '0', '0', '0', '177', '0', '0', '2672', '322', '16.6K', '1329', '296', '6598', '14.9K', '510', '265', '1258', '513', '583', '818', '324', '0', '151', '240', '171', '1636', '40', '0', '2540', '0', '877', '0', '2879', '184', '440', '0', '0', '141', '25', '198', '0', '0', '0', '0', '0', '0', '0', '90', '0', '0', '1902', '0', '164', '0', '279', '2888', '1353', '61', '496', '90', '1819', '175', '875', '0', '81', '1172', '499', '207', '102', '0', '89', '610', '0', '366', '844', '225', '0', '549', '748', '2983', '42', '184', '0', '0', '0', '0', '0', '0', '0', '0', '202', '0', '2231', '1599', '0', '0', '0', '29', '360', '1372', '0', '204', '0', '202', '0', '0', '0', '233', '262', '1162', '0', '0', '0', '97', '0', '64', '0', '0', '0', '0', '0', '2285', '21.4K', '0', '129', '9562', '10.9K', '1638', '7933', '1790', '28.4K', '2670', '2231', '16.5K', '918', '1577', '6340', '12.2K', '6113', '429', '13.3K', '12.1K', '10.3K', '11.3K', '15.8K', '3170', '646', '0', '143', '6989', '5060', '0', '3319', '8226', '5414', '5400', '5251', '3855', '3252', '7065', '3392', '3432', '7303', '4295', '4857', '5731', '6174', '4216', '3113', '2593', '4820', '3635', '2594', '0', '0', '2409', '2612', '459', '0', '0', '109', '0', '0', '0', '0', '453', '0', '8222', '15.9K', '14.2K', '22.2K', '7011', '5892', '4890', '347', '286', '0', '136', '0', '8131', '5884', '2836', '13.6K', '782', '0', '7545', '4820', '5645', '591', '4280', '64', '28.5K', '243', '12.6K', '7918', '6458', '10.7K', '1688', '2671', '7297', '5702', '4577', '3794', '0', '9271', '5598', '8378', '2963', '2387', '2886', '7390', '6519', '6806', '0', '6304', '1657', '5028', '5439', '818', '3970', '0', '678', '7604', '4967', '2857', '0', '0', '4565', '4324', '146', '2278', '3393', '5720', '388', '2421', '1700', '789', '0', '8', '417', '8660', '3412', '953', '5109', '51', '421', '2849', '0', '789', '0', '1994', '246', '0', '0', '1279', '0', '100', '0', '1803', '0', '193', '14.1K', '1107', '18.8K', '13.8K', '1957', '107', '17.6K', '1022', '9980', '11.3K', '384', '2597', '810', '3716', '1689', '0', '31', '1184', '3491', '9287', '0', '22', '0', '565', '0', '941', '0', '3102', '1316', '30.1K', '0', '433', '0', '186', '496', '0', '0', '2331', '43', '114', '0', '0', '0', '0', '0', '0', '373', '0', '9931', '1652', '4390', '0', '0', '1415', '0', '11.3K', '1265', '0', '1721', '347', '16.4K', '0', '1305', '0', '1078', '1077', '748', '213', '745', '0', '0', '758', '456', '1339', '0', '0', '1512', '3691', '78', '94', '0', '204', '0', '883', '0', '0', '0', '1772', '358', '254', '1738', '0', '1219', '0', '33', '6526', '22', '0', '0', '10.1K', '322', '430', '854', '4385', '0', '1386', '1460', '0', '0', '0', '0', '0', '0', '0', '0', '0', '0', '0', '0', '0', '0', '0', '0', '0', '0', '0', '0', '0', '0', '0', '0', '0', '0', '0', '0', '0', '0', '0', '0', '0', '0', '0', '0', '0', '0', '322', '120', '0', '755', '617', '2004', '5463', '4025', '0', '755', '0', '215', '5310', '0', '0', '0', '846', '875', '640', '0', '97', '2560', '2860', '2576', '2512', '1832', '79', '1632', '2124', '2130', '121', '3550', '2047', '2519', '1612', '1367', '1421', '0', '120', '157', '0', '0', '0', '111', '16.6K', '401', '95', '17.5K', '0', '1348', '0', '191', '0', '0', '1921', '43', '0', '0', '0', '687', '980', '133', '3872', '919', '1800', '1014', '558', '248', '212', '0', '0', '0', '76', '69', '0', '405', '0', '0', '598', '7187', '0', '53.4K', '4259', '1744', '7391', '142', '118', '54.5K', '3604', '884', '885', '1923', '91', '122', '409', '0', '0', '208', '747', '1330', '16', '181', '0', '62', '4044', '57', '0', '0', '808', '21', '107', '20', '69', '45', '0', '0', '0', '0', '0', '0', '0', '0', '0', '0', '0', '0', '0', '1507', '706', '7151', '0', '20.1K', '0', '4989', '21.7K', '0', '518', '7862', '795', '0', '0', '115', '0', '577', '1211', '0', '0', '0', '0', '0', '127', '0', '249', '0', '0', '0', '1966', '0', '0', '0', '0', '0', '0', '0', '0', '0', '0', '0', '0', '0', '0', '0', '0', '0', '0', '0', '0', '0', '0', '0', '0', '0', '0', '0', '0', '0', '0', '0', '0', '0', '0', '0', '0', '0', '1883', '0', '66', '2030', '0', '2684', '0', '201', '15.9K', '11.5K', '0', '10.5K', '0', '975', '3470', '10.3K', '8238', '11K', '3086', '0', '859', '528', '0', '1283', '0', '410', '313', '1027', '5836', '525', '911', '0', '0', '5959', '4695', '0', '1443', '0', '344', '25', '3599', '12K', '0', '20.8K', '12.7K', '760', '1887', '147', '0', '0', '2841', '818', '213', '1092', '0', '2971', '0', '0', '1593', '0', '0', '2639', '211', '76', '51', '0', '8852', '179', '356', '3642', '2214', '11.7K', '3723', '859', '18.7K', '3685', '602', '0', '0', '10.7K', '0', '1190', '2089', '1329', '1494', '2328', '463', '1895', '0', '0', '0', '0', '0', '0', '0', '0', '0', '0', '0', '0', '0', '0', '0', '0', '0', '0', '0', '0', '0', '0', '0', '0', '0', '0', '0', '0', '6192', '523', '9163', '4168', '1750', '3061', '4325', '8183', '7056', '5374', '3319', '2039', '1675', '1311', '3544', '3956', '4802', '2554', '2322', '1804', '871', '3347', '6339', '3367', '2211', '3489', '4081', '318', '2032', '604', '2874', '591', '49', '255', '2550', '1097', '2610', '1829', '274', '550', '380', '4008', '8719', '9181', '0', '386', '0', '0', '0', '4414', '299', '9068', '724', '438', '0', '5518', '925', '3091', '3725', '1796', '84', '7361', '8331', '8110', '7875', '4412', '7519', '2481', '1079', '6623', '1817', '445', '0', '4133', '1740', '0', '0', '843', '686', '0', '0', '0', '0', '0', '13K', '2214', '1295', '129', '0', '0', '619', '0', '241', '0', '0', '0', '473', '30', '477', '0', '791', '2779', '175', '0', '1585', '7112', '7865', '8781', '0', '0', '0', '0', '0', '0', '0', '0', '0', '0', '0', '0', '0', '0', '149', '0', '0', '0', '0', '0', '0', '0', '0', '2874', '4538', '0', '288', '5341', '2023', '2330', '0', '7699', '113', '649', '0', '2685', '56', '1624', '0', '10.2K', '7889', '0', '0', '903', '0', '3269', '2797', '950', '1137', '631', '4115', '0', '0', '8049', '3293', '0', '2865', '0', '150', '0', '738', '0', '0', '1', '0', '555', '494', '0', '233', '871', '1515', '0', '153', '398', '0', '568', '2441', '1486', '40', '1068', '941', '30', '202', '40', '211', '0', '278', '218', '0', '0', '0', '808', '638', '1285', '969', '43', '967', '324', '171', '0', '240', '791', '519', '63', '0', '0', '1021', '338', '0', '0', '489', '0', '2584', '767', '296', '0', '0', '0', '0', '0', '2054', '22K', '4289', '1099', '0', '1712', '1836', '2841', '7627', '4627', '660', '1828', '0', '292', '0', '4333', '0', '1001', '0', '0', '1988', '0', '7327', '32', '229', '1071', '424', '253', '0', '2641', '776', '840', '107', '2478', '5228', '201', '3124', '1593', '1022', '1072', '628', '1223', '738', '484', '0', '0', '0', '0', '0', '0', '0', '0', '0', '0', '240', '0', '1369', '4163', '2059', '2684', '1474', '0', '6336', '169', '1620', '0', '0', '312', '127', '6604', '2036', '905', '770', '316', '1529', '0', '0', '2605', '2125', '93', '9638', '0', '621', '0', '0', '1803', '0', '2726', '1689', '181', '0', '199', '2163', '1672', '718', '381', '280', '424', '0', '217', '93', '198', '52', '0', '286', '0', '50', '0', '326', '0', '3157', '67', '3680', '0', '200', '0', '0', '10.2K', '0', '0', '862', '5608', '1946', '237', '145', '479', '0', '229', '0', '0', '0', '0', '0', '0', '0', '0', '0', '0', '0', '0', '0', '0', '0', '0', '0', '0', '0', '0', '0', '0', '0', '0', '0', '0', '0', '0', '0', '0', '0', '0', '0', '0', '0', '0', '0', '0', '0', '2749', '0', '107', '970', '950', '0', '728', '894', '3573', '0', '757', '765', '1427', '5885', '0', '308', '1145', '377', '440', '554', '425', '609', '206', '161', '195', '605', '115', '348', '243', '5633', '5027', '4930', '5342', '7464', '1615', '3338', '3455', '2505', '1063', '3357', '2389', '6239', '2140', '7980', '5227', '5406', '1218', '5553', '7159', '7492', '2927', '0', '1084', '1027', '0', '5113', '0', '0', '0', '0', '772', '371', '1998', '976', '1011', '59', '305', '388', '128', '65', '556', '742', '0', '0', '0', '0', '0', '0', '0', '0', '1444', '11K', '0', '2598', '49', '0', '313', '0', '858', '10.8K', '28', '150', '8843', '2192', '1416', '838', '563', '330', '0', '377', '0', '0', '0', '0', '0', '750', '21.1K', '1847', '0', '3117', '0', '0', '0', '292', '8910', '2398', '538', '0', '5297', '6219', '0', '0', '0', '0', '0', '0', '0', '0', '0', '0', '722', '325', '0', '328', '0', '218', '521', '0', '183', '203', '0', '91', '172', '113', '48', '0', '0', '12.7K', '1039', '297', '249', '0', '0', '0', '245', '0', '0', '0', '0', '515', '41', '0', '0', '2385', '2607', '0', '0', '0', '0', '0', '3923', '486', '0', '662', '0', '376', '0', '278', '0', '723', '0', '0', '0', '0', '155', '2536', '3540', '0', '19K', '243', '6619', '0', '7079', '3995', '0', '2730', '98', '0', '1864', '1311', '1814', '1295', '0', '4050', '0', '0', '110', '0', '0', '4050', '1933', '2021', '438', '4291', '922', '320', '11.8K', '0', '0', '0', '38', '0', '0', '4319', '2687', '0', '775', '2160', '1976', '0', '3661', '1619', '0', '0', '82', '0', '0', '3464', '1228', '89', '798', '0', '0', '0', '0', '0', '0', '0', '0', '0', '0', '0', '0', '0', '0', '0', '0', '0', '0', '66', '0', '0', '0', '5747', '14.3K', '0', '473', '0', '0', '0', '0', '0', '6704', '684', '2681', '1362', '0', '2282', '0', '0', '0', '0', '0', '0', '0', '686', '7570', '3582', '0', '6250', '20', '0', '489', '1649', '0', '3910', '55', '164', '145', '238', '0', '46', '995', '0', '1539', '1105', '30', '0', '1730', '3395', '1673', '1001', '0', '3152', '0', '0', '0', '0', '0', '0', '0', '0', '0', '0', '0', '44', '0', '77', '0', '0', '0', '0', '23', '0', '0', '0', '0', '0', '169', '0', '0', '0', '0', '0', '0', '0', '0', '0', '0', '0', '14.9K', '6419', '1199', '0', '0', '0', '0', '0', '3420', '1005', '2391', '0', '70', '0', '0', '2645', '174', '3079', '1613', '2042', '1189', '771', '1098', '1455', '854', '0', '531', '1124', '1422', '702', '0', '694', '3790', '979', '509', '290', '0', '0', '31', '1497', '3839', '2002', '7273', '264', '0', '0', '0', '2431', '1906', '3103', '0', '8059', '71', '0', '1842', '4302', '3972', '1727', '622', '61', '200', '3083', '0', '15.3K', '0', '0', '0', '2536', '717', '0', '0', '1249', '964', '1758', '0', '313', '1338', '0', '0', '8190', '0', '0', '66', '988', '352', '1336', '111', '385', '827', '94', '759', '1257', '0', '2703', '234', '0', '751', '0', '890', '95', '0', '704', '0', '1227', '82', '0', '908', '0', '0', '2431', '0', '117', '446', '987', '59', '49', '561', '356', '39', '0', '330', '0', '401', '0', '0', '1158', '392', '0', '0', '0', '19', '0', '0', '0', '0', '0', '1492', '0', '0', '0', '0', '0', '8096', '47', '4687', '0', '177', '0', '3454', '401', '593', '492', '0', '1393', '0', '0', '0', '0', '0', '0', '0', '9859', '4327', '3388', '0', '80', '1158', '14.5K', '414', '3824', '31', '11K', '759', '1522', '0', '0', '0', '0', '0', '0', '0', '0', '0', '0', '0', '0', '11.6K', '0', '0', '0', '0', '0', '0', '0', '0', '0', '0', '0', '0', '0', '0', '0', '293', '48', '4045', '0', '0', '0', '607', '1010', '230', '357', '0', '0', '0', '290', '516', '432', '1611', '0', '1490', '512', '113', '33.1K', '11.8K', '12.3K', '282', '135', '632', '0', '218', '8509', '11.8K', '3870', '0', '8493', '10.8K', '8618', '6454', '5181', '7827', '5367', '4042', '5963', '7862', '14K', '1502', '6406', '0', '0', '4545', '2233', '5248', '681', '7977', '0', '0', '226', '576', '0', '583', '0', '365', '3532', '0', '109', '113', '816', '622', '0', '0', '914', '0', '941', '844', '27', '0', '246', '621', '254', '1075', '0', '0', '0', '494', '0', '0', '221', '0', '0', '0', '0', '823', '0', '42', '0', '0', '0', '0', '0', '1131', '0', '0', '0', '0', '0', '0', '0', '0', '0', '0', '0', '0', '0', '0', '0', '0', '0', '0', '0', '0', '0', '0', '0', '0', '218', '5292', '7646', '347', '0', '1478', '0', '0', '0', '0', '2399', '218', '4603', '0', '5505', '2096', '1654', '4356', '9680', '5262', '5545', '1547', '2170', '944', '2622', '3452', '208', '0', '3144', '5350', '4416', '2207', '816', '188', '0', '28', '0', '155', '0', '0', '0', '110', '0', '5942', '266', '0', '49', '0', '0', '0', '0', '161', '0', '0', '0', '0', '0', '0', '19', '0', '0', '0', '0', '0', '0', '0', '0', '0', '38', '0', '0', '0', '22', '0', '0', '44', '0', '0', '0', '0', '0', '0', '0', '0', '0', '0', '0', '0', '0', '6619', '0', '563', '433', '653', '1335', '37', '0', '0', '5213', '0', '3085', '0', '0', '0', '0', '0', '0', '0', '0', '0', '0', '0', '0', '0', '460', '5125', '0', '3264', '872', '4078', '2545', '1537', '2713', '0', '60', '1106', '1325', '0', '779', '0', '0', '0', '0', '607', '0', '336', '1169', '4591', '0', '688', '341', '2292', '1697', '1676', '0', '2055', '494', '3010', '0', '0', '0', '0', '0', '0', '0', '0', '0', '0', '0', '0', '0', '0', '0', '0', '0', '0', '0', '0', '0', '0', '0', '0', '0', '0', '0', '0', '0', '0', '0', '0', '0', '0', '413', '4076', '3273', '1313', '211', '751', '0', '1140', '0', '207', '1271', '0', '0', '76', '0', '426', '0', '537', '1172', '49', '30', '3402', '0', '80', '0', '23', '0', '0', '0', '337', '47', '0', '0', '14', '0', '0', '0', '49', '0', '0', '0', '122', '0', '49', '0', '192', '0', '0', '2744', '2211', '0', '0', '1286', '1499', '0', '0', '412', '0', '3154', '0', '0', '287', '2534', '441', '0', '0', '190', '912', '245', '11.7K', '0', '286', '0', '356', '0', '374', '1094', '2993', '0', '465', '1030', '0', '0', '0', '0', '0', '0', '0', '0', '0', '0', '0', '0', '0', '0', '0', '0', '0', '0', '0', '0', '0', '0', '0', '0', '0', '0', '0', '0', '0', '0', '0', '0', '0', '0', '0', '0', '38', '0', '0', '37', '1477', '0', '0', '1746', '2899', '225', '1213', '0', '760', '0', '0', '0', '8272', '1831', '9312', '56', '1636', '0', '0', '0', '4289', '0', '1470', '0', '971', '1482', '0', '743', '0', '0', '5173', '0', '0', '0', '0', '0', '0', '0', '0', '0', '0', '0', '0', '0', '0', '0', '1939', '1251', '2277', '1210', '0', '0', '15.3K', '0', '579', '0', '0', '3478', '0', '2044', '2276', '0', '68', '0', '0', '3201', '1327', '589', '834', '625', '0', '0', '263', '0', '1228', '0', '506', '22', '819', '1542', '0', '1652', '0', '0', '0', '0', '0', '0', '0', '0', '771', '1108', '1842', '0', '0', '0', '132', '40', '148', '168', '25', '214', '139', '2087', '971', '754', '354', '0', '0', '0', '0', '672', '0', '0', '0', '0', '0', '0', '0', '0', '0', '0', '0', '0', '202', '319', '0', '3628', '132', '722', '99', '222', '404', '88', '82', '429', '0', '201', '2448', '0', '3081', '0', '327', '469', '8586', '0', '0', '0', '0', '2327', '0', '145', '0', '0', '245', '0', '0', '938', '0', '544', '0', '117', '833', '677', '431', '0', '188', '0', '82', '2021', '1806', '1007', '64', '0', '0', '0', '0', '0', '0', '0', '0', '0', '0', '0', '0', '0', '0', '0', '0', '0', '0', '0', '0', '0', '0', '0', '0', '0', '0', '0', '0', '0', '0', '0', '0', '0', '0', '0', '0', '0', '0', '0', '0', '0', '0', '0', '0', '0', '0', '0', '0', '0', '0', '0', '0', '0', '0', '0', '0', '0', '0', '0', '0', '0', '0', '0', '0', '0', '0', '0', '0', '0', '0', '0', '0', '0', '1859', '3578', '2089', '2017', '0', '0', '643', '486', '0', '340', '0', '1979', '2096', '185', '0', '0', '195', '3788', '0', '444', '0', '0', '0', '0', '0', '0', '0', '0', '0', '0', '0', '0', '0', '0', '0', '0', '0', '0', '0', '0', '0', '0', '0', '0', '0', '0', '0', '0', '0', '0', '0', '563', '513', '0', '0', '0', '401', '0', '0', '166', '0', '981', '0', '2540', '0', '0', '0', '0', '0', '0', '0', '0', '0', '0', '1444', '540', '124', '0', '2890', '0', '374', '1086', '0', '0', '3271', '244', '80', '56', '0', '226', '227', '0', '0', '523', '0', '0', '8850', '0', '74', '816', '4224', '0', '0', '0', '386', '1371', '241', '55', '67', '256', '1869', '53', '1188', '294', '1187', '443', '0', '117', '0', '0', '3787', '0', '32', '0', '4579', '253', '680', '0', '3000', '3253', '2878', '0', '7272', '0', '0', '33.7K', '6026', '6222', '4236', '77', '1512', '968', '290', '0', '3637', '1947', '0', '1265', '699', '699', '0', '233', '0', '0', '0', '0', '0', '500', '0', '0', '0', '802', '0', '0', '155', '0', '0', '10.9K', '0', '4154', '316', '451', '0', '0', '1456', '221', '0', '1595', '0', '8379', '859', '1140', '0', '0', '0', '0', '0', '0', '0', '0', '0', '0', '53', '0', '0', '0', '0', '0', '38', '0', '0', '0', '0', '0', '0', '0', '0', '0', '0', '0', '0', '0', '0', '0', '0', '0', '0', '0', '0', '0', '0', '0', '0', '0', '0', '284', '75', '92', '5197', '600', '0', '0', '0', '0', '0', '0', '0', '0', '431', '0', '3658', '181', '2764', '849', '863', '0', '0', '0', '0', '0', '0', '0', '0', '0', '0', '0', '0', '0', '0', '0', '0', '0', '0', '0', '0', '0', '0', '0', '0', '0', '0', '1676', '1381', '0', '209', '387', '209', '979', '164', '66', '220', '0', '138', '0', '876', '0', '0', '0', '205', '0', '0', '0', '44', '0', '99', '286', '235', '479', '0', '62', '82', '55', '109', '23', '21', '0', '0', '0', '0', '0', '0', '0', '0', '0', '0', '0', '0', '452', '0', '0', '551', '1606', '585', '7822', '7253', '0', '0', '161', '152', '44', '99', '0', '52', '40', '0', '887', '217', '0', '0', '240', '0', '50', '2441', '579', '0', '252', '0', '184', '2879', '0', '152', '0', '0', '0', '0', '0', '0', '0', '0', '440', '0', '652', '74', '2492', '28', '0', '0', '0', '0', '0', '0', '0', '0', '0', '675', '38', '0', '237', '3416', '413', '0', '8165', '0', '190', '0', '514', '1815', '123', '0', '0', '0', '0', '181', '114', '6110', '0', '6096', '132', '118', '82', '0', '1037', '1015', '0', '0', '3628', '1587', '494', '0', '0', '0', '0', '0', '0', '0', '0', '1508', '0', '0', '0', '0', '1167', '243', '0', '0', '0', '30', '0', '0', '212', '0', '0', '0', '0', '315', '0', '0', '0', '0', '0', '136', '0', '0', '0', '0', '0', '0', '0', '0', '0', '0', '0', '0', '0', '0', '0', '0', '0', '356', '0', '0', '1834', '992', '1399', '746', '264', '0', '0', '1877', '1172', '1709', '1068', '3480', '4638', '554', '0', '164', '0', '0', '19', '0', '1994', '0', '190', '0', '148', '109', '144', '5646', '0', '51', '140', '0', '0', '0', '0', '0', '0', '0', '0', '0', '0', '0', '0', '0', '193', '0', '0', '491', '180', '0', '0', '0', '2454', '130', '25', '148', '528', '2812', '0', '202', '3418', '0', '5297', '0', '0', '0', '0', '0', '155', '1002', '245', '0', '0', '2482', '0', '0', '0', '4086', '1837', '0', '0', '6527', '1264', '3416', '0', '28', '728', '467', '3192', '5879', '0', '0', '749', '102', '624', '198', '3602', '1535', '1320', '111', '0', '0', '0', '196', '0', '0', '938', '678', '436', '0', '490', '0', '15.1K', '0', '95', '51', '0', '0', '0', '672', '464', '191', '25', '0', '1109', '303', '4141', '788', '30', '174', '83', '29', '504', '0', '1533', '1619', '7135', '21', '60', '0', '517', '451', '0', '291', '0', '0', '186', '21', '215', '0', '49', '82', '90', '48', '0', '0', '139', '0', '0', '0', '0', '0', '0', '3283', '0', '0', '253', '0', '420', '822', '0', '743', '1415', '574', '0', '305', '266', '616', '66', '1604', '937', '0', '1623', '0', '336', '0', '1994', '1806', '749', '3217', '6746', '0', '0', '0', '0', '0', '0', '0', '0', '1093', '0', '266', '4071', '3697', '227', '0', '1441', '0', '2258', '0', '0', '0', '3835', '0', '0', '0', '0', '0', '0', '0', '450', '0', '798', '0', '0', '122', '2245', '0', '173', '0', '592', '0', '7368', '6590', '0', '0', '3980', '519', '269', '0', '2252', '0', '30', '1522', '1949', '695', '0', '190', '756', '355', '651', '4235', '33', '0', '0', '0', '0', '0', '0', '0', '0', '107', '63', '0', '4451', '4684', '0', '0', '0', '0', '0', '101', '0', '0', '21', '100', '144', '1026', '777', '112', '2402', '130', '1565', '0', '1902', '100', '400', '0', '149', '2219', '0', '0', '496', '0', '0', '0', '0', '0', '0', '0', '0', '269', '0', '171', '0', '0', '0', '0', '0', '0', '20', '30', '0', '0', '0', '0', '0', '0', '0', '0', '0', '0', '0', '0', '0', '0', '0', '0', '0', '0', '0', '0', '0', '0', '0', '0', '0', '0', '0', '0', '0', '0', '0', '0', '0', '0', '0', '0', '0', '0', '0', '0', '0', '0', '43', '0', '0', '0', '0', '0', '0', '0', '0', '0', '53', '0', '0', '0', '4422', '1581', '0', '27', '0', '0', '0', '0', '0', '0', '0', '0', '0', '0', '0', '76', '0', '0', '0', '0', '0', '0', '0', '93', '0', '0', '0', '0', '0', '0', '0', '0', '0', '0', '0', '0', '0', '0', '130', '0', '0', '0', '0', '10.3K', '166', '31', '92', '7286', '350', '0', '280', '185', '2541', '0', '0', '699', '0', '0', '0', '0', '1200', '1541', '0', '1664', '96', '1215', '1365', '0', '32', '0', '0', '275', '0', '3872', '0', '188', '0', '750', '0', '0', '0', '0', '0', '0', '0', '0', '0', '14.4K', '0', '0', '0', '0', '0', '0', '0', '0', '0', '0', '0', '0', '0', '0', '0', '0', '0', '0', '0', '0', '0', '0', '0', '0', '0', '33', '125', '59', '0', '44', '0', '48', '128', '0', '0', '0', '0', '0', '0', '43', '0', '0', '0', '0', '0', '0', '0', '0', '0', '0', '0', '0', '0', '0', '0', '0', '0', '0', '0', '0', '0', '0', '0', '6915', '2241', '995', '49', '0', '90', '2411', '1058', '282', '49', '0', '0', '118', '0', '0', '0', '0', '0', '0', '0', '0', '0', '0', '0', '47', '0', '0', '2276', '475', '0', '0', '0', '0', '436', '0', '0', '0', '0', '0', '0', '886', '0', '0', '1163', '252', '203', '0', '0', '1298', '334', '0', '0', '884', '63', '0', '4881', '0', '0', '0', '0', '0', '0', '109', '0', '0', '0', '0', '0', '0', '0', '23', '0', '0', '3090', '42', '0', '0', '0', '0', '0', '77', '1859', '415', '0', '3725', '129', '144', '0', '1591', '0', '481', '309', '1099', '0', '114', '0', '0', '0', '0', '0', '0', '404', '1826', '0', '154', '0', '0', '0', '0', '0', '0', '0', '0', '0', '0', '0', '0', '0', '0', '0', '1413', '0', '110', '4743', '93', '192', '0', '0', '0', '0', '0', '0', '0', '0', '0', '0', '0', '0', '0', '0', '0', '0', '0', '0', '0', '0', '0', '0', '0', '1600', '0', '0', '0', '0', '228', '0', '0', '48', '0', '368', '0', '234', '662', '90', '11.8K', '0', '1596', '0', '972', '0', '32', '2070', '299', '0', '0', '2450', '3959', '0', '25', '0', '0', '0', '0', '0', '0', '0', '0', '0', '219', '481', '2158', '97', '5209', '95', '134', '0', '0', '0', '388', '98', '0', '0', '0', '503', '134', '0', '48', '0', '0', '0', '0', '0', '0', '157', '0', '362', '276', '437', '1253', '26', '1481', '3948', '110', '0', '0', '278', '748', '2989', '1663', '0', '1625', '0', '0', '0', '81', '777', '0', '0', '4746', '80', '1484', '0', '0', '0', '0', '0', '0', '0', '0', '0', '29', '0', '0', '0', '0', '2389', '48', '146', '0', '0', '0', '0', '0', '562', '1812', '100', '0', '0', '0', '0', '0', '421', '1232', '70', '3619', '81', '27', '276', '0', '338', '0', '337', '313', '181', '319', '0', '227', '0', '0', '0', '49', '210', '0', '386', '430', '205', '0', '437', '222', '0', '217', '243', '0', '222', '0', '0', '0', '222', '234', '120', '0', '0', '0', '0', '337', '0', '0', '339', '0', '342', '0', '91', '0', '29', '147', '0', '0', '221', '0', '0', '0', '50', '0', '0', '0', '0', '0', '0', '0', '0', '0', '0', '97', '101', '80', '0', '0', '0', '0', '0', '0', '0', '0', '0', '0', '0', '0', '0', '0', '0', '6889', '1014', '155', '1136', '0', '399', '694', '6886', '456', '1202', '517', '132', '348', '507', '692', '0', '561', '31', '0', '209', '6238', '0', '0', '0', '0', '0', '0', '0', '634', '2463', '64', '6295', '5238', '0', '394', '0', '0', '0', '173', '0', '0', '4931', '369', '59', '236', '0', '0', '0', '1094', '3662', '2551', '13.2K', '10.2K', '652', '601', '1447', '1235', '426', '45', '0', '0', '0', '0', '0', '0', '0', '0', '0', '0', '64', '0', '0', '0', '0', '111', '0', '25', '0', '0', '36', '2700', '0', '0', '0', '73', '249', '804', '0', '0', '5471', '0', '0', '68', '149', '1894', '0', '0', '1377', '1822', '0', '0', '0', '1917', '299', '0', '182', '0', '245', '0', '0', '0', '0', '0', '0', '0', '0', '0', '545', '0', '0', '0', '0', '999', '236', '223', '807', '101', '0', '0', '0', '0', '0', '0', '0', '0', '0', '0', '0', '0', '0', '0', '0', '0', '0', '0', '0', '0', '0', '0', '0', '0', '0', '0', '0', '0', '0', '0', '0', '0', '0', '0', '0', '0', '0', '0', '1902', '262', '839', '2019', '0', '772', '65', '98', '0', '293', '0', '37', '0', '0', '0', '0', '0', '77', '312', '22', '0', '0', '0', '46', '721', '0', '1715', '180', '57', '0', '0', '0', '0', '1487', '0', '560', '0', '77', '108', '1002', '13.5K', '443', '0', '2582', '65', '1427', '102', '0', '247', '69', '359', '0', '993', '0', '1104', '0', '0', '1814', '79', '600', '931', '379', '166', '0', '0', '0', '0', '681', '0', '0', '0', '0', '0', '0', '0', '0', '0', '0', '0', '163', '55', '891', '0', '0', '0', '0', '0', '0', '0', '0', '0', '0', '1865', '0', '1392', '2720', '0', '0', '68', '27', '506', '0', '0', '0', '0', '0', '0', '2136', '78', '0', '4502', '1039', '552', '0', '780', '420', '49', '959', '0', '118', '214', '0', '61', '0', '0', '0', '78', '0', '0', '0', '0', '0', '0', '0', '0', '0', '0', '46', '0', '65', '0', '31', '0', '3679', '113', '363', '1825', '0', '9743', '0', '0', '0', '0', '0', '0', '0', '0', '0', '0', '3740', '43', '3096', '3462', '0', '0', '33', '1422', '0', '376', '901', '192', '0', '496', '0', '111', '0', '50', '181', '346', '405', '0', '77', '0', '0', '0', '0', '55', '0', '0', '0', '0', '0', '0', '0', '0', '0', '0', '203', '0', '79', '0', '0', '0', '1110', '0', '1567', '0', '1748', '175', '4656', '1149', '2522', '0', '0', '23', '0', '0', '3177', '674', '305', '163', '462', '29', '0', '0', '0', '137', '0', '0', '0', '0', '0', '0', '0', '0', '0', '0', '0', '0', '0', '0', '0', '0', '0', '0', '0', '0', '0', '0', '29', '0', '0', '0', '0', '0', '0', '0', '0', '0', '0', '926', '0', '456', '6003', '0', '74', '216', '0', '444', '0', '0', '1139', '359', '46', '0', '126', '0', '0', '1105', '75', '45', '0', '0', '559', '139', '287', '804', '0', '0', '0', '0', '0', '231', '387', '1067', '595', '0', '135', '0', '0', '3580', '190', '0', '0', '254', '629', '287', '0', '0', '70', '25', '0', '0', '0', '4424', '0', '0', '0', '103', '257', '611', '3329', '0', '131', '250', '1288', '818', '0', '0', '0', '558', '0', '279', '44', '153', '5128', '60', '0', '418', '214', '0', '4504', '68', '0', '376', '1101', '0', '1201', '394', '0', '0', '352', '0', '250', '654', '0', '1275', '706', '0', '0', '511', '140', '0', '0', '0', '0', '0', '0', '0', '0', '0', '1737', '0', '3569', '1708', '384', '0', '812', '345', '0', '0', '665', '80', '154', '1160', '451', '470', '295', '1676', '88', '347', '0', '991', '156', '2498', '3128', '175', '1209', '1614', '0', '492', '17', '0', '0', '0', '0', '0', '894', '3225', '0', '0', '0', '0', '0', '2888', '6834', '0', '0', '32', '2564', '0', '0', '35', '2597', '108', '0', '3476', '2569', '0', '0', '4409', '687', '0', '1283', '3807', '1049', '1655', '0', '412', '0', '0', '908', '367', '0', '3459', '73', '0', '83', '5129', '1225', '581', '1154', '331', '3729', '1334', '426', '494', '195', '1663', '0', '29', '395', '33', '19', '0', '3083', '0', '556', '703', '0', '4012', '0', '0', '1353', '0', '0', '0', '0', '0', '0', '0', '0', '0', '0', '0', '0', '0', '0', '339', '505', '206', '56', '5214', '432', '203', '0', '1747', '0', '1715', '752', '0', '0', '0', '0', '0', '0', '0', '0', '0', '0', '0', '0', '0', '0', '475', '4690', '240', '257', '1489', '0', '1815', '60', '199', '199', '1539', '0', '26', '0', '0', '298', '184', '1866', '41', '79', '2615', '289', '775', '718', '0', '68', '169', '2018', '6869', '1580', '1428', '2989', '0', '0', '0', '0', '0', '163', '0', '0', '0', '0', '127', '361', '169', '0', '0', '0', '0', '0', '0', '0', '1222', '3133', '63', '907', '261', '189', '0', '3208', '0', '0', '5249', '119', '670', '0', '1053', '569', '0', '1867', '1063', '8956', '72', '1984', '175', '991', '61', '570', '0', '2608', '0', '257', '2451', '67', '3212', '149', '59', '242', '309', '259', '560', '304', '95', '0', '65', '71', '6673', '66', '0', '271', '65', '1123', '5085', '0', '2238', '3134', '1062', '90', '423', '0', '0', '0', '4726', '0', '148', '101', '557', '107', '222', '313', '0', '314', '159', '277', '355', '138', '92', '0', '842', '0', '22', '268', '496', '60', '3511', '0', '2066', '0', '0', '0', '847', '0', '0', '0', '0', '0', '0', '0', '0', '538', '315', '57', '0', '231', '1739', '0', '0', '0', '343', '3049', '1048', '0', '298', '0', '0', '237', '253', '0', '0', '439', '365']\n"
     ]
    }
   ],
   "source": [
    "print(x)\n",
    "    \n",
    "    "
   ]
  },
  {
   "cell_type": "code",
   "execution_count": 158,
   "metadata": {},
   "outputs": [],
   "source": [
    "cheap_rest.delivery_reviews= (cheap_rest.delivery_reviews.replace(r'[KM]+$', '',regex=True).astype(float) * \\\n",
    "cheap_rest.delivery_reviews.str.extract(r'[\\d\\.]+([KM]+)', expand=False).fillna(1).replace(['K','M'], [10**3, 10**6]).astype(int))\n"
   ]
  },
  {
   "cell_type": "code",
   "execution_count": null,
   "metadata": {},
   "outputs": [],
   "source": [
    "\n",
    "#'Defining a function to plot graphs for top 10 attributes'\n",
    "\n",
    "\n",
    "def bar_plot_h(cols, titles):\n",
    "    print(cols)\n",
    "    n=len(cols)\n",
    "    f, axes = plt.subplots(1, 2, figsize=(15, 7))\n",
    "    \n",
    "    for col, ax, i  in zip(cols, axes.flatten()[:n], range(0,n)):\n",
    "        zomato.loc[zomato['cuisine'].str.contains('Chinese,North Indian',  case=False), 'cuisine'] = \"Chinese,North Indian\"\n",
    "        c=zomato[col].value_counts()[:10]\n",
    "        \n",
    "        sns.barplot(c, c.index.str.rstrip(\",\") ,ax = ax, palette = 'Set2').set_title(titles[i])\n",
    "        'For showing values in barplot'\n",
    "        \n",
    "    \n",
    "       \n",
    "    \n",
    "bar_plot_h(['cuisine', 'liked'], [\"Cuisine liked by most PUNEKARS??? \", \"What do PUNEKARS love???\"])  \n"
   ]
  },
  {
   "cell_type": "code",
   "execution_count": null,
   "metadata": {},
   "outputs": [],
   "source": [
    "\n",
    "\n"
   ]
  }
 ],
 "metadata": {
  "kernelspec": {
   "display_name": "Python 3 (ipykernel)",
   "language": "python",
   "name": "python3"
  },
  "language_info": {
   "codemirror_mode": {
    "name": "ipython",
    "version": 3
   },
   "file_extension": ".py",
   "mimetype": "text/x-python",
   "name": "python",
   "nbconvert_exporter": "python",
   "pygments_lexer": "ipython3",
   "version": "3.9.7"
  }
 },
 "nbformat": 4,
 "nbformat_minor": 4
}
